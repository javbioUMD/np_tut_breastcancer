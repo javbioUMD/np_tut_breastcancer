{
  "nbformat": 4,
  "nbformat_minor": 0,
  "metadata": {
    "colab": {
      "name": "colab_wisconsin_breast_cancer_data.ipynb",
      "version": "0.3.2",
      "provenance": [],
      "private_outputs": true,
      "collapsed_sections": [],
      "include_colab_link": true
    },
    "language_info": {
      "codemirror_mode": {
        "name": "ipython",
        "version": 3
      },
      "file_extension": ".py",
      "mimetype": "text/x-python",
      "name": "python",
      "nbconvert_exporter": "python",
      "pygments_lexer": "ipython3",
      "version": "3.7.3"
    },
    "kernelspec": {
      "display_name": "Python 3",
      "language": "python",
      "name": "python3"
    }
  },
  "cells": [
    {
      "cell_type": "markdown",
      "metadata": {
        "id": "view-in-github",
        "colab_type": "text"
      },
      "source": [
        "<a href=\"https://colab.research.google.com/github/subhacom/np_tut_breastcancer/blob/master/colab_wisconsin_breast_cancer_data.ipynb\" target=\"_parent\"><img src=\"https://colab.research.google.com/assets/colab-badge.svg\" alt=\"Open In Colab\"/></a>"
      ]
    },
    {
      "cell_type": "markdown",
      "metadata": {
        "id": "ltELCUgWentm",
        "colab_type": "text"
      },
      "source": [
        "To navigate the entries using keyboard, press `down arrow` to go down and `up arrow` to go up."
      ]
    },
    {
      "cell_type": "code",
      "metadata": {
        "colab_type": "code",
        "id": "3hxJaho8rmEo",
        "colab": {}
      },
      "source": [
        "# These can be used for installing RISE for turning the slideshow  presentation \n",
        "# into a slide show\n",
        "\n",
        "# !pip install RISE\n",
        "# !jupyter-nbextension install rise --py --sys-prefix"
      ],
      "execution_count": 0,
      "outputs": []
    },
    {
      "cell_type": "code",
      "metadata": {
        "id": "evGYDHfPbhnI",
        "colab_type": "code",
        "colab": {}
      },
      "source": [
        "# This forces matplotlib plots to be displayed inline.\n",
        "# Otherwise you'll have to call plt.show() to make the plots visible\n",
        "\n",
        "%matplotlib inline"
      ],
      "execution_count": 0,
      "outputs": []
    },
    {
      "cell_type": "markdown",
      "metadata": {
        "colab_type": "text",
        "id": "u7g8f0Qcqsm1"
      },
      "source": [
        "# Using Jupyter\n"
      ]
    },
    {
      "cell_type": "markdown",
      "metadata": {
        "colab_type": "text",
        "id": "evX-HL5-qwKF"
      },
      "source": [
        "\n",
        "## What is Jupyter?\n",
        "From Jupyter home page: \"*... an open-source web application that allows you to create and share documents that contain live code, equations, visualizations and narrative text.*\""
      ]
    },
    {
      "cell_type": "markdown",
      "metadata": {
        "colab_type": "text",
        "id": "kgakezI7q1P2"
      },
      "source": [
        "## Pros and Cons of Python in Jupyter Notebook"
      ]
    },
    {
      "cell_type": "markdown",
      "metadata": {
        "colab_type": "text",
        "id": "rB8u04QFq4hi"
      },
      "source": [
        "### Pros:\n",
        "  - Literate programming - document code with a narrative\n",
        "  - Easily share online\n",
        "  - Good for data exploration"
      ]
    },
    {
      "cell_type": "markdown",
      "metadata": {
        "colab_type": "text",
        "id": "DFxoFzwzrG7E"
      },
      "source": [
        "### Cons:\n",
        "  - Not moduler (can be ... in a complicated way)\n",
        "  - Gets cumbersome quickly - especially when going back and forth\n",
        "  - Very basic code editor\n",
        " \n",
        "  \n",
        "  \n",
        "  "
      ]
    },
    {
      "cell_type": "markdown",
      "metadata": {
        "colab_type": "text",
        "id": "RPJxuHbZr3_m"
      },
      "source": [
        "**Spyder** - a Python IDE with matlab-like interface."
      ]
    },
    {
      "cell_type": "markdown",
      "metadata": {
        "colab_type": "text",
        "id": "nVN6EFJcseg5"
      },
      "source": [
        "## About Jupyter environments"
      ]
    },
    {
      "cell_type": "markdown",
      "metadata": {
        "id": "55FdtdWRbhoD",
        "colab_type": "text"
      },
      "source": [
        "- You can install Python/Jupyter on your own computer"
      ]
    },
    {
      "cell_type": "markdown",
      "metadata": {
        "id": "BHBxgFn_dA5f",
        "colab_type": "text"
      },
      "source": [
        "- Or you can use environments available on the cloud\n",
        "  - binder\n",
        "  - colaboratory\n",
        "  - kaggle\n",
        "  - azure"
      ]
    },
    {
      "cell_type": "markdown",
      "metadata": {
        "id": "wCAXRvgibhoO",
        "colab_type": "text"
      },
      "source": [
        "- See https://www.dataschool.io/cloud-services-for-jupyter-notebook/ for a comparison of some of the popular ones."
      ]
    },
    {
      "cell_type": "markdown",
      "metadata": {
        "id": "wgvSMrIPd2jJ",
        "colab_type": "text"
      },
      "source": [
        "#### Keyboard shortcurs:\n",
        " - If using `colab`, check `Tools` menu.\n",
        " - In `binder`, check `Help` menu."
      ]
    },
    {
      "cell_type": "markdown",
      "metadata": {
        "id": "ZllXJyuRbhoS",
        "colab_type": "text"
      },
      "source": [
        "## Local vs Cloud for Jupyter Notebooks"
      ]
    },
    {
      "cell_type": "markdown",
      "metadata": {
        "colab_type": "text",
        "id": "dVGMZGdcsj7X"
      },
      "source": [
        "### Pros of local environment\n",
        " 1. You have full control of the system\n",
        " 2. No time limit\n",
        " 3. No data limit - you can use your data on a local disk - no need to upload data\n",
        " 4. Full function of Jupyter notebooks \n",
        " 5. No security restrictions\n",
        "  \n"
      ]
    },
    {
      "cell_type": "markdown",
      "metadata": {
        "colab_type": "text",
        "id": "JJmY6YgAQCZP"
      },
      "source": [
        "\n",
        "### Cons of local environments\n",
        " 1. You have to set up and manage it\n",
        " 2. You are limited by the hardware you have (may be expensive)\n",
        " 3. Not the optimal use of resources\n",
        " 4. Not easy to access from elsewhere\n",
        " 5. Not easy to share and collaborate with others\n",
        " \n",
        "  \n"
      ]
    },
    {
      "cell_type": "markdown",
      "metadata": {
        "colab_type": "text",
        "id": "Dt_TDVK8soQG"
      },
      "source": [
        "## Jupyter basics"
      ]
    },
    {
      "cell_type": "markdown",
      "metadata": {
        "id": "GA6FQU2TfU-e",
        "colab_type": "text"
      },
      "source": [
        " - Cells: text boxes where you enter code or `markdown` text"
      ]
    },
    {
      "cell_type": "markdown",
      "metadata": {
        "id": "sM01kGLAfaV3",
        "colab_type": "text"
      },
      "source": [
        " - Cells are created as code cells by default, like the one below. You can press `Shift+Enter` to run the code and go to next cell."
      ]
    },
    {
      "cell_type": "code",
      "metadata": {
        "id": "kzsigih2bhol",
        "colab_type": "code",
        "colab": {}
      },
      "source": [
        "print('Hello world')"
      ],
      "execution_count": 0,
      "outputs": []
    },
    {
      "cell_type": "markdown",
      "metadata": {
        "id": "G6Q9CJPhiGnq",
        "colab_type": "text"
      },
      "source": [
        "- Contents of code cells are executed: they can be Python statements, magic commands or operating system commands."
      ]
    },
    {
      "cell_type": "markdown",
      "metadata": {
        "id": "gdgKVSzwfvl0",
        "colab_type": "text"
      },
      "source": [
        " - A code cell can be turned into markdown by pressing \n",
        "  - `Control+M` followed by `M` in `binder`\n",
        "  - `Escape` followed by `M` in Jupyte"
      ]
    },
    {
      "cell_type": "markdown",
      "metadata": {
        "id": "cM8E8_l5gQ6S",
        "colab_type": "text"
      },
      "source": [
        "This is a markdown cell. You can double click this cell or press `Enter` after selecting it in order to edit the contents.\n",
        "This applies to code cells, too.\n",
        "\n",
        "All the text in this notebook is markdown.\n",
        "\n",
        "You can learn more about how to write markdown text here: https://daringfireball.net/projects/markdown/basics"
      ]
    },
    {
      "cell_type": "markdown",
      "metadata": {
        "id": "LDoNU4x3ii8q",
        "colab_type": "text"
      },
      "source": [
        "- Code cells are indicated by an empty pair of brackets before them. You can also recognize them from syntax highlighting.\n",
        "- Keep pressing `Shift+Enter` to move down this notebook and run the code wherever appropriate."
      ]
    },
    {
      "cell_type": "code",
      "metadata": {
        "id": "Cv5U5ooZbho6",
        "colab_type": "code",
        "colab": {}
      },
      "source": [
        "message = 'Hello world'  # variable assignment\n",
        "print(message)   # function call, argument\n",
        "# `print` is a builtin function in Python - it is part of the Python interpreter"
      ],
      "execution_count": 0,
      "outputs": []
    },
    {
      "cell_type": "code",
      "metadata": {
        "id": "Z0Qtgx3-bhpJ",
        "colab_type": "code",
        "colab": {}
      },
      "source": [
        "print(f'Message: {message}')"
      ],
      "execution_count": 0,
      "outputs": []
    },
    {
      "cell_type": "markdown",
      "metadata": {
        "id": "xuX5adcqbhpZ",
        "colab_type": "text"
      },
      "source": [
        "- `f'text {variable} text'` is a new and convenient way of formatting strings in Python (version 3.6 onwards)."
      ]
    },
    {
      "cell_type": "markdown",
      "metadata": {
        "id": "Ec09RlnEbhpd",
        "colab_type": "text"
      },
      "source": [
        "- Magic commands: they are special commands available in Jupyter (they are not Python code, but they work in code cells). \n",
        "\n",
        "  For example:"
      ]
    },
    {
      "cell_type": "code",
      "metadata": {
        "id": "V9ha_6iCbhpi",
        "colab_type": "code",
        "colab": {}
      },
      "source": [
        "%ls"
      ],
      "execution_count": 0,
      "outputs": []
    },
    {
      "cell_type": "markdown",
      "metadata": {
        "id": "gR2ueTpybhpu",
        "colab_type": "text"
      },
      "source": [
        "- OS commands: you can run commands on your operating system (colab and binder are Unix-like environments, so they can take many Unix commands). Start them with \"`!`\".\n",
        " For example, you can print information about CPU of the system using the command below:"
      ]
    },
    {
      "cell_type": "code",
      "metadata": {
        "id": "_FGiukexbhpz",
        "colab_type": "code",
        "colab": {}
      },
      "source": [
        "!cat /proc/cpuinfo"
      ],
      "execution_count": 0,
      "outputs": []
    },
    {
      "cell_type": "markdown",
      "metadata": {
        "id": "DtVZeYooknBG",
        "colab_type": "text"
      },
      "source": [
        "- Press `Control+s` to save and checkpoint the notebook in `binder` or local Jupyter.  \n",
        " - When you do this Jupyter creates a hidden file for you containing the current state of the notebook.\n",
        " - If you mess up, you can go back to the last checkpoint using `File->Revert to checkpoint` in Jupyter menu.\n",
        "  - `colab` keeps version info like other google docs."
      ]
    },
    {
      "cell_type": "markdown",
      "metadata": {
        "id": "lW883mfglsgg",
        "colab_type": "text"
      },
      "source": [
        "- The native file format for Jupyter notebooks is ipython notebook format. The extension is `.ipynb`.\n",
        "- You can download your edited notebook from the `File` menu."
      ]
    },
    {
      "cell_type": "markdown",
      "metadata": {
        "colab_type": "text",
        "id": "nQt18LU9Peed"
      },
      "source": [
        "#### Pause here: Exercise\n",
        "  1. create a cell\n",
        "  1. convert it to mark down\n",
        "  1. create another cell below\n",
        "  1. type a valid expression: e.g. (2 + 3)\n",
        "  1. execute the cell in place\n",
        "  1. execute and insert a new cell below and move to it\n",
        "  1. insert a cell above\n",
        "  1. execute and move to next cell\n",
        "  \n",
        "  "
      ]
    },
    {
      "cell_type": "markdown",
      "metadata": {
        "colab_type": "text",
        "id": "WgOrXZ1HjyYY"
      },
      "source": [
        "# Tutorial on using numpy and matplotlib"
      ]
    },
    {
      "cell_type": "markdown",
      "metadata": {
        "colab_type": "text",
        "id": "3zGrJdPej9MQ"
      },
      "source": [
        "Import required libraries (modules). The first two are part of Python Standard Library."
      ]
    },
    {
      "cell_type": "code",
      "metadata": {
        "colab_type": "code",
        "id": "Ei8lfdKkABLH",
        "colab": {}
      },
      "source": [
        "import io          # provides `StringIO` mimicking a file from a string\n",
        "import requests    # for accessing HTTP resources"
      ],
      "execution_count": 0,
      "outputs": []
    },
    {
      "cell_type": "markdown",
      "metadata": {
        "colab_type": "text",
        "id": "pBM4ePhP6pFz"
      },
      "source": [
        "- `numpy`, `pandas` and `matplotlib` are third-party libraries\n",
        "- installed separately from `Python` \n",
        "- **Anaconda** python distribution - bundles most common scientific libraries"
      ]
    },
    {
      "cell_type": "code",
      "metadata": {
        "colab_type": "code",
        "id": "iuZE-dRe6pF_",
        "colab": {}
      },
      "source": [
        "import numpy as np  # create a shorter alias `np` for numpy"
      ],
      "execution_count": 0,
      "outputs": []
    },
    {
      "cell_type": "code",
      "metadata": {
        "id": "ko04w1S7bhql",
        "colab_type": "code",
        "colab": {}
      },
      "source": [
        "import pandas as pd"
      ],
      "execution_count": 0,
      "outputs": []
    },
    {
      "cell_type": "code",
      "metadata": {
        "id": "lfry5wJqvfYi",
        "colab_type": "code",
        "colab": {}
      },
      "source": [
        "from matplotlib import pyplot as plt"
      ],
      "execution_count": 0,
      "outputs": []
    },
    {
      "cell_type": "markdown",
      "metadata": {
        "colab_type": "text",
        "id": "wt0t437PGT6r"
      },
      "source": [
        "## Homogeneous arrays in `numpy`"
      ]
    },
    {
      "cell_type": "markdown",
      "metadata": {
        "id": "ztqNYkNOjzmZ",
        "colab_type": "text"
      },
      "source": [
        "An array all whose elements are of the same type."
      ]
    },
    {
      "cell_type": "markdown",
      "metadata": {
        "id": "VJkZsDjYbhqx",
        "colab_type": "text"
      },
      "source": [
        "### Basic operations"
      ]
    },
    {
      "cell_type": "code",
      "metadata": {
        "colab_type": "code",
        "id": "T14df3-EGffQ",
        "colab": {}
      },
      "source": [
        "myarray = np.array([1, 2, 3])   # `[1, 2, 3]` is a `list`"
      ],
      "execution_count": 0,
      "outputs": []
    },
    {
      "cell_type": "code",
      "metadata": {
        "colab_type": "code",
        "id": "uMVMoPafGi5c",
        "colab": {}
      },
      "source": [
        "print(myarray)"
      ],
      "execution_count": 0,
      "outputs": []
    },
    {
      "cell_type": "code",
      "metadata": {
        "colab_type": "code",
        "id": "sAwLNePDGlZH",
        "colab": {}
      },
      "source": [
        "myarray   # this may display more info than print\n",
        "# but it works in interactive session\n",
        "# it will not work inside a script"
      ],
      "execution_count": 0,
      "outputs": []
    },
    {
      "cell_type": "markdown",
      "metadata": {
        "colab_type": "text",
        "id": "e244GEgfG6U8"
      },
      "source": [
        "### Multi-dimensional arrays"
      ]
    },
    {
      "cell_type": "code",
      "metadata": {
        "colab_type": "code",
        "id": "kx40Kop9G_18",
        "colab": {}
      },
      "source": [
        "myarray2 = np.array([[1, 2, 3, 4], \n",
        "                     [5, 6, 7, 8]])\n",
        "# you could write that in one line \n",
        "# I broke it up for readability"
      ],
      "execution_count": 0,
      "outputs": []
    },
    {
      "cell_type": "code",
      "metadata": {
        "colab_type": "code",
        "id": "QudEGCrXHMmW",
        "colab": {}
      },
      "source": [
        "myarray2"
      ],
      "execution_count": 0,
      "outputs": []
    },
    {
      "cell_type": "code",
      "metadata": {
        "colab_type": "code",
        "id": "ED30URK_QCbu",
        "colab": {}
      },
      "source": [
        "myarray2.shape"
      ],
      "execution_count": 0,
      "outputs": []
    },
    {
      "cell_type": "code",
      "metadata": {
        "colab_type": "code",
        "id": "D2FukIe0QCb6",
        "colab": {}
      },
      "source": [
        "len(myarray2)"
      ],
      "execution_count": 0,
      "outputs": []
    },
    {
      "cell_type": "code",
      "metadata": {
        "colab_type": "code",
        "id": "E0UMWVVGHPEG",
        "colab": {}
      },
      "source": [
        "myarray2.T   # Matrix transpose, i.e. rows become columns and vice versa"
      ],
      "execution_count": 0,
      "outputs": []
    },
    {
      "cell_type": "markdown",
      "metadata": {
        "colab_type": "text",
        "id": "L2a9snv1HULR"
      },
      "source": [
        "### Element-wise arithmetic on arrays"
      ]
    },
    {
      "cell_type": "markdown",
      "metadata": {
        "id": "dFn8VgZInPF5",
        "colab_type": "text"
      },
      "source": [
        "- Operations with scalars are applied to each element in an array"
      ]
    },
    {
      "cell_type": "code",
      "metadata": {
        "colab_type": "code",
        "id": "ygci-OKpHZui",
        "colab": {}
      },
      "source": [
        "2 * myarray"
      ],
      "execution_count": 0,
      "outputs": []
    },
    {
      "cell_type": "code",
      "metadata": {
        "colab_type": "code",
        "id": "pn8XAdDBHeYb",
        "colab": {}
      },
      "source": [
        "2**myarray"
      ],
      "execution_count": 0,
      "outputs": []
    },
    {
      "cell_type": "code",
      "metadata": {
        "colab_type": "code",
        "id": "MIpRnfh3Hgx8",
        "colab": {}
      },
      "source": [
        "0.5 * myarray2"
      ],
      "execution_count": 0,
      "outputs": []
    },
    {
      "cell_type": "code",
      "metadata": {
        "colab_type": "code",
        "id": "XrkhZHApHkU8",
        "colab": {}
      },
      "source": [
        "myarray2**2"
      ],
      "execution_count": 0,
      "outputs": []
    },
    {
      "cell_type": "code",
      "metadata": {
        "colab_type": "code",
        "id": "_Qe2e2g6HwBz",
        "colab": {}
      },
      "source": [
        "myarray2 + 2"
      ],
      "execution_count": 0,
      "outputs": []
    },
    {
      "cell_type": "code",
      "metadata": {
        "colab_type": "code",
        "id": "udV44WB0HpcF",
        "colab": {}
      },
      "source": [
        "print(f'Shape of first array: {myarray.shape}, second array: {myarray2.shape}')\n",
        "x = myarray + myarray2\n",
        "print(f'Sum: {x}')"
      ],
      "execution_count": 0,
      "outputs": []
    },
    {
      "cell_type": "markdown",
      "metadata": {
        "colab_type": "text",
        "id": "mG0xgEA9BKok"
      },
      "source": [
        "#### Pause here: You just encountered Python's error handling mechanism!\n",
        "- Can you relate to your experience with errors in other languages?\n",
        "- Go back and change `myarray` to a 4 element array, a 2 element array\n"
      ]
    },
    {
      "cell_type": "markdown",
      "metadata": {
        "colab_type": "text",
        "id": "we5AQkwj-rdl"
      },
      "source": [
        "### Other ways of creating arrays\n",
        " - These are inspired by MATLAB"
      ]
    },
    {
      "cell_type": "code",
      "metadata": {
        "colab_type": "code",
        "id": "gU5V7YH1-8Pn",
        "colab": {}
      },
      "source": [
        "a0 = np.zeros((4, 5))"
      ],
      "execution_count": 0,
      "outputs": []
    },
    {
      "cell_type": "code",
      "metadata": {
        "colab_type": "code",
        "id": "_qcKH4Z0_HZL",
        "colab": {}
      },
      "source": [
        "a0"
      ],
      "execution_count": 0,
      "outputs": []
    },
    {
      "cell_type": "code",
      "metadata": {
        "colab_type": "code",
        "id": "2k0Zg9eD_JX5",
        "colab": {}
      },
      "source": [
        "a1 = np.ones((4, 5))"
      ],
      "execution_count": 0,
      "outputs": []
    },
    {
      "cell_type": "code",
      "metadata": {
        "colab_type": "code",
        "id": "u6Nu5qq0_NDd",
        "colab": {}
      },
      "source": [
        "a1"
      ],
      "execution_count": 0,
      "outputs": []
    },
    {
      "cell_type": "code",
      "metadata": {
        "colab_type": "code",
        "id": "U7XRJqe9_Pcb",
        "colab": {}
      },
      "source": [
        "ai = np.eye(4)   # NxN identity matrix"
      ],
      "execution_count": 0,
      "outputs": []
    },
    {
      "cell_type": "code",
      "metadata": {
        "colab_type": "code",
        "id": "4vB73Rko_knd",
        "colab": {}
      },
      "source": [
        "ai"
      ],
      "execution_count": 0,
      "outputs": []
    },
    {
      "cell_type": "markdown",
      "metadata": {
        "id": "r_mmn43Jbhtz",
        "colab_type": "text"
      },
      "source": [
        "#### Arrays containing range of values"
      ]
    },
    {
      "cell_type": "code",
      "metadata": {
        "colab_type": "code",
        "id": "MkfD9ef8_rPM",
        "colab": {}
      },
      "source": [
        "a2 = np.arange(3.0, 8.0, 2.0)  \n",
        "# array of numbers starting with 3.0, at increments of 2.0, less than 8.0"
      ],
      "execution_count": 0,
      "outputs": []
    },
    {
      "cell_type": "code",
      "metadata": {
        "colab_type": "code",
        "id": "hPRWGNAr_zo5",
        "colab": {}
      },
      "source": [
        "a2"
      ],
      "execution_count": 0,
      "outputs": []
    },
    {
      "cell_type": "code",
      "metadata": {
        "colab_type": "code",
        "id": "94COGBB-_2aK",
        "colab": {}
      },
      "source": [
        "a3 = np.linspace(2, 7, 3)    \n",
        "# split 2-7 into 3 equal parts, including 2 and 7"
      ],
      "execution_count": 0,
      "outputs": []
    },
    {
      "cell_type": "code",
      "metadata": {
        "colab_type": "code",
        "id": "U2JSTw3u_6wv",
        "colab": {}
      },
      "source": [
        "a3"
      ],
      "execution_count": 0,
      "outputs": []
    },
    {
      "cell_type": "markdown",
      "metadata": {
        "id": "8c_ejTyLbhuX",
        "colab_type": "text"
      },
      "source": [
        "#### Array with random numbers"
      ]
    },
    {
      "cell_type": "code",
      "metadata": {
        "colab_type": "code",
        "id": "youfjseJAXTc",
        "colab": {}
      },
      "source": [
        "a4 = np.random.rand(3, 4)"
      ],
      "execution_count": 0,
      "outputs": []
    },
    {
      "cell_type": "code",
      "metadata": {
        "colab_type": "code",
        "id": "dk3v2rCtAqa-",
        "colab": {}
      },
      "source": [
        "a4"
      ],
      "execution_count": 0,
      "outputs": []
    },
    {
      "cell_type": "markdown",
      "metadata": {
        "colab_type": "text",
        "id": "AvmjLbj9AxjQ"
      },
      "source": [
        "### Reshaping"
      ]
    },
    {
      "cell_type": "code",
      "metadata": {
        "colab_type": "code",
        "id": "JITDe0tuA12-",
        "colab": {}
      },
      "source": [
        "a4 = np.arange(12)\n",
        "a4"
      ],
      "execution_count": 0,
      "outputs": []
    },
    {
      "cell_type": "code",
      "metadata": {
        "id": "A0UJd5A_pZZ6",
        "colab_type": "code",
        "colab": {}
      },
      "source": [
        "\n",
        "a4.shape"
      ],
      "execution_count": 0,
      "outputs": []
    },
    {
      "cell_type": "code",
      "metadata": {
        "colab_type": "code",
        "id": "rTMwdK0WA5F-",
        "colab": {}
      },
      "source": [
        "a4.reshape(3, 4)"
      ],
      "execution_count": 0,
      "outputs": []
    },
    {
      "cell_type": "markdown",
      "metadata": {
        "colab_type": "text",
        "id": "qC90PJthYB0A"
      },
      "source": [
        "#### Pause here\n",
        " - What other shapes can you think of?"
      ]
    },
    {
      "cell_type": "code",
      "metadata": {
        "colab_type": "code",
        "id": "G-pI2WZaA9In",
        "colab": {}
      },
      "source": [
        "a4.reshape(2, 2, 3)"
      ],
      "execution_count": 0,
      "outputs": []
    },
    {
      "cell_type": "markdown",
      "metadata": {
        "colab_type": "text",
        "id": "MvUTKnkFQCdP"
      },
      "source": [
        "### Slicing and indexing\n",
        "  - Unlike R and MATLAB, Python indexing starts at 0"
      ]
    },
    {
      "cell_type": "code",
      "metadata": {
        "id": "Oq1g_LULpnkm",
        "colab_type": "code",
        "colab": {}
      },
      "source": [
        "myarray2"
      ],
      "execution_count": 0,
      "outputs": []
    },
    {
      "cell_type": "code",
      "metadata": {
        "colab_type": "code",
        "id": "6Aj-IvIyQCdR",
        "colab": {}
      },
      "source": [
        "myarray2[0, 0]"
      ],
      "execution_count": 0,
      "outputs": []
    },
    {
      "cell_type": "markdown",
      "metadata": {
        "colab_type": "text",
        "id": "wk4p0s0dX3O3"
      },
      "source": [
        "#### You can slice and dice an array"
      ]
    },
    {
      "cell_type": "code",
      "metadata": {
        "id": "JxygB4P9bhvq",
        "colab_type": "code",
        "colab": {}
      },
      "source": [
        "myarray = np.arange(10)\n",
        "myarray"
      ],
      "execution_count": 0,
      "outputs": []
    },
    {
      "cell_type": "markdown",
      "metadata": {
        "id": "2tyveFYgp0B5",
        "colab_type": "text"
      },
      "source": [
        "  - `a[start:stop:step]`  "
      ]
    },
    {
      "cell_type": "code",
      "metadata": {
        "id": "JJ-YUpp3bhv3",
        "colab_type": "code",
        "colab": {}
      },
      "source": [
        "myarray[1:8:2]"
      ],
      "execution_count": 0,
      "outputs": []
    },
    {
      "cell_type": "markdown",
      "metadata": {
        "id": "4RcY4J-zp3G8",
        "colab_type": "text"
      },
      "source": [
        "  - `a[start:stop]` - `step` defaults to `1`, i.e. shortcut for `a[start:stop:1]`"
      ]
    },
    {
      "cell_type": "code",
      "metadata": {
        "id": "YPPm7NVZbhwD",
        "colab_type": "code",
        "colab": {}
      },
      "source": [
        "myarray[1:5]"
      ],
      "execution_count": 0,
      "outputs": []
    },
    {
      "cell_type": "markdown",
      "metadata": {
        "id": "3ykmhlZrp-g9",
        "colab_type": "text"
      },
      "source": [
        "  - `a[start:]` - `stop` defaults to end of array"
      ]
    },
    {
      "cell_type": "code",
      "metadata": {
        "id": "UVkvD8ohbhwP",
        "colab_type": "code",
        "colab": {}
      },
      "source": [
        "myarray[5:]"
      ],
      "execution_count": 0,
      "outputs": []
    },
    {
      "cell_type": "markdown",
      "metadata": {
        "id": "0T3NG8giqDEM",
        "colab_type": "text"
      },
      "source": [
        "  - `a[:stop]` - `start` defaults to start of array"
      ]
    },
    {
      "cell_type": "code",
      "metadata": {
        "id": "xwA2JJd-bhwc",
        "colab_type": "code",
        "colab": {}
      },
      "source": [
        "myarray[:5]"
      ],
      "execution_count": 0,
      "outputs": []
    },
    {
      "cell_type": "markdown",
      "metadata": {
        "id": "j7PAExL0qJCb",
        "colab_type": "text"
      },
      "source": [
        "  - `a[:]` - view of the whole array"
      ]
    },
    {
      "cell_type": "code",
      "metadata": {
        "colab_type": "code",
        "id": "0-xTpWAhQCdW",
        "colab": {}
      },
      "source": [
        "myarray[:]"
      ],
      "execution_count": 0,
      "outputs": []
    },
    {
      "cell_type": "markdown",
      "metadata": {
        "id": "-7q-qIaFbhwn",
        "colab_type": "text"
      },
      "source": [
        "- For multidimensional arrays each dimension can be sliced "
      ]
    },
    {
      "cell_type": "code",
      "metadata": {
        "id": "C6gv7RpJbhwo",
        "colab_type": "code",
        "colab": {}
      },
      "source": [
        "myarray2 = np.arange(100).reshape(10, 10)\n",
        "myarray2"
      ],
      "execution_count": 0,
      "outputs": []
    },
    {
      "cell_type": "code",
      "metadata": {
        "colab_type": "code",
        "id": "b5rsp5TaUa2Y",
        "scrolled": true,
        "colab": {}
      },
      "source": [
        "myarray2[:, 1]"
      ],
      "execution_count": 0,
      "outputs": []
    },
    {
      "cell_type": "code",
      "metadata": {
        "colab_type": "code",
        "id": "WVNl8N40QCdi",
        "colab": {}
      },
      "source": [
        "myarray2[4, ::2]"
      ],
      "execution_count": 0,
      "outputs": []
    },
    {
      "cell_type": "code",
      "metadata": {
        "colab_type": "code",
        "id": "gMzfqulYQCdv",
        "colab": {}
      },
      "source": [
        "myarray2[5:, ::2]"
      ],
      "execution_count": 0,
      "outputs": []
    },
    {
      "cell_type": "markdown",
      "metadata": {
        "colab_type": "text",
        "id": "aQIQPj0ZQCd8"
      },
      "source": [
        "### Assign element values"
      ]
    },
    {
      "cell_type": "code",
      "metadata": {
        "id": "z2nyZCdhbhxB",
        "colab_type": "code",
        "colab": {}
      },
      "source": [
        "myarray2 = np.arange(25).reshape(5, 5)\n",
        "myarray2"
      ],
      "execution_count": 0,
      "outputs": []
    },
    {
      "cell_type": "code",
      "metadata": {
        "colab_type": "code",
        "id": "0Ua_ZLyzQCd_",
        "colab": {}
      },
      "source": [
        "myarray2[0, 0] = -10"
      ],
      "execution_count": 0,
      "outputs": []
    },
    {
      "cell_type": "code",
      "metadata": {
        "colab_type": "code",
        "id": "A3DVWoGlQCeP",
        "colab": {}
      },
      "source": [
        "myarray2"
      ],
      "execution_count": 0,
      "outputs": []
    },
    {
      "cell_type": "code",
      "metadata": {
        "colab_type": "code",
        "id": "jDeRHVJNQCeW",
        "colab": {}
      },
      "source": [
        "myarray2[:, 0] = -1  # broadcast"
      ],
      "execution_count": 0,
      "outputs": []
    },
    {
      "cell_type": "code",
      "metadata": {
        "colab_type": "code",
        "id": "mBTAuJsuQCed",
        "colab": {}
      },
      "source": [
        "myarray2"
      ],
      "execution_count": 0,
      "outputs": []
    },
    {
      "cell_type": "markdown",
      "metadata": {
        "colab_type": "text",
        "id": "ylhq3KzjXKT2"
      },
      "source": [
        "#### Pause here\n",
        " - How will you set all of first row to 0?\n",
        " - How will you set every other column to 0?"
      ]
    },
    {
      "cell_type": "markdown",
      "metadata": {
        "colab_type": "text",
        "id": "saSDMJy1IPZs"
      },
      "source": [
        "### Check conditions on array elements\n"
      ]
    },
    {
      "cell_type": "markdown",
      "metadata": {
        "colab_type": "text",
        "id": "fF2-ZWMxA4ge"
      },
      "source": [
        "#### Condition check in simple Python"
      ]
    },
    {
      "cell_type": "markdown",
      "metadata": {
        "id": "CbY3IiBjbhxj",
        "colab_type": "text"
      },
      "source": [
        "```python\n",
        "\n",
        "if a < 0:\n",
        "  print('a is negative')\n",
        "```"
      ]
    },
    {
      "cell_type": "markdown",
      "metadata": {
        "id": "ED6eZBd3bhxk",
        "colab_type": "text"
      },
      "source": [
        "---\n",
        "```python\n",
        "\n",
        "if a < 0:\n",
        "  print('a is negative')\n",
        "else:\n",
        "  print('not negative')\n",
        "  ```"
      ]
    },
    {
      "cell_type": "markdown",
      "metadata": {
        "id": "7OoMT5isbhxl",
        "colab_type": "text"
      },
      "source": [
        "---\n",
        "```python\n",
        "\n",
        "if a < 0:\n",
        "  print('a is negative')\n",
        "elif a > 0:\n",
        "  print('a is positive')\n",
        "else:\n",
        "  print('a == 0')\n",
        "  ```\n",
        "  You can put as many `elif`s as you need."
      ]
    },
    {
      "cell_type": "markdown",
      "metadata": {
        "colab_type": "text",
        "id": "o0fZ5GZFVIbP"
      },
      "source": [
        "#### Array comparison and boolean arrays\n",
        "\n",
        "\n"
      ]
    },
    {
      "cell_type": "code",
      "metadata": {
        "colab_type": "code",
        "id": "DVYM3ZARIiXl",
        "colab": {}
      },
      "source": [
        "myarray = np.array([1, 2, 3, 4])\n",
        "myarray > 2"
      ],
      "execution_count": 0,
      "outputs": []
    },
    {
      "cell_type": "markdown",
      "metadata": {
        "colab_type": "text",
        "id": "R09g84zpVZo_"
      },
      "source": [
        "#### Functions for condition check"
      ]
    },
    {
      "cell_type": "code",
      "metadata": {
        "colab_type": "code",
        "id": "BrXyAsXMIyRH",
        "colab": {}
      },
      "source": [
        "np.nonzero(myarray > 2)"
      ],
      "execution_count": 0,
      "outputs": []
    },
    {
      "cell_type": "code",
      "metadata": {
        "colab_type": "code",
        "id": "4JaWGd9wIqnD",
        "colab": {}
      },
      "source": [
        "np.where(myarray > 2)"
      ],
      "execution_count": 0,
      "outputs": []
    },
    {
      "cell_type": "markdown",
      "metadata": {
        "id": "KRsToaPzq8Qj",
        "colab_type": "text"
      },
      "source": [
        "- `nonzero` and `where` returns the indices of the nonzero elements. `False` is numerically `0` in Python."
      ]
    },
    {
      "cell_type": "code",
      "metadata": {
        "colab_type": "code",
        "id": "2IJW_rhzVv7U",
        "colab": {}
      },
      "source": [
        "myarray2 = np.arange(9).reshape(3,3)\n",
        "myarray2"
      ],
      "execution_count": 0,
      "outputs": []
    },
    {
      "cell_type": "code",
      "metadata": {
        "colab_type": "code",
        "id": "S9rtiEEMQCfK",
        "colab": {}
      },
      "source": [
        "np.nonzero(myarray2 > 3)"
      ],
      "execution_count": 0,
      "outputs": []
    },
    {
      "cell_type": "code",
      "metadata": {
        "colab_type": "code",
        "id": "pz2OC8wBJFqL",
        "colab": {}
      },
      "source": [
        "np.where(myarray2 > 3)"
      ],
      "execution_count": 0,
      "outputs": []
    },
    {
      "cell_type": "markdown",
      "metadata": {
        "id": "Ym9TecrkrMrg",
        "colab_type": "text"
      },
      "source": [
        "- For 2 or more dimensional arrays, these function return the indices on first dimension, followed by the second dimension, etc., of nonzero elements."
      ]
    },
    {
      "cell_type": "code",
      "metadata": {
        "colab_type": "code",
        "id": "gwXmFQH-JJjn",
        "colab": {}
      },
      "source": [
        "np.where(myarray2 > 3, 'X', 'Y')"
      ],
      "execution_count": 0,
      "outputs": []
    },
    {
      "cell_type": "markdown",
      "metadata": {
        "colab_type": "text",
        "id": "4e1BwL19JiTa"
      },
      "source": [
        "#### Pause here: Check the documentation on `where`"
      ]
    },
    {
      "cell_type": "markdown",
      "metadata": {
        "colab_type": "text",
        "id": "EL3TmFvdQCff"
      },
      "source": [
        "## Array of heterogeneous data\n",
        "#### Pause here: let us discuss data types\n",
        "- Anybody noticed `dtype` so far?\n",
        "- What are data types?\n",
        "- What are some of the  data types in Python?\n"
      ]
    },
    {
      "cell_type": "code",
      "metadata": {
        "colab_type": "code",
        "id": "hA0eZjz6QCfh",
        "colab": {}
      },
      "source": [
        "harray = np.array([(1, 's', 3.14)])"
      ],
      "execution_count": 0,
      "outputs": []
    },
    {
      "cell_type": "code",
      "metadata": {
        "colab_type": "code",
        "id": "faAQGQ4vQCfq",
        "colab": {}
      },
      "source": [
        "harray"
      ],
      "execution_count": 0,
      "outputs": []
    },
    {
      "cell_type": "code",
      "metadata": {
        "colab_type": "code",
        "id": "cvLfLlSOQCft",
        "colab": {}
      },
      "source": [
        "harray = np.array([(1, 's', 3.14)], dtype=[('a', 'i8'), ('b', 'S1'), ('c', 'f4')])"
      ],
      "execution_count": 0,
      "outputs": []
    },
    {
      "cell_type": "code",
      "metadata": {
        "colab_type": "code",
        "id": "hF-OiksUQCfy",
        "colab": {}
      },
      "source": [
        "harray['a']"
      ],
      "execution_count": 0,
      "outputs": []
    },
    {
      "cell_type": "code",
      "metadata": {
        "colab_type": "code",
        "id": "Rzgjg_YyQCgA",
        "colab": {}
      },
      "source": [
        "harray[['a', 'b']]"
      ],
      "execution_count": 0,
      "outputs": []
    },
    {
      "cell_type": "markdown",
      "metadata": {
        "colab_type": "text",
        "id": "oD7AHSQPkEBF"
      },
      "source": [
        "## Using real data\n",
        "We shall use data from the Wisconsin breast cancer database available online."
      ]
    },
    {
      "cell_type": "code",
      "metadata": {
        "colab_type": "code",
        "id": "1t-9ikHbCh92",
        "colab": {}
      },
      "source": [
        "data_url = 'http://archive.ics.uci.edu/ml/machine-learning-databases/breast-cancer-wisconsin/breast-cancer-wisconsin.data'\n",
        "attr_url = 'http://archive.ics.uci.edu/ml/machine-learning-databases/breast-cancer-wisconsin/breast-cancer-wisconsin.names'"
      ],
      "execution_count": 0,
      "outputs": []
    },
    {
      "cell_type": "markdown",
      "metadata": {
        "colab_type": "text",
        "id": "PzKSwY_4kPvS"
      },
      "source": [
        "- Information about the data is available in internet location referred to in `attr_url`.\n",
        "- In human-readable plain text format. \n",
        "- We shall retrieve this using `http` protocol via functions in the `requests` library. \n",
        "- If working on a local computer, we could just download the file manually."
      ]
    },
    {
      "cell_type": "code",
      "metadata": {
        "colab_type": "code",
        "id": "d_1rGoGsCyvd",
        "colab": {}
      },
      "source": [
        "attrs = requests.get(attr_url)"
      ],
      "execution_count": 0,
      "outputs": []
    },
    {
      "cell_type": "markdown",
      "metadata": {
        "colab_type": "text",
        "id": "h2Y1fQoMDStj"
      },
      "source": [
        "Skim through the attributes. The data is meaningless jumble of numbers without some of this information (metadata) Pay attention to 5-8."
      ]
    },
    {
      "cell_type": "code",
      "metadata": {
        "colab_type": "code",
        "id": "c6SgqHLYDI0H",
        "colab": {}
      },
      "source": [
        "print(attrs.content.decode('utf-8'))"
      ],
      "execution_count": 0,
      "outputs": []
    },
    {
      "cell_type": "markdown",
      "metadata": {
        "colab_type": "text",
        "id": "xxRQaGUbliQw"
      },
      "source": [
        "Retrieve the data from the web server into a string."
      ]
    },
    {
      "cell_type": "code",
      "metadata": {
        "colab_type": "code",
        "id": "SPJCGXr0DK_D",
        "colab": {}
      },
      "source": [
        "data_str = requests.get(data_url).content.decode('utf-8')"
      ],
      "execution_count": 0,
      "outputs": []
    },
    {
      "cell_type": "code",
      "metadata": {
        "colab_type": "code",
        "id": "uMKMLdOxD0He",
        "colab": {}
      },
      "source": [
        "print(data_str[:100])"
      ],
      "execution_count": 0,
      "outputs": []
    },
    {
      "cell_type": "code",
      "metadata": {
        "colab_type": "code",
        "id": "cPtWM3nrEQU2",
        "colab": {}
      },
      "source": [
        "type(data_str)   # get the data type of the argument"
      ],
      "execution_count": 0,
      "outputs": []
    },
    {
      "cell_type": "markdown",
      "metadata": {
        "colab_type": "text",
        "id": "fRhJtYFumLRi"
      },
      "source": [
        "### Read the data into a numpy array.\n",
        "- With `python` on local computer, you could simply download the data file manually and load it from local disk like: \n",
        "\n",
        "    `np.loadtxt(filename, other arguments)`\n",
        "\n",
        "    or\n",
        "\n",
        "    `np.genfromtext(filename, other arguments)`. "
      ]
    },
    {
      "cell_type": "markdown",
      "metadata": {
        "id": "avO3VlrjryCh",
        "colab_type": "text"
      },
      "source": [
        "- But we need to mimic a file with a string. `StringIO` helps with that."
      ]
    },
    {
      "cell_type": "code",
      "metadata": {
        "colab_type": "code",
        "id": "YkVegmqK__q7",
        "colab": {}
      },
      "source": [
        "data = np.loadtxt(io.StringIO(data_str), delimiter=',')"
      ],
      "execution_count": 0,
      "outputs": []
    },
    {
      "cell_type": "markdown",
      "metadata": {
        "id": "kq3IkUbOsCE_",
        "colab_type": "text"
      },
      "source": [
        "#### Notice two levels of error pointer (-->)\n",
        " - this is called a stack trace - when one function calls another function, which calls another function, etc., and an inner funtion encounters an error, it shows the outer most function first, and then goes deeper and deeper until the source of the error."
      ]
    },
    {
      "cell_type": "code",
      "metadata": {
        "colab_type": "code",
        "id": "pEthoBLhAMHJ",
        "colab": {}
      },
      "source": [
        "data = np.loadtxt(io.StringIO(data_str), delimiter=',', dtype=int)"
      ],
      "execution_count": 0,
      "outputs": []
    },
    {
      "cell_type": "code",
      "metadata": {
        "colab_type": "code",
        "id": "031fUjsOAY9S",
        "colab": {}
      },
      "source": [
        "data = np.loadtxt(io.StringIO(data_str), delimiter=',', dtype=str)"
      ],
      "execution_count": 0,
      "outputs": []
    },
    {
      "cell_type": "code",
      "metadata": {
        "colab_type": "code",
        "id": "pTaPzS65AcUl",
        "scrolled": true,
        "colab": {}
      },
      "source": [
        "print(data[20:25])"
      ],
      "execution_count": 0,
      "outputs": []
    },
    {
      "cell_type": "markdown",
      "metadata": {
        "id": "mNvNDjqUssCH",
        "colab_type": "text"
      },
      "source": [
        "This is not very useful - we want numbers as numeric types, not as text strings, for analysis."
      ]
    },
    {
      "cell_type": "markdown",
      "metadata": {
        "id": "s0zSLXb_bhzh",
        "colab_type": "text"
      },
      "source": [
        "#### `genfromtxt`: a function that can guess data types when reading text files"
      ]
    },
    {
      "cell_type": "code",
      "metadata": {
        "id": "aMBkaeL_bhzi",
        "colab_type": "code",
        "colab": {}
      },
      "source": [
        "data = np.genfromtxt(io.StringIO(data_str), delimiter=',', dtype=None)"
      ],
      "execution_count": 0,
      "outputs": []
    },
    {
      "cell_type": "code",
      "metadata": {
        "id": "PvrTY4mkbhzm",
        "colab_type": "code",
        "colab": {}
      },
      "source": [
        "data[20:25]"
      ],
      "execution_count": 0,
      "outputs": []
    },
    {
      "cell_type": "markdown",
      "metadata": {
        "id": "vTkPStQKbhzr",
        "colab_type": "text"
      },
      "source": [
        "#### You can tell it what represents missing values"
      ]
    },
    {
      "cell_type": "code",
      "metadata": {
        "id": "RZURBSqrbhzs",
        "colab_type": "code",
        "colab": {}
      },
      "source": [
        "data = np.genfromtxt(io.StringIO(data_str), delimiter=',', dtype=None, missing_values='?')"
      ],
      "execution_count": 0,
      "outputs": []
    },
    {
      "cell_type": "code",
      "metadata": {
        "id": "rJ3fvo0Ybhzx",
        "colab_type": "code",
        "colab": {}
      },
      "source": [
        "data[20:25]"
      ],
      "execution_count": 0,
      "outputs": []
    },
    {
      "cell_type": "markdown",
      "metadata": {
        "id": "SldJJftKbhz4",
        "colab_type": "text"
      },
      "source": [
        "#### You can specify what to put for missing values"
      ]
    },
    {
      "cell_type": "code",
      "metadata": {
        "id": "Es1rKLiCbhz5",
        "colab_type": "code",
        "colab": {}
      },
      "source": [
        "data = np.genfromtxt(io.StringIO(data_str), delimiter=',', dtype=None, missing_values='?', filling_values=-999)"
      ],
      "execution_count": 0,
      "outputs": []
    },
    {
      "cell_type": "code",
      "metadata": {
        "id": "RL477qSNbhz9",
        "colab_type": "code",
        "colab": {}
      },
      "source": [
        "data[20:25]"
      ],
      "execution_count": 0,
      "outputs": []
    },
    {
      "cell_type": "markdown",
      "metadata": {
        "colab_type": "text",
        "id": "QLP1ZSv67xkn"
      },
      "source": [
        "**Could be better!**\n",
        "- We can define the field names and their data type here. \n"
      ]
    },
    {
      "cell_type": "markdown",
      "metadata": {
        "id": "lxrJQexlbh0C",
        "colab_type": "text"
      },
      "source": [
        "### Check for missing values\n",
        "- What did we find about representation of missing data in this case?\n",
        "- We can try to compare the element values to this missing data representative.\n",
        "- `numpy` function `where` lets us check a condition on each element of an array."
      ]
    },
    {
      "cell_type": "code",
      "metadata": {
        "id": "DkS_5ftvbh0E",
        "colab_type": "code",
        "colab": {}
      },
      "source": [
        "np.where(data == -999)"
      ],
      "execution_count": 0,
      "outputs": []
    },
    {
      "cell_type": "markdown",
      "metadata": {
        "id": "oYMeh6CAbh0H",
        "colab_type": "text"
      },
      "source": [
        "### Define column/field names and type"
      ]
    },
    {
      "cell_type": "code",
      "metadata": {
        "colab_type": "code",
        "id": "lkLfWNZaFdLk",
        "colab": {}
      },
      "source": [
        "dtype = [('SCN', 'U8'), ('thickness', int), ('sizeu', int), ('shapeu', int), \n",
        "         ('adhesion', int), ('csize', int), ('bare', int), ('blandchrom', int), \n",
        "         ('normncl', int), ('mitoses', int), ('cclass', int)]"
      ],
      "execution_count": 0,
      "outputs": []
    },
    {
      "cell_type": "markdown",
      "metadata": {
        "id": "gm6zZEvYtPkf",
        "colab_type": "text"
      },
      "source": [
        "- ('SCN', 'U8') above tells that the first column is to be named `SCN` and it is to be read as a Unicode string of 8 characters.\n",
        "- 'i4' - 4 byte integer\n",
        "- 'f8' - 8 byte float\n"
      ]
    },
    {
      "cell_type": "code",
      "metadata": {
        "colab_type": "code",
        "id": "ZDGAvvbbmXDf",
        "colab": {}
      },
      "source": [
        "data = np.genfromtxt(io.StringIO(data_str), delimiter=',', dtype=dtype, missing_values='?', filling_values=-999)"
      ],
      "execution_count": 0,
      "outputs": []
    },
    {
      "cell_type": "code",
      "metadata": {
        "colab_type": "code",
        "id": "eGy6yIVu9ST6",
        "colab": {}
      },
      "source": [
        "print(data.shape)"
      ],
      "execution_count": 0,
      "outputs": []
    },
    {
      "cell_type": "code",
      "metadata": {
        "colab_type": "code",
        "id": "wUcFD1Kun2aV",
        "colab": {}
      },
      "source": [
        "print(data[20: 25])"
      ],
      "execution_count": 0,
      "outputs": []
    },
    {
      "cell_type": "markdown",
      "metadata": {
        "colab_type": "text",
        "id": "by6opEv9rvST"
      },
      "source": [
        "**Be extra careful about how missing values are represented!**"
      ]
    },
    {
      "cell_type": "markdown",
      "metadata": {
        "colab_type": "text",
        "id": "Hqfb4KG0FiXm"
      },
      "source": [
        "### Accessing fields in the data"
      ]
    },
    {
      "cell_type": "code",
      "metadata": {
        "colab_type": "code",
        "id": "ljz9Xqe9FxBL",
        "colab": {}
      },
      "source": [
        "data['SCN']"
      ],
      "execution_count": 0,
      "outputs": []
    },
    {
      "cell_type": "code",
      "metadata": {
        "id": "HYjleWyruP7B",
        "colab_type": "code",
        "colab": {}
      },
      "source": [
        "data[2]"
      ],
      "execution_count": 0,
      "outputs": []
    },
    {
      "cell_type": "code",
      "metadata": {
        "colab_type": "code",
        "id": "FKD5mL_MF5p2",
        "colab": {}
      },
      "source": [
        "data['SCN'][2]"
      ],
      "execution_count": 0,
      "outputs": []
    },
    {
      "cell_type": "code",
      "metadata": {
        "colab_type": "code",
        "id": "80PqJbHrF8SR",
        "colab": {}
      },
      "source": [
        "data[2]['SCN']"
      ],
      "execution_count": 0,
      "outputs": []
    },
    {
      "cell_type": "code",
      "metadata": {
        "colab_type": "code",
        "id": "Ua6H189mF_fy",
        "colab": {}
      },
      "source": [
        "data[2][0]"
      ],
      "execution_count": 0,
      "outputs": []
    },
    {
      "cell_type": "code",
      "metadata": {
        "colab_type": "code",
        "id": "5qbzTwTjGJNB",
        "colab": {}
      },
      "source": [
        "data[2, 0]"
      ],
      "execution_count": 0,
      "outputs": []
    },
    {
      "cell_type": "markdown",
      "metadata": {
        "id": "TEsCxwKHt6W_",
        "colab_type": "text"
      },
      "source": [
        "- The above threw an error because now data is treated as a 1 dimensional array, each element in which is another array. \n",
        "- `[2, 0]` expects 2D array.\n",
        "- `data[2][0]` takes out the sub-array that is element #2 and then looks at element #0 of this subarray."
      ]
    },
    {
      "cell_type": "markdown",
      "metadata": {
        "colab_type": "text",
        "id": "RF3qYZqM_12Z"
      },
      "source": [
        "**We have a record/structured array with 1 dimension**\n",
        " - Each element is a record / structure"
      ]
    },
    {
      "cell_type": "markdown",
      "metadata": {
        "id": "Vj1jxzI0uuh5",
        "colab_type": "text"
      },
      "source": [
        "#### Can we use `numpy.where` to check a condition on each element of a structured array?"
      ]
    },
    {
      "cell_type": "code",
      "metadata": {
        "colab_type": "code",
        "id": "FPRD5IVCKAeJ",
        "colab": {}
      },
      "source": [
        "np.where(data == -999)"
      ],
      "execution_count": 0,
      "outputs": []
    },
    {
      "cell_type": "markdown",
      "metadata": {
        "colab_type": "text",
        "id": "AR08zlK5KNGR"
      },
      "source": [
        "#### Pause here: Let us try one column at a time.\n",
        " - How can we check the columns one by one?\n",
        " - Hint: loop, `np.dtype`, `np.issubdtype`"
      ]
    },
    {
      "cell_type": "code",
      "metadata": {
        "id": "wSdT-wt1bh09",
        "colab_type": "code",
        "colab": {}
      },
      "source": [
        "data.dtype['SCN']"
      ],
      "execution_count": 0,
      "outputs": []
    },
    {
      "cell_type": "code",
      "metadata": {
        "id": "GEBj98yFbh1C",
        "colab_type": "code",
        "colab": {}
      },
      "source": [
        "data.dtype['thickness']"
      ],
      "execution_count": 0,
      "outputs": []
    },
    {
      "cell_type": "code",
      "metadata": {
        "id": "ugKG8wr2bh1G",
        "colab_type": "code",
        "colab": {}
      },
      "source": [
        "data.dtype.names"
      ],
      "execution_count": 0,
      "outputs": []
    },
    {
      "cell_type": "markdown",
      "metadata": {
        "colab_type": "text",
        "id": "Mcvnl6CxKUMK"
      },
      "source": [
        "#### Pause here: loops in Python\n",
        "- `for loop` for looping over sequence of elements.\n",
        "\n",
        "```python\n",
        "    x = ['alpha', 'bravo', 'charlie', 'delta']\n",
        "    for ii in x:\n",
        "        print(ii)\n",
        "    \n",
        "```  "
      ]
    },
    {
      "cell_type": "markdown",
      "metadata": {
        "id": "MMciYakDvJCR",
        "colab_type": "text"
      },
      "source": [
        "- `while loop` for conditional looping.\n",
        "  ```python\n",
        "x = 0\n",
        "while x < 10:\n",
        "    print(x)\n",
        "    x += 1\n",
        "  \n",
        "  ```"
      ]
    },
    {
      "cell_type": "code",
      "metadata": {
        "colab_type": "code",
        "id": "6fuw4QyoobSc",
        "colab": {}
      },
      "source": [
        "for name in data.dtype.names:\n",
        "    print(f'Column: {name}')\n",
        "    if np.issubdtype(data.dtype[name], np.number):\n",
        "        missing = np.where(data[name] < 0)\n",
        "        if missing[0].shape[0] > 0:\n",
        "            print(f'        missing data in rows: {missing}')"
      ],
      "execution_count": 0,
      "outputs": []
    },
    {
      "cell_type": "markdown",
      "metadata": {
        "id": "CQBVDfhdbh1v",
        "colab_type": "text"
      },
      "source": [
        "## Selection"
      ]
    },
    {
      "cell_type": "markdown",
      "metadata": {
        "id": "gR2TMrLtbh1x",
        "colab_type": "text"
      },
      "source": [
        "- You can pass an array or list of indices to select rows"
      ]
    },
    {
      "cell_type": "code",
      "metadata": {
        "id": "EQweUJwYbh1z",
        "colab_type": "code",
        "colab": {}
      },
      "source": [
        "data[[1, 100, 500]]   # pick row numbers 1, 100, and 500"
      ],
      "execution_count": 0,
      "outputs": []
    },
    {
      "cell_type": "markdown",
      "metadata": {
        "id": "ZWI1ivrYbh14",
        "colab_type": "text"
      },
      "source": [
        "- You can select rows by condition"
      ]
    },
    {
      "cell_type": "code",
      "metadata": {
        "id": "lTuWSZ_Ebh15",
        "colab_type": "code",
        "colab": {}
      },
      "source": [
        "data[data['cclass'] == 2]"
      ],
      "execution_count": 0,
      "outputs": []
    },
    {
      "cell_type": "markdown",
      "metadata": {
        "id": "kofTdmUGbh1-",
        "colab_type": "text"
      },
      "source": [
        "## Importing data using Pandas"
      ]
    },
    {
      "cell_type": "code",
      "metadata": {
        "colab_type": "code",
        "id": "XHxUk-h-pDNU",
        "colab": {}
      },
      "source": [
        "pdata = pd.read_csv(data_url, names=data.dtype.names)"
      ],
      "execution_count": 0,
      "outputs": []
    },
    {
      "cell_type": "code",
      "metadata": {
        "colab_type": "code",
        "id": "S3u4ptEkrie3",
        "colab": {}
      },
      "source": [
        "pdata.columns"
      ],
      "execution_count": 0,
      "outputs": []
    },
    {
      "cell_type": "code",
      "metadata": {
        "colab_type": "code",
        "id": "5s14fUsHqUkZ",
        "colab": {}
      },
      "source": [
        "pdata.iloc[23]"
      ],
      "execution_count": 0,
      "outputs": []
    },
    {
      "cell_type": "code",
      "metadata": {
        "id": "RJNIbqr7bh2N",
        "colab_type": "code",
        "colab": {}
      },
      "source": [
        "pdata[['SCN', 'thickness', 'cclass']]"
      ],
      "execution_count": 0,
      "outputs": []
    },
    {
      "cell_type": "markdown",
      "metadata": {
        "colab_type": "text",
        "id": "1uYEGVcmQCi3"
      },
      "source": [
        "## Plotting data"
      ]
    },
    {
      "cell_type": "code",
      "metadata": {
        "id": "sHNiK1dtbh2W",
        "colab_type": "code",
        "colab": {}
      },
      "source": [
        "plt.ion()  # Make it interactive"
      ],
      "execution_count": 0,
      "outputs": []
    },
    {
      "cell_type": "code",
      "metadata": {
        "id": "v1Rn9fdIbh2a",
        "colab_type": "code",
        "colab": {}
      },
      "source": [
        "# plt.ioff()"
      ],
      "execution_count": 0,
      "outputs": []
    },
    {
      "cell_type": "code",
      "metadata": {
        "colab_type": "code",
        "id": "LPPpV3uzQCi5",
        "colab": {}
      },
      "source": [
        "plt.plot(data['thickness'])   # by default plot connects the data points with straight lines"
      ],
      "execution_count": 0,
      "outputs": []
    },
    {
      "cell_type": "markdown",
      "metadata": {
        "id": "P34wvZJjwTL2",
        "colab_type": "text"
      },
      "source": [
        "If you already do not see a plot above, you may need to run `plt.show()` below to display it."
      ]
    },
    {
      "cell_type": "code",
      "metadata": {
        "id": "9VZm6pw8bh2k",
        "colab_type": "code",
        "colab": {}
      },
      "source": [
        "plt.show()"
      ],
      "execution_count": 0,
      "outputs": []
    },
    {
      "cell_type": "code",
      "metadata": {
        "colab_type": "code",
        "id": "l_V2N0HNQCi7",
        "colab": {}
      },
      "source": [
        "plt.plot(data['thickness'], 'o')   \n",
        "# Plot thickness (Y) against row number (X) with circles as markers"
      ],
      "execution_count": 0,
      "outputs": []
    },
    {
      "cell_type": "code",
      "metadata": {
        "colab_type": "code",
        "id": "aAh6TnVAQCi-",
        "colab": {}
      },
      "source": [
        "plt.plot(data['thickness'], data['csize'], 'o') \n",
        "# Plot csize (Y) against thickness (X) with circles as markers"
      ],
      "execution_count": 0,
      "outputs": []
    },
    {
      "cell_type": "code",
      "metadata": {
        "colab_type": "code",
        "id": "2hPZ0_YKQCjC",
        "colab": {}
      },
      "source": [
        "plt.plot(data['sizeu'], data['csize'], 'ro')   # red circle markers"
      ],
      "execution_count": 0,
      "outputs": []
    },
    {
      "cell_type": "code",
      "metadata": {
        "colab_type": "code",
        "id": "P3HcwOC8QCjH",
        "colab": {}
      },
      "source": [
        "plt.plot(data['mitoses'], data['csize'], 'go-')  \n",
        "# green circle markers at data points connected by lines of the same color"
      ],
      "execution_count": 0,
      "outputs": []
    },
    {
      "cell_type": "code",
      "metadata": {
        "colab_type": "code",
        "id": "9il5dxjzQCjN",
        "colab": {}
      },
      "source": [
        "plt.hist(data['csize'])"
      ],
      "execution_count": 0,
      "outputs": []
    },
    {
      "cell_type": "markdown",
      "metadata": {
        "id": "BfbdkCElbh3A",
        "colab_type": "text"
      },
      "source": [
        "#### Box plots - apply selection criterion"
      ]
    },
    {
      "cell_type": "code",
      "metadata": {
        "id": "Zhee-wRgbh3C",
        "colab_type": "code",
        "colab": {}
      },
      "source": [
        "data.dtype"
      ],
      "execution_count": 0,
      "outputs": []
    },
    {
      "cell_type": "code",
      "metadata": {
        "colab_type": "code",
        "id": "gQYbaNG5lgbj",
        "colab": {}
      },
      "source": [
        "x = plt.boxplot([data['thickness'][data['cclass'] == 2], data['thickness'][data['cclass'] == 4]])\n",
        "# boxplot returns a bunch of resulting values that are otherwise printed \n",
        "# in the output before the plots\n",
        "# `x = ` part captures those in variable x and prevents the printing"
      ],
      "execution_count": 0,
      "outputs": []
    },
    {
      "cell_type": "markdown",
      "metadata": {
        "colab_type": "text",
        "id": "-ZL1AaCqrln7"
      },
      "source": [
        "### Adding legend"
      ]
    },
    {
      "cell_type": "code",
      "metadata": {
        "colab_type": "code",
        "id": "PjGjre4cF73H",
        "colab": {}
      },
      "source": [
        "plt.plot(data['cclass'], data['sizeu'], 'ro', label='Size')\n",
        "plt.plot(data['cclass'], data['thickness'], 'gv', label='thickness')\n",
        "plt.legend()"
      ],
      "execution_count": 0,
      "outputs": []
    },
    {
      "cell_type": "markdown",
      "metadata": {
        "id": "27xg6JF3bh3S",
        "colab_type": "text"
      },
      "source": [
        "### Add a little jitter and transparency"
      ]
    },
    {
      "cell_type": "code",
      "metadata": {
        "id": "o7YbLgDWx6BJ",
        "colab_type": "code",
        "colab": {}
      },
      "source": [
        "plt.plot(data['cclass']+np.random.rand(data.shape[0]), data['sizeu'], 'r.', alpha=0.5, label='Size')\n",
        "plt.plot(data['cclass']+np.random.rand(data.shape[0]), data['thickness'], 'g.', alpha=0.5, label='thickness')\n",
        "plt.legend()"
      ],
      "execution_count": 0,
      "outputs": []
    },
    {
      "cell_type": "markdown",
      "metadata": {
        "colab_type": "text",
        "id": "YSs2LPXIlE7Q"
      },
      "source": [
        "### Subplots\n"
      ]
    },
    {
      "cell_type": "code",
      "metadata": {
        "colab_type": "code",
        "id": "vwDCkxqzGLBh",
        "colab": {}
      },
      "source": [
        "# split the figure into 4 axes: 2 rows and 2 columns\n",
        "ax0 = plt.subplot(2, 2, 1)   # top left axis\n",
        "ax1 = plt.subplot(2, 2, 2)   # top right axis\n",
        "ax2 = plt.subplot(2, 2, 3)   # bottom left axis\n",
        "ax3 = plt.subplot(2, 2, 4)   # bottom right axis\n",
        "\n",
        "ax0.plot(data['cclass']+np.random.rand(data.shape[0]), data['sizeu'], 'r.', alpha=0.5, label='Size')\n",
        "ax1.boxplot([data['sizeu'][data['cclass'] == 2], data['sizeu'][data['cclass'] == 4]])\n",
        "ax2.plot(data['cclass']+np.random.rand(data.shape[0]), data['thickness'], 'r.', alpha=0.5, label='Size')\n",
        "x = ax3.boxplot([data['thickness'][data['cclass'] == 2], data['thickness'][data['cclass'] == 4]])"
      ],
      "execution_count": 0,
      "outputs": []
    },
    {
      "cell_type": "markdown",
      "metadata": {
        "colab_type": "text",
        "id": "eImgMXAPGAnd"
      },
      "source": [
        "#### Sharing axis scales between subplots"
      ]
    },
    {
      "cell_type": "code",
      "metadata": {
        "colab_type": "code",
        "id": "waOjl4quGaZ0",
        "colab": {}
      },
      "source": [
        "ax0 = plt.subplot(2, 2, 1)\n",
        "ax1 = plt.subplot(2, 2, 2, sharey=ax0)"
      ],
      "execution_count": 0,
      "outputs": []
    },
    {
      "cell_type": "code",
      "metadata": {
        "colab_type": "code",
        "id": "dnj7LrDCGqHg",
        "colab": {}
      },
      "source": [
        "fig, ax = plt.subplots(nrows=2, ncols=2, sharey='row')"
      ],
      "execution_count": 0,
      "outputs": []
    },
    {
      "cell_type": "markdown",
      "metadata": {
        "colab_type": "text",
        "id": "SS78DuAMlGAb"
      },
      "source": [
        "### Layout control\n",
        " See https://matplotlib.org/3.1.0/tutorials/intermediate/gridspec.html"
      ]
    },
    {
      "cell_type": "markdown",
      "metadata": {
        "colab_type": "text",
        "id": "gTmO0M32lUiZ"
      },
      "source": [
        "### Further information on plotting\n",
        " - See https://matplotlib.org/gallery.html"
      ]
    },
    {
      "cell_type": "markdown",
      "metadata": {
        "colab_type": "text",
        "id": "qGiAbiMwmd8B"
      },
      "source": [
        "### Other useful libraries\n",
        "  1. Multidimensional arrays with complex data and metadata: `xarray`\n",
        "  1. Statistics: `statsmodels`\n",
        "  1. Broad range of basic functions in science and engineering: `scipy`\n",
        "  1. Image-processing: `PIL`, `opencv`, `imagej`"
      ]
    },
    {
      "cell_type": "markdown",
      "metadata": {
        "id": "qHDoGPD2yl80",
        "colab_type": "text"
      },
      "source": [
        "  5. Machine learning: `scikits-learn (sklearn)`\n",
        "  1. Network analysis: `networkx`, `igraph`\n",
        "  1. Graphical User Interface (GUI): `PyQT`, `ipywidgets`\n",
        "  1. Efficient plotting: `pyqtgraph`"
      ]
    },
    {
      "cell_type": "markdown",
      "metadata": {
        "id": "KR67dHetbh3y",
        "colab_type": "text"
      },
      "source": [
        "# Thank you"
      ]
    }
  ]
}