{
 "cells": [
  {
   "cell_type": "markdown",
   "metadata": {
    "colab_type": "text",
    "id": "view-in-github"
   },
   "source": [
    "<a href=\"https://colab.research.google.com/github/subhacom/np_tut_breastcancer/blob/master/Wisconsin_breast_cancer_data.ipynb\" target=\"_parent\"><img src=\"https://colab.research.google.com/assets/colab-badge.svg\" alt=\"Open In Colab\"/></a>"
   ]
  },
  {
   "cell_type": "markdown",
   "metadata": {
    "colab_type": "text",
    "id": "WgOrXZ1HjyYY"
   },
   "source": [
    "# Tutorial on using numpy and matplotlib"
   ]
  },
  {
   "cell_type": "markdown",
   "metadata": {
    "colab_type": "text",
    "id": "3zGrJdPej9MQ"
   },
   "source": [
    "Import required libraries (modules). The first two are part of Python standard library."
   ]
  },
  {
   "cell_type": "code",
   "execution_count": 1,
   "metadata": {
    "colab": {},
    "colab_type": "code",
    "id": "Ei8lfdKkABLH"
   },
   "outputs": [],
   "source": [
    "import io\n",
    "import requests"
   ]
  },
  {
   "cell_type": "markdown",
   "metadata": {},
   "source": [
    "`numpy` and `matplotlib` are third-party libraries that are installed separately from `Python`. On your personal system I recommend installing **Anaconda** python distribution as a convenient, portable way to set up a scientific computing environment. Anaconda comes bundled with most commonly used libraries and you can easily install additional requirements."
   ]
  },
  {
   "cell_type": "markdown",
   "metadata": {},
   "source": [
    "For this tutorial, I am using cloud resources for running Jupyter notebooks (Google colaboratory, binder). There are many such free environments. See https://www.dataschool.io/cloud-services-for-jupyter-notebook/ for a comparison of some of the popular ones."
   ]
  },
  {
   "cell_type": "code",
   "execution_count": 4,
   "metadata": {},
   "outputs": [],
   "source": [
    "import numpy as np\n",
    "# import pandas as pd\n",
    "from matplotlib import pyplot as plt"
   ]
  },
  {
   "cell_type": "markdown",
   "metadata": {
    "colab_type": "text",
    "id": "oD7AHSQPkEBF"
   },
   "source": [
    "We shall use data from the Wisconsin breast cancer database available online."
   ]
  },
  {
   "cell_type": "code",
   "execution_count": 0,
   "metadata": {
    "colab": {},
    "colab_type": "code",
    "id": "1t-9ikHbCh92"
   },
   "outputs": [],
   "source": [
    "data_url = 'http://archive.ics.uci.edu/ml/machine-learning-databases/breast-cancer-wisconsin/breast-cancer-wisconsin.data'\n",
    "attr_url = 'http://archive.ics.uci.edu/ml/machine-learning-databases/breast-cancer-wisconsin/breast-cancer-wisconsin.names'"
   ]
  },
  {
   "cell_type": "markdown",
   "metadata": {
    "colab_type": "text",
    "id": "PzKSwY_4kPvS"
   },
   "source": [
    "Information about the data is available in `attr_url`. It is information in plain text. We use http protocol via functions in the `requests` library. We could simply go to the url and download the file as well."
   ]
  },
  {
   "cell_type": "code",
   "execution_count": 0,
   "metadata": {
    "colab": {},
    "colab_type": "code",
    "id": "d_1rGoGsCyvd"
   },
   "outputs": [],
   "source": [
    "attrs = requests.get(attr_url)"
   ]
  },
  {
   "cell_type": "code",
   "execution_count": 0,
   "metadata": {
    "colab": {},
    "colab_type": "code",
    "id": "c6SgqHLYDI0H"
   },
   "outputs": [],
   "source": [
    "print(attrs.content.decode('utf-8'))"
   ]
  },
  {
   "cell_type": "markdown",
   "metadata": {
    "colab_type": "text",
    "id": "xxRQaGUbliQw"
   },
   "source": [
    "Load the data into a string and then use a StringIO object around it as a proxy for a file (alternatively you could simply download the data file manually and load it from local disk)."
   ]
  },
  {
   "cell_type": "code",
   "execution_count": 0,
   "metadata": {
    "colab": {},
    "colab_type": "code",
    "id": "SPJCGXr0DK_D"
   },
   "outputs": [],
   "source": [
    "data_str = requests.get(data_url).content.decode('utf-8')"
   ]
  },
  {
   "cell_type": "code",
   "execution_count": 0,
   "metadata": {
    "colab": {},
    "colab_type": "code",
    "id": "uMKMLdOxD0He"
   },
   "outputs": [],
   "source": [
    "print(data_str[:100])"
   ]
  },
  {
   "cell_type": "code",
   "execution_count": 0,
   "metadata": {
    "colab": {},
    "colab_type": "code",
    "id": "lkLfWNZaFdLk"
   },
   "outputs": [],
   "source": [
    " #columns = ['SCN', 'thickness', 'sizeu', 'shapeu', 'adhesion', 'csize', 'bare', 'blandchrom', 'normncl', 'mitoses', 'cclass']\n",
    "dtype = [('SCN', int), ('thickness', int), ('sizeu', int), ('shapeu', int), ('adhesion', int), ('csize', int), ('bare', int), ('blandchrom', int), ('normncl', int), ('mitoses', int), ('cclass', int)]\n",
    "# dtype = [('SCN', 'u8'), ('thickness', 'u1'), ('sizeu', 'u1'), ('shapeu', 'u1'), ('adhesion', 'u1'), ('csize', 'u1'), ('bare', 'u1'), ('blandchrom', 'u1'), ('normncl', 'u1'), ('mitoses', 'u1'), ('cclass', 'u1')]\n"
   ]
  },
  {
   "cell_type": "markdown",
   "metadata": {
    "colab_type": "text",
    "id": "fRhJtYFumLRi"
   },
   "source": [
    "Read the data into a nupmy array."
   ]
  },
  {
   "cell_type": "code",
   "execution_count": 0,
   "metadata": {
    "colab": {},
    "colab_type": "code",
    "id": "ZDGAvvbbmXDf"
   },
   "outputs": [],
   "source": [
    "data = np.genfromtxt(io.StringIO(data_str), delimiter=',', dtype=dtype, missing_values=np.nan)"
   ]
  },
  {
   "cell_type": "code",
   "execution_count": 0,
   "metadata": {
    "colab": {},
    "colab_type": "code",
    "id": "wUcFD1Kun2aV"
   },
   "outputs": [],
   "source": [
    "print(data[: 25])"
   ]
  },
  {
   "cell_type": "markdown",
   "metadata": {
    "colab_type": "text",
    "id": "XQ80U_ECsy4W"
   },
   "source": [
    "Note that counting starts with 0 in Python. `[:25]` indicates range. We shall talk about range and slices soon."
   ]
  },
  {
   "cell_type": "code",
   "execution_count": 0,
   "metadata": {
    "colab": {},
    "colab_type": "code",
    "id": "tAlePxyFsm7X"
   },
   "outputs": [],
   "source": [
    "data[23]"
   ]
  },
  {
   "cell_type": "markdown",
   "metadata": {
    "colab_type": "text",
    "id": "by6opEv9rvST"
   },
   "source": [
    "Note 24-th row has missing data with `?` inserted in place of a number. Numpy converted it to -1."
   ]
  },
  {
   "cell_type": "code",
   "execution_count": 0,
   "metadata": {
    "colab": {},
    "colab_type": "code",
    "id": "GvuqAFnioF_t"
   },
   "outputs": [],
   "source": [
    "type(data)"
   ]
  },
  {
   "cell_type": "code",
   "execution_count": 0,
   "metadata": {
    "colab": {},
    "colab_type": "code",
    "id": "_mZsHPFxSUs_"
   },
   "outputs": [],
   "source": [
    "data.dtype"
   ]
  },
  {
   "cell_type": "code",
   "execution_count": 0,
   "metadata": {
    "colab": {},
    "colab_type": "code",
    "id": "6fuw4QyoobSc"
   },
   "outputs": [],
   "source": [
    "for name in data.dtype.names:\n",
    "  print(f'{name}: missing data in rows: {np.where(data[name] < 0)}')"
   ]
  },
  {
   "cell_type": "code",
   "execution_count": 0,
   "metadata": {
    "colab": {},
    "colab_type": "code",
    "id": "XHxUk-h-pDNU"
   },
   "outputs": [],
   "source": [
    "pdata = pd.read_csv(data_url, names=data.dtype.names)"
   ]
  },
  {
   "cell_type": "code",
   "execution_count": 0,
   "metadata": {
    "colab": {},
    "colab_type": "code",
    "id": "5s14fUsHqUkZ"
   },
   "outputs": [],
   "source": [
    "pdata.iloc[23]"
   ]
  },
  {
   "cell_type": "code",
   "execution_count": 0,
   "metadata": {
    "colab": {},
    "colab_type": "code",
    "id": "S3u4ptEkrie3"
   },
   "outputs": [],
   "source": [
    "pdata.columns"
   ]
  },
  {
   "cell_type": "code",
   "execution_count": 0,
   "metadata": {
    "colab": {},
    "colab_type": "code",
    "id": "-ZL1AaCqrln7"
   },
   "outputs": [],
   "source": []
  }
 ],
 "metadata": {
  "colab": {
   "collapsed_sections": [],
   "include_colab_link": true,
   "name": "Wisconsin_breast_cancer_data.ipynb",
   "private_outputs": true,
   "provenance": [],
   "version": "0.3.2"
  },
  "kernelspec": {
   "display_name": "Python 3",
   "language": "python",
   "name": "python3"
  },
  "language_info": {
   "codemirror_mode": {
    "name": "ipython",
    "version": 3
   },
   "file_extension": ".py",
   "mimetype": "text/x-python",
   "name": "python",
   "nbconvert_exporter": "python",
   "pygments_lexer": "ipython3",
   "version": "3.7.3"
  }
 },
 "nbformat": 4,
 "nbformat_minor": 1
}
