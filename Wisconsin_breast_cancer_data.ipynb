{
 "cells": [
  {
   "cell_type": "markdown",
   "metadata": {
    "colab_type": "text",
    "id": "view-in-github",
    "slideshow": {
     "slide_type": "skip"
    }
   },
   "source": [
    "### Launch on Google Colab\n",
    " [![Google Colab](https://badgen.net/badge/Launch/on%20Google%20Colab/blue?icon=terminal)](https://colab.research.google.com/github/subhacom/np_tut_breastcancer/blob/master/Wisconsin_breast_cancer_data.ipynb)\n",
    "### Launch on Binder\n",
    " [![Binder](https://mybinder.org/badge_logo.svg)](http://mybinder.org/v2/gh/subhacom/np_tut_breastcancer/master?filepath=Wisconsin_breast_cancer_data.ipynb)\n"
   ]
  },
  {
   "cell_type": "code",
   "execution_count": null,
   "metadata": {
    "colab": {},
    "colab_type": "code",
    "id": "3hxJaho8rmEo",
    "slideshow": {
     "slide_type": "skip"
    }
   },
   "outputs": [],
   "source": [
    "!pip install RISE\n",
    "!jupyter-nbextension install rise --py --sys-prefix"
   ]
  },
  {
   "cell_type": "markdown",
   "metadata": {
    "colab_type": "text",
    "id": "u7g8f0Qcqsm1",
    "slideshow": {
     "slide_type": "slide"
    }
   },
   "source": [
    "# Using Jupyter\n"
   ]
  },
  {
   "cell_type": "markdown",
   "metadata": {
    "colab_type": "text",
    "id": "evX-HL5-qwKF",
    "slideshow": {
     "slide_type": "subslide"
    }
   },
   "source": [
    "## What is Jupyter?\n",
    "From Jupyter home page: \"... an open-source web application that allows you to create and share documents that contain live code, equations, visualizations and narrative text.\""
   ]
  },
  {
   "cell_type": "markdown",
   "metadata": {
    "colab_type": "text",
    "id": "kgakezI7q1P2",
    "slideshow": {
     "slide_type": "slide"
    }
   },
   "source": [
    "## Pros and Cons of Python in Jupyter Notebook"
   ]
  },
  {
   "cell_type": "markdown",
   "metadata": {
    "colab_type": "text",
    "id": "rB8u04QFq4hi",
    "slideshow": {
     "slide_type": "subslide"
    }
   },
   "source": [
    "### Pros:\n",
    "  - Literate programming - document code with a narrative\n",
    "  - Easily share online\n",
    "  - Good for data exploration"
   ]
  },
  {
   "cell_type": "markdown",
   "metadata": {
    "colab_type": "text",
    "id": "DFxoFzwzrG7E",
    "slideshow": {
     "slide_type": "subslide"
    }
   },
   "source": [
    "### Cons:\n",
    "  - Not moduler (can be ... in a complicated way)\n",
    "  - Gets cumbersome quickly - especially when going back and forth\n",
    "  - Very basic code editor\n",
    " \n",
    "  \n",
    "  \n",
    "  "
   ]
  },
  {
   "cell_type": "markdown",
   "metadata": {
    "colab_type": "text",
    "id": "RPJxuHbZr3_m",
    "slideshow": {
     "slide_type": "fragment"
    }
   },
   "source": [
    "**Spyder** - a Python IDE with matlab-like interface."
   ]
  },
  {
   "cell_type": "markdown",
   "metadata": {
    "colab_type": "text",
    "id": "nVN6EFJcseg5",
    "slideshow": {
     "slide_type": "slide"
    }
   },
   "source": [
    "## About Jupyter environments"
   ]
  },
  {
   "cell_type": "markdown",
   "metadata": {
    "slideshow": {
     "slide_type": "fragment"
    }
   },
   "source": [
    "- You can install Python/Jupyter on your own computer"
   ]
  },
  {
   "cell_type": "markdown",
   "metadata": {
    "colab_type": "text",
    "id": "nVN6EFJcseg5",
    "slideshow": {
     "slide_type": "fragment"
    }
   },
   "source": [
    "- Or you can use environments available on the cloud\n",
    "  - binder\n",
    "  - colaboratory\n",
    "  - kaggle\n",
    "  - azure"
   ]
  },
  {
   "cell_type": "markdown",
   "metadata": {
    "slideshow": {
     "slide_type": "fragment"
    }
   },
   "source": [
    "- See https://www.dataschool.io/cloud-services-for-jupyter-notebook/ for a comparison of some of the popular ones."
   ]
  },
  {
   "cell_type": "markdown",
   "metadata": {
    "slideshow": {
     "slide_type": "slide"
    }
   },
   "source": [
    "## Local vs Cloud for Jupyter Notebooks"
   ]
  },
  {
   "cell_type": "markdown",
   "metadata": {
    "colab_type": "text",
    "id": "dVGMZGdcsj7X",
    "slideshow": {
     "slide_type": "subslide"
    }
   },
   "source": [
    "### Pros of local environment\n",
    " 1. You have full control of the system\n",
    " 2. No time limit\n",
    " 3. No data limit - you can use your data on a local disk - no need to upload data\n",
    " 4. Full function of Jupyter notebooks \n",
    " 5. No security restrictions\n",
    "  \n"
   ]
  },
  {
   "cell_type": "markdown",
   "metadata": {
    "colab_type": "text",
    "id": "JJmY6YgAQCZP",
    "slideshow": {
     "slide_type": "subslide"
    }
   },
   "source": [
    "\n",
    "### Cons of local environments\n",
    " 1. You have to set up and manage it\n",
    " 2. You are limited by the hardware you have (may be expensive)\n",
    " 3. Not the optimal use of resources\n",
    " 4. Not easy to access from elsewhere\n",
    " 5. Not easy to share and collaborate with others\n",
    " \n",
    "  \n"
   ]
  },
  {
   "cell_type": "markdown",
   "metadata": {
    "colab_type": "text",
    "id": "Dt_TDVK8soQG",
    "slideshow": {
     "slide_type": "slide"
    }
   },
   "source": [
    "## Jupyter basics\n",
    "- Cells: Code and markdown"
   ]
  },
  {
   "cell_type": "code",
   "execution_count": null,
   "metadata": {
    "slideshow": {
     "slide_type": "fragment"
    }
   },
   "outputs": [],
   "source": [
    "print('Hello world')"
   ]
  },
  {
   "cell_type": "markdown",
   "metadata": {
    "colab_type": "text",
    "id": "Dt_TDVK8soQG",
    "slideshow": {
     "slide_type": "fragment"
    }
   },
   "source": [
    "- Output"
   ]
  },
  {
   "cell_type": "code",
   "execution_count": null,
   "metadata": {
    "slideshow": {
     "slide_type": "fragment"
    }
   },
   "outputs": [],
   "source": [
    "message = 'Hello world'\n",
    "print(message)"
   ]
  },
  {
   "cell_type": "code",
   "execution_count": null,
   "metadata": {
    "slideshow": {
     "slide_type": "fragment"
    }
   },
   "outputs": [],
   "source": [
    "print(f'Message: {message}')"
   ]
  },
  {
   "cell_type": "markdown",
   "metadata": {
    "slideshow": {
     "slide_type": "fragment"
    }
   },
   "source": [
    "- `f'text {variable} text'` is a new and convenient way of formatting strings in Python (version 3.6 onwards)."
   ]
  },
  {
   "cell_type": "markdown",
   "metadata": {
    "slideshow": {
     "slide_type": "subslide"
    }
   },
   "source": [
    "- Magic commands"
   ]
  },
  {
   "cell_type": "code",
   "execution_count": null,
   "metadata": {
    "slideshow": {
     "slide_type": "fragment"
    }
   },
   "outputs": [],
   "source": [
    "%ls"
   ]
  },
  {
   "cell_type": "markdown",
   "metadata": {
    "slideshow": {
     "slide_type": "subslide"
    }
   },
   "source": [
    "- OS commands"
   ]
  },
  {
   "cell_type": "code",
   "execution_count": null,
   "metadata": {
    "slideshow": {
     "slide_type": "fragment"
    }
   },
   "outputs": [],
   "source": [
    "!cat /proc/cpuinfo"
   ]
  },
  {
   "cell_type": "markdown",
   "metadata": {
    "colab_type": "text",
    "id": "Dt_TDVK8soQG",
    "slideshow": {
     "slide_type": "subslide"
    }
   },
   "source": [
    "- Check the keyboard shortcuts from menu"
   ]
  },
  {
   "cell_type": "markdown",
   "metadata": {
    "colab_type": "text",
    "id": "Dt_TDVK8soQG",
    "slideshow": {
     "slide_type": "fragment"
    }
   },
   "source": [
    "- Save and checkpoint\n",
    "- File format: .ipynb"
   ]
  },
  {
   "cell_type": "markdown",
   "metadata": {
    "colab_type": "text",
    "id": "nQt18LU9Peed",
    "slideshow": {
     "slide_type": "subslide"
    }
   },
   "source": [
    "#### Pause here: Exercise\n",
    "  1. create a cell\n",
    "  1. convert it to mark down\n",
    "  1. create another cell below\n",
    "  1. type a valid expression: e.g. (2 + 3)\n",
    "  1. execute the cell in place\n",
    "  1. execute and insert a new cell below and move to it\n",
    "  1. insert a cell above\n",
    "  1. execute and move to next cell\n",
    "  \n",
    "  "
   ]
  },
  {
   "cell_type": "markdown",
   "metadata": {
    "colab_type": "text",
    "id": "WgOrXZ1HjyYY",
    "slideshow": {
     "slide_type": "slide"
    }
   },
   "source": [
    "# Tutorial on using numpy and matplotlib"
   ]
  },
  {
   "cell_type": "markdown",
   "metadata": {
    "colab_type": "text",
    "id": "3zGrJdPej9MQ",
    "slideshow": {
     "slide_type": "subslide"
    }
   },
   "source": [
    "Import required libraries (modules). The first two are part of Python Standard Library."
   ]
  },
  {
   "cell_type": "code",
   "execution_count": null,
   "metadata": {
    "colab": {},
    "colab_type": "code",
    "id": "Ei8lfdKkABLH",
    "slideshow": {
     "slide_type": "fragment"
    }
   },
   "outputs": [],
   "source": [
    "import io\n",
    "import requests"
   ]
  },
  {
   "cell_type": "markdown",
   "metadata": {
    "colab_type": "text",
    "id": "pBM4ePhP6pFz",
    "slideshow": {
     "slide_type": "fragment"
    }
   },
   "source": [
    "- `numpy` and `matplotlib` are third-party libraries\n",
    "- installed separately from `Python` \n",
    "- **Anaconda** python distribution - bundles most common scientific libraries"
   ]
  },
  {
   "cell_type": "code",
   "execution_count": null,
   "metadata": {
    "colab": {},
    "colab_type": "code",
    "id": "iuZE-dRe6pF_",
    "slideshow": {
     "slide_type": "fragment"
    }
   },
   "outputs": [],
   "source": [
    "import numpy as np  # create a shorter alias for numpy"
   ]
  },
  {
   "cell_type": "code",
   "execution_count": null,
   "metadata": {
    "colab": {},
    "colab_type": "code",
    "id": "iuZE-dRe6pF_",
    "slideshow": {
     "slide_type": "fragment"
    }
   },
   "outputs": [],
   "source": [
    "from matplotlib import pyplot as plt  # import only specific part of a module"
   ]
  },
  {
   "cell_type": "markdown",
   "metadata": {
    "colab_type": "text",
    "id": "wt0t437PGT6r",
    "slideshow": {
     "slide_type": "slide"
    }
   },
   "source": [
    "## Homogeneous arrays"
   ]
  },
  {
   "cell_type": "markdown",
   "metadata": {
    "slideshow": {
     "slide_type": "subslide"
    }
   },
   "source": [
    "### Basic operations"
   ]
  },
  {
   "cell_type": "code",
   "execution_count": null,
   "metadata": {
    "colab": {},
    "colab_type": "code",
    "id": "T14df3-EGffQ",
    "slideshow": {
     "slide_type": "fragment"
    }
   },
   "outputs": [],
   "source": [
    "myarray = np.array([1, 2, 3])"
   ]
  },
  {
   "cell_type": "code",
   "execution_count": null,
   "metadata": {
    "colab": {},
    "colab_type": "code",
    "id": "uMVMoPafGi5c",
    "slideshow": {
     "slide_type": "fragment"
    }
   },
   "outputs": [],
   "source": [
    "print(myarray)"
   ]
  },
  {
   "cell_type": "code",
   "execution_count": null,
   "metadata": {
    "colab": {},
    "colab_type": "code",
    "id": "sAwLNePDGlZH",
    "slideshow": {
     "slide_type": "fragment"
    }
   },
   "outputs": [],
   "source": [
    "myarray"
   ]
  },
  {
   "cell_type": "markdown",
   "metadata": {
    "colab_type": "text",
    "id": "e244GEgfG6U8",
    "slideshow": {
     "slide_type": "slide"
    }
   },
   "source": [
    "### Multi-dimensional arrays"
   ]
  },
  {
   "cell_type": "code",
   "execution_count": null,
   "metadata": {
    "colab": {},
    "colab_type": "code",
    "id": "kx40Kop9G_18",
    "slideshow": {
     "slide_type": "fragment"
    }
   },
   "outputs": [],
   "source": [
    "myarray2 = np.array([[1, 2, 3, 4], [5, 6, 7, 8]])"
   ]
  },
  {
   "cell_type": "code",
   "execution_count": null,
   "metadata": {
    "colab": {},
    "colab_type": "code",
    "id": "QudEGCrXHMmW",
    "slideshow": {
     "slide_type": "fragment"
    }
   },
   "outputs": [],
   "source": [
    "myarray2"
   ]
  },
  {
   "cell_type": "code",
   "execution_count": null,
   "metadata": {
    "colab": {},
    "colab_type": "code",
    "id": "ED30URK_QCbu",
    "slideshow": {
     "slide_type": "fragment"
    }
   },
   "outputs": [],
   "source": [
    "myarray2.shape"
   ]
  },
  {
   "cell_type": "code",
   "execution_count": null,
   "metadata": {
    "colab": {},
    "colab_type": "code",
    "id": "D2FukIe0QCb6",
    "slideshow": {
     "slide_type": "fragment"
    }
   },
   "outputs": [],
   "source": [
    "len(myarray2)"
   ]
  },
  {
   "cell_type": "code",
   "execution_count": null,
   "metadata": {
    "colab": {},
    "colab_type": "code",
    "id": "E0UMWVVGHPEG",
    "slideshow": {
     "slide_type": "fragment"
    }
   },
   "outputs": [],
   "source": [
    "myarray2.T"
   ]
  },
  {
   "cell_type": "markdown",
   "metadata": {
    "colab_type": "text",
    "id": "L2a9snv1HULR",
    "slideshow": {
     "slide_type": "subslide"
    }
   },
   "source": [
    "### Element-wise arithmetic on arrays"
   ]
  },
  {
   "cell_type": "code",
   "execution_count": null,
   "metadata": {
    "colab": {},
    "colab_type": "code",
    "id": "ygci-OKpHZui",
    "slideshow": {
     "slide_type": "fragment"
    }
   },
   "outputs": [],
   "source": [
    "2 * myarray"
   ]
  },
  {
   "cell_type": "code",
   "execution_count": null,
   "metadata": {
    "colab": {},
    "colab_type": "code",
    "id": "pn8XAdDBHeYb",
    "slideshow": {
     "slide_type": "fragment"
    }
   },
   "outputs": [],
   "source": [
    "2**myarray"
   ]
  },
  {
   "cell_type": "code",
   "execution_count": null,
   "metadata": {
    "colab": {},
    "colab_type": "code",
    "id": "MIpRnfh3Hgx8",
    "slideshow": {
     "slide_type": "fragment"
    }
   },
   "outputs": [],
   "source": [
    "2*myarray2"
   ]
  },
  {
   "cell_type": "code",
   "execution_count": null,
   "metadata": {
    "colab": {},
    "colab_type": "code",
    "id": "XrkhZHApHkU8",
    "slideshow": {
     "slide_type": "fragment"
    }
   },
   "outputs": [],
   "source": [
    "myarray2**2"
   ]
  },
  {
   "cell_type": "code",
   "execution_count": null,
   "metadata": {
    "colab": {},
    "colab_type": "code",
    "id": "_Qe2e2g6HwBz",
    "slideshow": {
     "slide_type": "fragment"
    }
   },
   "outputs": [],
   "source": [
    "myarray2 + 2"
   ]
  },
  {
   "cell_type": "code",
   "execution_count": null,
   "metadata": {
    "colab": {},
    "colab_type": "code",
    "id": "udV44WB0HpcF",
    "slideshow": {
     "slide_type": "subslide"
    }
   },
   "outputs": [],
   "source": [
    "print(f'Shape of first array: {myarray.shape}, second array: {myarray2.shape}')\n",
    "x = myarray + myarray2\n",
    "print(f'Sum: {x}')"
   ]
  },
  {
   "cell_type": "markdown",
   "metadata": {
    "colab_type": "text",
    "id": "mG0xgEA9BKok",
    "slideshow": {
     "slide_type": "subslide"
    }
   },
   "source": [
    "#### Pause here: You just encountered Python's error handling mechanism!\n",
    "- Can you relate to your experience with errors in other languages?\n",
    "- Explain error handling for beginners.\n",
    "- Go back and change `myarray` to a 4 element array, a 2 element array\n"
   ]
  },
  {
   "cell_type": "markdown",
   "metadata": {
    "colab_type": "text",
    "id": "we5AQkwj-rdl",
    "slideshow": {
     "slide_type": "subslide"
    }
   },
   "source": [
    "### Other ways of creating arrays"
   ]
  },
  {
   "cell_type": "code",
   "execution_count": null,
   "metadata": {
    "colab": {},
    "colab_type": "code",
    "id": "gU5V7YH1-8Pn",
    "slideshow": {
     "slide_type": "fragment"
    }
   },
   "outputs": [],
   "source": [
    "a0 = np.zeros((4, 5))"
   ]
  },
  {
   "cell_type": "code",
   "execution_count": null,
   "metadata": {
    "colab": {},
    "colab_type": "code",
    "id": "_qcKH4Z0_HZL",
    "slideshow": {
     "slide_type": "fragment"
    }
   },
   "outputs": [],
   "source": [
    "a0"
   ]
  },
  {
   "cell_type": "code",
   "execution_count": null,
   "metadata": {
    "colab": {},
    "colab_type": "code",
    "id": "2k0Zg9eD_JX5",
    "slideshow": {
     "slide_type": "fragment"
    }
   },
   "outputs": [],
   "source": [
    "a1 = np.ones((4, 5))"
   ]
  },
  {
   "cell_type": "code",
   "execution_count": null,
   "metadata": {
    "colab": {},
    "colab_type": "code",
    "id": "u6Nu5qq0_NDd",
    "slideshow": {
     "slide_type": "fragment"
    }
   },
   "outputs": [],
   "source": [
    "a1"
   ]
  },
  {
   "cell_type": "code",
   "execution_count": null,
   "metadata": {
    "colab": {},
    "colab_type": "code",
    "id": "U7XRJqe9_Pcb",
    "slideshow": {
     "slide_type": "fragment"
    }
   },
   "outputs": [],
   "source": [
    "ai = np.eye(4)"
   ]
  },
  {
   "cell_type": "code",
   "execution_count": null,
   "metadata": {
    "colab": {},
    "colab_type": "code",
    "id": "4vB73Rko_knd",
    "slideshow": {
     "slide_type": "fragment"
    }
   },
   "outputs": [],
   "source": [
    "ai"
   ]
  },
  {
   "cell_type": "markdown",
   "metadata": {
    "slideshow": {
     "slide_type": "subslide"
    }
   },
   "source": [
    "#### Arrays containing range of values"
   ]
  },
  {
   "cell_type": "code",
   "execution_count": null,
   "metadata": {
    "colab": {},
    "colab_type": "code",
    "id": "MkfD9ef8_rPM",
    "slideshow": {
     "slide_type": "fragment"
    }
   },
   "outputs": [],
   "source": [
    "a2 = np.arange(2.0, 7.0, 1.5)"
   ]
  },
  {
   "cell_type": "code",
   "execution_count": null,
   "metadata": {
    "colab": {},
    "colab_type": "code",
    "id": "hPRWGNAr_zo5",
    "slideshow": {
     "slide_type": "fragment"
    }
   },
   "outputs": [],
   "source": [
    "a2"
   ]
  },
  {
   "cell_type": "code",
   "execution_count": null,
   "metadata": {
    "colab": {},
    "colab_type": "code",
    "id": "94COGBB-_2aK",
    "slideshow": {
     "slide_type": "fragment"
    }
   },
   "outputs": [],
   "source": [
    "a3 = np.linspace(2, 7, 3)"
   ]
  },
  {
   "cell_type": "code",
   "execution_count": null,
   "metadata": {
    "colab": {},
    "colab_type": "code",
    "id": "U2JSTw3u_6wv",
    "slideshow": {
     "slide_type": "fragment"
    }
   },
   "outputs": [],
   "source": [
    "a3"
   ]
  },
  {
   "cell_type": "markdown",
   "metadata": {
    "slideshow": {
     "slide_type": "subslide"
    }
   },
   "source": [
    "#### Array with random numbers"
   ]
  },
  {
   "cell_type": "code",
   "execution_count": null,
   "metadata": {
    "colab": {},
    "colab_type": "code",
    "id": "youfjseJAXTc",
    "slideshow": {
     "slide_type": "fragment"
    }
   },
   "outputs": [],
   "source": [
    "a4 = np.random.rand(3, 4)"
   ]
  },
  {
   "cell_type": "code",
   "execution_count": null,
   "metadata": {
    "colab": {},
    "colab_type": "code",
    "id": "dk3v2rCtAqa-",
    "slideshow": {
     "slide_type": "fragment"
    }
   },
   "outputs": [],
   "source": [
    "a4"
   ]
  },
  {
   "cell_type": "markdown",
   "metadata": {
    "colab_type": "text",
    "id": "AvmjLbj9AxjQ",
    "slideshow": {
     "slide_type": "subslide"
    }
   },
   "source": [
    "### Reshaping"
   ]
  },
  {
   "cell_type": "code",
   "execution_count": null,
   "metadata": {
    "colab": {},
    "colab_type": "code",
    "id": "JITDe0tuA12-",
    "slideshow": {
     "slide_type": "fragment"
    }
   },
   "outputs": [],
   "source": [
    "a4.shape"
   ]
  },
  {
   "cell_type": "code",
   "execution_count": null,
   "metadata": {
    "colab": {},
    "colab_type": "code",
    "id": "rTMwdK0WA5F-",
    "slideshow": {
     "slide_type": "fragment"
    }
   },
   "outputs": [],
   "source": [
    "a4.reshape(4, 3)"
   ]
  },
  {
   "cell_type": "markdown",
   "metadata": {
    "colab_type": "text",
    "id": "qC90PJthYB0A",
    "slideshow": {
     "slide_type": "subslide"
    }
   },
   "source": [
    "#### Pause here\n",
    " - What other shapes can you think of?\n",
    " - What is the most common scenario for reshaping?"
   ]
  },
  {
   "cell_type": "code",
   "execution_count": null,
   "metadata": {
    "colab": {},
    "colab_type": "code",
    "id": "G-pI2WZaA9In",
    "slideshow": {
     "slide_type": "fragment"
    }
   },
   "outputs": [],
   "source": [
    "a4.reshape(2, 2, 3)"
   ]
  },
  {
   "cell_type": "markdown",
   "metadata": {
    "colab_type": "text",
    "id": "MvUTKnkFQCdP",
    "slideshow": {
     "slide_type": "subslide"
    }
   },
   "source": [
    "### Slicing and indexing\n",
    "  - Unlike R and MATLAB, Python indexing starts at 0"
   ]
  },
  {
   "cell_type": "code",
   "execution_count": null,
   "metadata": {
    "colab": {},
    "colab_type": "code",
    "id": "6Aj-IvIyQCdR",
    "slideshow": {
     "slide_type": "fragment"
    }
   },
   "outputs": [],
   "source": [
    "myarray2[0, 0]"
   ]
  },
  {
   "cell_type": "markdown",
   "metadata": {
    "colab_type": "text",
    "id": "wk4p0s0dX3O3",
    "slideshow": {
     "slide_type": "slide"
    }
   },
   "source": [
    "#### You can slice and dice an array\n",
    "  - `a[start:stop:step]`  "
   ]
  },
  {
   "cell_type": "markdown",
   "metadata": {
    "colab_type": "text",
    "id": "wk4p0s0dX3O3",
    "slideshow": {
     "slide_type": "fragment"
    }
   },
   "source": [
    "  - `a[start:stop]` - `step` defaults to `1`"
   ]
  },
  {
   "cell_type": "markdown",
   "metadata": {
    "colab_type": "text",
    "id": "wk4p0s0dX3O3",
    "slideshow": {
     "slide_type": "fragment"
    }
   },
   "source": [
    "  - `a[start:]` - `stop` defaults to end of array"
   ]
  },
  {
   "cell_type": "markdown",
   "metadata": {
    "colab_type": "text",
    "id": "wk4p0s0dX3O3",
    "slideshow": {
     "slide_type": "fragment"
    }
   },
   "source": [
    "  - `a[:stop]` - `start` defaults to start of array"
   ]
  },
  {
   "cell_type": "markdown",
   "metadata": {
    "colab_type": "text",
    "id": "wk4p0s0dX3O3",
    "slideshow": {
     "slide_type": "fragment"
    }
   },
   "source": [
    "  - `a[:]` - view of the whole array"
   ]
  },
  {
   "cell_type": "code",
   "execution_count": null,
   "metadata": {
    "colab": {},
    "colab_type": "code",
    "id": "0-xTpWAhQCdW",
    "slideshow": {
     "slide_type": "fragment"
    }
   },
   "outputs": [],
   "source": [
    "myarray2[0, :]"
   ]
  },
  {
   "cell_type": "code",
   "execution_count": null,
   "metadata": {
    "colab": {},
    "colab_type": "code",
    "id": "b5rsp5TaUa2Y",
    "slideshow": {
     "slide_type": "fragment"
    }
   },
   "outputs": [],
   "source": [
    "myarray2[:, 1]"
   ]
  },
  {
   "cell_type": "code",
   "execution_count": null,
   "metadata": {
    "colab": {},
    "colab_type": "code",
    "id": "WVNl8N40QCdi",
    "slideshow": {
     "slide_type": "fragment"
    }
   },
   "outputs": [],
   "source": [
    "myarray2[0, ::2]"
   ]
  },
  {
   "cell_type": "code",
   "execution_count": null,
   "metadata": {
    "colab": {},
    "colab_type": "code",
    "id": "gMzfqulYQCdv",
    "slideshow": {
     "slide_type": "fragment"
    }
   },
   "outputs": [],
   "source": [
    "myarray2[:, ::2]"
   ]
  },
  {
   "cell_type": "markdown",
   "metadata": {
    "colab_type": "text",
    "id": "aQIQPj0ZQCd8",
    "slideshow": {
     "slide_type": "subslide"
    }
   },
   "source": [
    "### Assign values"
   ]
  },
  {
   "cell_type": "code",
   "execution_count": null,
   "metadata": {
    "colab": {},
    "colab_type": "code",
    "id": "0Ua_ZLyzQCd_",
    "slideshow": {
     "slide_type": "fragment"
    }
   },
   "outputs": [],
   "source": [
    "myarray2[0, 0] = 10"
   ]
  },
  {
   "cell_type": "code",
   "execution_count": null,
   "metadata": {
    "colab": {},
    "colab_type": "code",
    "id": "A3DVWoGlQCeP",
    "slideshow": {
     "slide_type": "fragment"
    }
   },
   "outputs": [],
   "source": [
    "myarray2"
   ]
  },
  {
   "cell_type": "code",
   "execution_count": null,
   "metadata": {
    "colab": {},
    "colab_type": "code",
    "id": "jDeRHVJNQCeW",
    "slideshow": {
     "slide_type": "fragment"
    }
   },
   "outputs": [],
   "source": [
    "myarray2[:, 0] = -1  # broadcast"
   ]
  },
  {
   "cell_type": "code",
   "execution_count": null,
   "metadata": {
    "colab": {},
    "colab_type": "code",
    "id": "mBTAuJsuQCed",
    "slideshow": {
     "slide_type": "fragment"
    }
   },
   "outputs": [],
   "source": [
    "myarray2"
   ]
  },
  {
   "cell_type": "markdown",
   "metadata": {
    "colab_type": "text",
    "id": "ylhq3KzjXKT2",
    "slideshow": {
     "slide_type": "fragment"
    }
   },
   "source": [
    "#### Pause here\n",
    " - How will you set all of first row to 0?"
   ]
  },
  {
   "cell_type": "markdown",
   "metadata": {
    "colab_type": "text",
    "id": "saSDMJy1IPZs",
    "slideshow": {
     "slide_type": "subslide"
    }
   },
   "source": [
    "### Check conditions on array elements\n"
   ]
  },
  {
   "cell_type": "markdown",
   "metadata": {
    "colab_type": "text",
    "id": "fF2-ZWMxA4ge",
    "slideshow": {
     "slide_type": "fragment"
    }
   },
   "source": [
    "#### Condition check in simple Python"
   ]
  },
  {
   "cell_type": "markdown",
   "metadata": {
    "slideshow": {
     "slide_type": "fragment"
    }
   },
   "source": [
    "```python\n",
    "\n",
    "if a < 0:\n",
    "  print('a is negative')\n",
    "```"
   ]
  },
  {
   "cell_type": "markdown",
   "metadata": {
    "slideshow": {
     "slide_type": "fragment"
    }
   },
   "source": [
    "---\n",
    "```python\n",
    "\n",
    "if a < 0:\n",
    "  print('a is negative')\n",
    "else:\n",
    "  print('not negative')\n",
    "  ```"
   ]
  },
  {
   "cell_type": "markdown",
   "metadata": {
    "slideshow": {
     "slide_type": "subslide"
    }
   },
   "source": [
    "---\n",
    "```python\n",
    "\n",
    "if a < 0:\n",
    "  print('a is negative')\n",
    "elif a > 0:\n",
    "  print('a is positive')\n",
    "else:\n",
    "  print('a == 0')\n",
    "  ```\n",
    "  You can put as many `elif`s as you need."
   ]
  },
  {
   "cell_type": "markdown",
   "metadata": {
    "colab_type": "text",
    "id": "o0fZ5GZFVIbP",
    "slideshow": {
     "slide_type": "subslide"
    }
   },
   "source": [
    "#### Array comparison and boolean arrays\n",
    "\n",
    "\n"
   ]
  },
  {
   "cell_type": "code",
   "execution_count": null,
   "metadata": {
    "colab": {},
    "colab_type": "code",
    "id": "DVYM3ZARIiXl",
    "slideshow": {
     "slide_type": "fragment"
    }
   },
   "outputs": [],
   "source": [
    "myarray = np.array([1, 2, 3, 4])\n",
    "myarray > 2"
   ]
  },
  {
   "cell_type": "markdown",
   "metadata": {
    "colab_type": "text",
    "id": "R09g84zpVZo_",
    "slideshow": {
     "slide_type": "subslide"
    }
   },
   "source": [
    "#### Functions for condition check"
   ]
  },
  {
   "cell_type": "code",
   "execution_count": null,
   "metadata": {
    "colab": {},
    "colab_type": "code",
    "id": "BrXyAsXMIyRH",
    "slideshow": {
     "slide_type": "fragment"
    }
   },
   "outputs": [],
   "source": [
    "np.nonzero(myarray > 2)"
   ]
  },
  {
   "cell_type": "code",
   "execution_count": null,
   "metadata": {
    "colab": {},
    "colab_type": "code",
    "id": "4JaWGd9wIqnD",
    "slideshow": {
     "slide_type": "fragment"
    }
   },
   "outputs": [],
   "source": [
    "np.where(myarray > 2)"
   ]
  },
  {
   "cell_type": "code",
   "execution_count": null,
   "metadata": {
    "colab": {},
    "colab_type": "code",
    "id": "2IJW_rhzVv7U",
    "slideshow": {
     "slide_type": "fragment"
    }
   },
   "outputs": [],
   "source": [
    "myarray2 > 3"
   ]
  },
  {
   "cell_type": "code",
   "execution_count": null,
   "metadata": {
    "colab": {},
    "colab_type": "code",
    "id": "S9rtiEEMQCfK",
    "slideshow": {
     "slide_type": "fragment"
    }
   },
   "outputs": [],
   "source": [
    "np.nonzero(myarray2 > 3)"
   ]
  },
  {
   "cell_type": "code",
   "execution_count": null,
   "metadata": {
    "colab": {},
    "colab_type": "code",
    "id": "pz2OC8wBJFqL",
    "slideshow": {
     "slide_type": "fragment"
    }
   },
   "outputs": [],
   "source": [
    "np.where(myarray2 > 3)"
   ]
  },
  {
   "cell_type": "code",
   "execution_count": null,
   "metadata": {
    "colab": {},
    "colab_type": "code",
    "id": "gwXmFQH-JJjn",
    "slideshow": {
     "slide_type": "fragment"
    }
   },
   "outputs": [],
   "source": [
    "np.where(myarray2 > 3, 'X', 'Y')"
   ]
  },
  {
   "cell_type": "markdown",
   "metadata": {
    "colab_type": "text",
    "id": "4e1BwL19JiTa",
    "slideshow": {
     "slide_type": "fragment"
    }
   },
   "source": [
    "#### Pause here: Check the documentation on `where`"
   ]
  },
  {
   "cell_type": "markdown",
   "metadata": {
    "colab_type": "text",
    "id": "EL3TmFvdQCff",
    "slideshow": {
     "slide_type": "slide"
    }
   },
   "source": [
    "## Array of heterogeneous data\n",
    "#### Pause here: let us discuss data types\n",
    "- Anybody noticed `dtype` so far?\n",
    "- What are data types?\n",
    "- What are some of the  data types in Python?\n"
   ]
  },
  {
   "cell_type": "code",
   "execution_count": null,
   "metadata": {
    "colab": {},
    "colab_type": "code",
    "id": "hA0eZjz6QCfh",
    "slideshow": {
     "slide_type": "fragment"
    }
   },
   "outputs": [],
   "source": [
    "harray = np.array([(1, 's', 3.14)])#, dtype=[('a', 'i8'), ('b', 'S1'), ('c', 'f4')])"
   ]
  },
  {
   "cell_type": "code",
   "execution_count": null,
   "metadata": {
    "colab": {},
    "colab_type": "code",
    "id": "faAQGQ4vQCfq",
    "slideshow": {
     "slide_type": "fragment"
    }
   },
   "outputs": [],
   "source": [
    "harray"
   ]
  },
  {
   "cell_type": "code",
   "execution_count": null,
   "metadata": {
    "colab": {},
    "colab_type": "code",
    "id": "cvLfLlSOQCft",
    "slideshow": {
     "slide_type": "fragment"
    }
   },
   "outputs": [],
   "source": [
    "harray = np.array([(1, 's', 3.14)], dtype=[('a', 'i8'), ('b', 'S1'), ('c', 'f4')])"
   ]
  },
  {
   "cell_type": "code",
   "execution_count": null,
   "metadata": {
    "colab": {},
    "colab_type": "code",
    "id": "hF-OiksUQCfy",
    "slideshow": {
     "slide_type": "fragment"
    }
   },
   "outputs": [],
   "source": [
    "harray['a']"
   ]
  },
  {
   "cell_type": "code",
   "execution_count": null,
   "metadata": {
    "colab": {},
    "colab_type": "code",
    "id": "Rzgjg_YyQCgA",
    "slideshow": {
     "slide_type": "fragment"
    }
   },
   "outputs": [],
   "source": [
    "harray[['a', 'b']]"
   ]
  },
  {
   "cell_type": "markdown",
   "metadata": {
    "colab_type": "text",
    "id": "oD7AHSQPkEBF",
    "slideshow": {
     "slide_type": "slide"
    }
   },
   "source": [
    "## Using real data\n",
    "We shall use data from the Wisconsin breast cancer database available online."
   ]
  },
  {
   "cell_type": "code",
   "execution_count": null,
   "metadata": {
    "colab": {},
    "colab_type": "code",
    "id": "1t-9ikHbCh92",
    "slideshow": {
     "slide_type": "fragment"
    }
   },
   "outputs": [],
   "source": [
    "data_url = 'http://archive.ics.uci.edu/ml/machine-learning-databases/breast-cancer-wisconsin/breast-cancer-wisconsin.data'\n",
    "attr_url = 'http://archive.ics.uci.edu/ml/machine-learning-databases/breast-cancer-wisconsin/breast-cancer-wisconsin.names'"
   ]
  },
  {
   "cell_type": "markdown",
   "metadata": {
    "colab_type": "text",
    "id": "PzKSwY_4kPvS",
    "slideshow": {
     "slide_type": "fragment"
    }
   },
   "source": [
    "- Information about the data is available in internet location referred to in `attr_url`.\n",
    "- In human-readable plain text format. \n",
    "- We shall retrieve this using `http` protocol via functions in the `requests` library. \n",
    "- When working on a local computer, we could just download the file manually."
   ]
  },
  {
   "cell_type": "code",
   "execution_count": null,
   "metadata": {
    "colab": {},
    "colab_type": "code",
    "id": "d_1rGoGsCyvd",
    "slideshow": {
     "slide_type": "fragment"
    }
   },
   "outputs": [],
   "source": [
    "attrs = requests.get(attr_url)"
   ]
  },
  {
   "cell_type": "markdown",
   "metadata": {
    "colab_type": "text",
    "id": "h2Y1fQoMDStj",
    "slideshow": {
     "slide_type": "subslide"
    }
   },
   "source": [
    "Skim through the attributes. The data is meaningless jumble of numbers without some of this information (metadata) Pay attention to 5-8."
   ]
  },
  {
   "cell_type": "code",
   "execution_count": null,
   "metadata": {
    "colab": {},
    "colab_type": "code",
    "id": "c6SgqHLYDI0H",
    "slideshow": {
     "slide_type": "fragment"
    }
   },
   "outputs": [],
   "source": [
    "print(attrs.content.decode('utf-8'))"
   ]
  },
  {
   "cell_type": "markdown",
   "metadata": {
    "colab_type": "text",
    "id": "xxRQaGUbliQw",
    "slideshow": {
     "slide_type": "subslide"
    }
   },
   "source": [
    "Retrieve the data from the web server into a string."
   ]
  },
  {
   "cell_type": "code",
   "execution_count": null,
   "metadata": {
    "colab": {},
    "colab_type": "code",
    "id": "SPJCGXr0DK_D",
    "slideshow": {
     "slide_type": "fragment"
    }
   },
   "outputs": [],
   "source": [
    "data_str = requests.get(data_url).content.decode('utf-8')"
   ]
  },
  {
   "cell_type": "code",
   "execution_count": null,
   "metadata": {
    "colab": {},
    "colab_type": "code",
    "id": "uMKMLdOxD0He",
    "slideshow": {
     "slide_type": "fragment"
    }
   },
   "outputs": [],
   "source": [
    "print(data_str[:100])"
   ]
  },
  {
   "cell_type": "code",
   "execution_count": null,
   "metadata": {
    "colab": {},
    "colab_type": "code",
    "id": "cPtWM3nrEQU2",
    "slideshow": {
     "slide_type": "fragment"
    }
   },
   "outputs": [],
   "source": [
    "type(data_str)"
   ]
  },
  {
   "cell_type": "markdown",
   "metadata": {
    "colab_type": "text",
    "id": "fRhJtYFumLRi",
    "slideshow": {
     "slide_type": "slide"
    }
   },
   "source": [
    "### Read the data into a numpy array.\n",
    "- With `python` on local computer, you could simply download the data file manually and load it from local disk like: \n",
    "\n",
    "    `np.loadtxt(filename, other arguments)`\n",
    "\n",
    "    or\n",
    "\n",
    "    `np.genfromtext(filename, other arguments)`. "
   ]
  },
  {
   "cell_type": "markdown",
   "metadata": {
    "colab_type": "text",
    "id": "fRhJtYFumLRi",
    "slideshow": {
     "slide_type": "fragment"
    }
   },
   "source": [
    "- Since we have a `str` instead of a file, we use a `StringIO` object around the string containing our data as a proxy for a file. "
   ]
  },
  {
   "cell_type": "code",
   "execution_count": null,
   "metadata": {
    "colab": {},
    "colab_type": "code",
    "id": "YkVegmqK__q7",
    "slideshow": {
     "slide_type": "subslide"
    }
   },
   "outputs": [],
   "source": [
    "data = np.loadtxt(io.StringIO(data_str), delimiter=',')"
   ]
  },
  {
   "cell_type": "code",
   "execution_count": null,
   "metadata": {
    "colab": {},
    "colab_type": "code",
    "id": "pEthoBLhAMHJ",
    "slideshow": {
     "slide_type": "subslide"
    }
   },
   "outputs": [],
   "source": [
    "data = np.loadtxt(io.StringIO(data_str), delimiter=',', dtype=int)"
   ]
  },
  {
   "cell_type": "code",
   "execution_count": null,
   "metadata": {
    "colab": {},
    "colab_type": "code",
    "id": "031fUjsOAY9S",
    "slideshow": {
     "slide_type": "subslide"
    }
   },
   "outputs": [],
   "source": [
    "data = np.loadtxt(io.StringIO(data_str), delimiter=',', dtype=str)"
   ]
  },
  {
   "cell_type": "code",
   "execution_count": null,
   "metadata": {
    "colab": {},
    "colab_type": "code",
    "id": "pTaPzS65AcUl",
    "scrolled": true,
    "slideshow": {
     "slide_type": "fragment"
    }
   },
   "outputs": [],
   "source": [
    "print(data[20:25])"
   ]
  },
  {
   "cell_type": "code",
   "execution_count": null,
   "metadata": {
    "slideshow": {
     "slide_type": "subslide"
    }
   },
   "outputs": [],
   "source": [
    "data = np.genfromtxt(io.StringIO(data_str), delimiter=',', dtype=None)"
   ]
  },
  {
   "cell_type": "code",
   "execution_count": null,
   "metadata": {
    "slideshow": {
     "slide_type": "fragment"
    }
   },
   "outputs": [],
   "source": [
    "data[20:25]"
   ]
  },
  {
   "cell_type": "code",
   "execution_count": null,
   "metadata": {
    "slideshow": {
     "slide_type": "subslide"
    }
   },
   "outputs": [],
   "source": [
    "data = np.genfromtxt(io.StringIO(data_str), delimiter=',', dtype=None, missing_values='?')"
   ]
  },
  {
   "cell_type": "code",
   "execution_count": null,
   "metadata": {
    "slideshow": {
     "slide_type": "fragment"
    }
   },
   "outputs": [],
   "source": [
    "data[20:25]"
   ]
  },
  {
   "cell_type": "code",
   "execution_count": null,
   "metadata": {
    "slideshow": {
     "slide_type": "subslide"
    }
   },
   "outputs": [],
   "source": [
    "data = np.genfromtxt(io.StringIO(data_str), delimiter=',', dtype=None, missing_values='?', filling_values=-999)"
   ]
  },
  {
   "cell_type": "code",
   "execution_count": null,
   "metadata": {
    "slideshow": {
     "slide_type": "fragment"
    }
   },
   "outputs": [],
   "source": [
    "data[20:25]"
   ]
  },
  {
   "cell_type": "markdown",
   "metadata": {
    "colab_type": "text",
    "id": "QLP1ZSv67xkn",
    "slideshow": {
     "slide_type": "subslide"
    }
   },
   "source": [
    "**Could be better!**\n",
    "- We can define the field names and their data type here. \n"
   ]
  },
  {
   "cell_type": "markdown",
   "metadata": {
    "slideshow": {
     "slide_type": "slide"
    }
   },
   "source": [
    "### Check for missing values\n",
    "- What did we find about representation of missing data in this case?\n",
    "- We can try to compare the element values to this missing data representative.\n",
    "- `numpy` function `where` lets us check a condition on each element of an array."
   ]
  },
  {
   "cell_type": "code",
   "execution_count": null,
   "metadata": {
    "slideshow": {
     "slide_type": "fragment"
    }
   },
   "outputs": [],
   "source": [
    "np.where(data == -999)"
   ]
  },
  {
   "cell_type": "markdown",
   "metadata": {
    "slideshow": {
     "slide_type": "slide"
    }
   },
   "source": [
    "### Define column/field names and type"
   ]
  },
  {
   "cell_type": "code",
   "execution_count": null,
   "metadata": {
    "colab": {},
    "colab_type": "code",
    "id": "lkLfWNZaFdLk",
    "slideshow": {
     "slide_type": "skip"
    }
   },
   "outputs": [],
   "source": [
    " #columns = ['SCN', 'thickness', 'sizeu', 'shapeu', 'adhesion', 'csize', 'bare', 'blandchrom', 'normncl', 'mitoses', 'cclass']"
   ]
  },
  {
   "cell_type": "code",
   "execution_count": null,
   "metadata": {
    "colab": {},
    "colab_type": "code",
    "id": "lkLfWNZaFdLk",
    "slideshow": {
     "slide_type": "fragment"
    }
   },
   "outputs": [],
   "source": [
    "dtype = [('SCN', 'U8'), ('thickness', int), ('sizeu', int), ('shapeu', int), \n",
    "         ('adhesion', int), ('csize', int), ('bare', int), ('blandchrom', int), \n",
    "         ('normncl', int), ('mitoses', int), ('cclass', int)]"
   ]
  },
  {
   "cell_type": "code",
   "execution_count": null,
   "metadata": {
    "colab": {},
    "colab_type": "code",
    "id": "lkLfWNZaFdLk",
    "slideshow": {
     "slide_type": "skip"
    }
   },
   "outputs": [],
   "source": [
    "# dtype = [('SCN', 'u8'), ('thickness', 'u1'), ('sizeu', 'u1'), ('shapeu', 'u1'), ('adhesion', 'u1'), ('csize', 'u1'), ('bare', 'u1'), ('blandchrom', 'u1'), ('normncl', 'u1'), ('mitoses', 'u1'), ('cclass', 'u1')]"
   ]
  },
  {
   "cell_type": "code",
   "execution_count": null,
   "metadata": {
    "colab": {},
    "colab_type": "code",
    "id": "ZDGAvvbbmXDf",
    "slideshow": {
     "slide_type": "fragment"
    }
   },
   "outputs": [],
   "source": [
    "data = np.genfromtxt(io.StringIO(data_str), delimiter=',', dtype=dtype, missing_values='?', filling_values=-999)"
   ]
  },
  {
   "cell_type": "code",
   "execution_count": null,
   "metadata": {
    "colab": {},
    "colab_type": "code",
    "id": "eGy6yIVu9ST6",
    "slideshow": {
     "slide_type": "fragment"
    }
   },
   "outputs": [],
   "source": [
    "print(data.shape)"
   ]
  },
  {
   "cell_type": "code",
   "execution_count": null,
   "metadata": {
    "colab": {},
    "colab_type": "code",
    "id": "wUcFD1Kun2aV",
    "slideshow": {
     "slide_type": "fragment"
    }
   },
   "outputs": [],
   "source": [
    "print(data[20: 25])"
   ]
  },
  {
   "cell_type": "markdown",
   "metadata": {
    "colab_type": "text",
    "id": "by6opEv9rvST",
    "slideshow": {
     "slide_type": "subslide"
    }
   },
   "source": [
    "- Look at the original data file. \n",
    "- Note 24-th row has missing data with `?` inserted in place of a number.\n",
    "- You can specify `missing_values` and `filling_values` in `genfromtxt(...)`.\n",
    "- Be careful about how missing values are represented."
   ]
  },
  {
   "cell_type": "markdown",
   "metadata": {
    "colab_type": "text",
    "id": "Hqfb4KG0FiXm",
    "slideshow": {
     "slide_type": "subslide"
    }
   },
   "source": [
    "### Accessing fields in the data"
   ]
  },
  {
   "cell_type": "code",
   "execution_count": null,
   "metadata": {
    "colab": {},
    "colab_type": "code",
    "id": "ljz9Xqe9FxBL",
    "slideshow": {
     "slide_type": "fragment"
    }
   },
   "outputs": [],
   "source": [
    "data['SCN']"
   ]
  },
  {
   "cell_type": "code",
   "execution_count": null,
   "metadata": {
    "colab": {},
    "colab_type": "code",
    "id": "FKD5mL_MF5p2",
    "slideshow": {
     "slide_type": "subslide"
    }
   },
   "outputs": [],
   "source": [
    "data['SCN'][2]"
   ]
  },
  {
   "cell_type": "code",
   "execution_count": null,
   "metadata": {
    "colab": {},
    "colab_type": "code",
    "id": "80PqJbHrF8SR",
    "slideshow": {
     "slide_type": "fragment"
    }
   },
   "outputs": [],
   "source": [
    "data[2]['SCN']"
   ]
  },
  {
   "cell_type": "code",
   "execution_count": null,
   "metadata": {
    "colab": {},
    "colab_type": "code",
    "id": "Ua6H189mF_fy",
    "slideshow": {
     "slide_type": "fragment"
    }
   },
   "outputs": [],
   "source": [
    "data[2][0]"
   ]
  },
  {
   "cell_type": "code",
   "execution_count": null,
   "metadata": {
    "colab": {},
    "colab_type": "code",
    "id": "5qbzTwTjGJNB",
    "slideshow": {
     "slide_type": "fragment"
    }
   },
   "outputs": [],
   "source": [
    "data[2, 0]"
   ]
  },
  {
   "cell_type": "markdown",
   "metadata": {
    "colab_type": "text",
    "id": "RF3qYZqM_12Z",
    "slideshow": {
     "slide_type": "fragment"
    }
   },
   "source": [
    "**We have a record/structured array with 1 dimension**\n",
    " - Each element is a record / structure"
   ]
  },
  {
   "cell_type": "markdown",
   "metadata": {
    "colab_type": "text",
    "id": "RF3qYZqM_12Z",
    "slideshow": {
     "slide_type": "slide"
    }
   },
   "source": [
    "#### Can we use `numpy` function `where` to check a condition on each element of a structured array?"
   ]
  },
  {
   "cell_type": "code",
   "execution_count": null,
   "metadata": {
    "colab": {},
    "colab_type": "code",
    "id": "FPRD5IVCKAeJ",
    "slideshow": {
     "slide_type": "fragment"
    }
   },
   "outputs": [],
   "source": [
    "np.where(data == -1)"
   ]
  },
  {
   "cell_type": "markdown",
   "metadata": {
    "colab_type": "text",
    "id": "AR08zlK5KNGR",
    "slideshow": {
     "slide_type": "subslide"
    }
   },
   "source": [
    "#### Pause here: Let us try one column at a time.\n",
    " - How can we check the columns one by one?\n",
    " - Hint: loop, `np.dtype`, `np.issubdtype`"
   ]
  },
  {
   "cell_type": "code",
   "execution_count": null,
   "metadata": {
    "slideshow": {
     "slide_type": "fragment"
    }
   },
   "outputs": [],
   "source": [
    "data.dtype['SCN']"
   ]
  },
  {
   "cell_type": "code",
   "execution_count": null,
   "metadata": {
    "slideshow": {
     "slide_type": "fragment"
    }
   },
   "outputs": [],
   "source": [
    "data.dtype['thickness']"
   ]
  },
  {
   "cell_type": "code",
   "execution_count": null,
   "metadata": {
    "slideshow": {
     "slide_type": "subslide"
    }
   },
   "outputs": [],
   "source": [
    "data.dtype.names"
   ]
  },
  {
   "cell_type": "markdown",
   "metadata": {
    "colab_type": "text",
    "id": "Mcvnl6CxKUMK",
    "slideshow": {
     "slide_type": "subslide"
    }
   },
   "source": [
    "#### Pause here: loops in Python\n",
    "- `for` loop for looping over sequence of elements.\n",
    "\n",
    "```python\n",
    "    x = ['alpha', 'bravo', 'charlie', 'delta']\n",
    "    for ii in x:\n",
    "        print(ii)\n",
    "    \n",
    "```  "
   ]
  },
  {
   "cell_type": "markdown",
   "metadata": {
    "colab_type": "text",
    "id": "Mcvnl6CxKUMK",
    "slideshow": {
     "slide_type": "fragment"
    }
   },
   "source": [
    "- `while` loop for conditional looping.\n",
    "  ```python\n",
    "x = 0\n",
    "while x < 10:\n",
    "    print(x)\n",
    "    x += 1\n",
    "  \n",
    "  ```"
   ]
  },
  {
   "cell_type": "code",
   "execution_count": null,
   "metadata": {
    "colab": {},
    "colab_type": "code",
    "id": "6fuw4QyoobSc",
    "slideshow": {
     "slide_type": "subslide"
    }
   },
   "outputs": [],
   "source": [
    "for name in data.dtype.names:\n",
    "    print(f'Column: {name}')\n",
    "    if np.issubdtype(data.dtype[name], np.number):\n",
    "        missing = np.where(data[name] < 0)\n",
    "        if missing[0].shape[0] > 0:\n",
    "            print(f'        missing data in rows: {missing}')"
   ]
  },
  {
   "cell_type": "markdown",
   "metadata": {
    "colab_type": "text",
    "id": "1uYEGVcmQCi3",
    "slideshow": {
     "slide_type": "slide"
    }
   },
   "source": [
    "## Plotting data"
   ]
  },
  {
   "cell_type": "code",
   "execution_count": null,
   "metadata": {
    "slideshow": {
     "slide_type": "skip"
    }
   },
   "outputs": [],
   "source": [
    "plt.ion()  # Make it interactive"
   ]
  },
  {
   "cell_type": "code",
   "execution_count": null,
   "metadata": {
    "slideshow": {
     "slide_type": "skip"
    }
   },
   "outputs": [],
   "source": [
    "plt.ioff()"
   ]
  },
  {
   "cell_type": "code",
   "execution_count": null,
   "metadata": {
    "colab": {},
    "colab_type": "code",
    "id": "LPPpV3uzQCi5",
    "slideshow": {
     "slide_type": "fragment"
    }
   },
   "outputs": [],
   "source": [
    "plt.plot(data['thickness'])"
   ]
  },
  {
   "cell_type": "code",
   "execution_count": null,
   "metadata": {
    "slideshow": {
     "slide_type": "skip"
    }
   },
   "outputs": [],
   "source": [
    "plt.show()"
   ]
  },
  {
   "cell_type": "code",
   "execution_count": null,
   "metadata": {
    "colab": {},
    "colab_type": "code",
    "id": "l_V2N0HNQCi7",
    "slideshow": {
     "slide_type": "subslide"
    }
   },
   "outputs": [],
   "source": [
    "plt.plot(data['thickness'], 'o')"
   ]
  },
  {
   "cell_type": "code",
   "execution_count": null,
   "metadata": {
    "colab": {},
    "colab_type": "code",
    "id": "aAh6TnVAQCi-",
    "slideshow": {
     "slide_type": "subslide"
    }
   },
   "outputs": [],
   "source": [
    "plt.plot(data['thickness'], data['csize'], 'o')"
   ]
  },
  {
   "cell_type": "code",
   "execution_count": null,
   "metadata": {
    "colab": {},
    "colab_type": "code",
    "id": "2hPZ0_YKQCjC",
    "slideshow": {
     "slide_type": "subslide"
    }
   },
   "outputs": [],
   "source": [
    "plt.plot(data['sizeu'], data['csize'], 'ro')"
   ]
  },
  {
   "cell_type": "code",
   "execution_count": null,
   "metadata": {
    "colab": {},
    "colab_type": "code",
    "id": "P3HcwOC8QCjH",
    "slideshow": {
     "slide_type": "subslide"
    }
   },
   "outputs": [],
   "source": [
    "plt.plot(data['mitoses'], data['csize'], 'go-')"
   ]
  },
  {
   "cell_type": "code",
   "execution_count": null,
   "metadata": {
    "colab": {},
    "colab_type": "code",
    "id": "9il5dxjzQCjN",
    "slideshow": {
     "slide_type": "subslide"
    }
   },
   "outputs": [],
   "source": [
    "plt.hist(data['csize'])"
   ]
  },
  {
   "cell_type": "code",
   "execution_count": null,
   "metadata": {
    "colab": {},
    "colab_type": "code",
    "id": "gQYbaNG5lgbj",
    "slideshow": {
     "slide_type": "subslide"
    }
   },
   "outputs": [],
   "source": [
    "plt.boxplot([data['csize'], data['mitoses']])"
   ]
  },
  {
   "cell_type": "code",
   "execution_count": null,
   "metadata": {
    "colab": {},
    "colab_type": "code",
    "id": "XHxUk-h-pDNU",
    "slideshow": {
     "slide_type": "skip"
    }
   },
   "outputs": [],
   "source": [
    "# pdata = pd.read_csv(data_url, names=data.dtype.names)"
   ]
  },
  {
   "cell_type": "code",
   "execution_count": null,
   "metadata": {
    "colab": {},
    "colab_type": "code",
    "id": "5s14fUsHqUkZ",
    "slideshow": {
     "slide_type": "skip"
    }
   },
   "outputs": [],
   "source": [
    "# pdata.iloc[23]"
   ]
  },
  {
   "cell_type": "code",
   "execution_count": null,
   "metadata": {
    "colab": {},
    "colab_type": "code",
    "id": "S3u4ptEkrie3",
    "slideshow": {
     "slide_type": "skip"
    }
   },
   "outputs": [],
   "source": [
    "# pdata.columns"
   ]
  },
  {
   "cell_type": "markdown",
   "metadata": {
    "colab_type": "text",
    "id": "-ZL1AaCqrln7",
    "slideshow": {
     "slide_type": "slide"
    }
   },
   "source": [
    "### Adding legend"
   ]
  },
  {
   "cell_type": "code",
   "execution_count": null,
   "metadata": {
    "colab": {},
    "colab_type": "code",
    "id": "PjGjre4cF73H",
    "slideshow": {
     "slide_type": "subslide"
    }
   },
   "outputs": [],
   "source": [
    "plt.legend()"
   ]
  },
  {
   "cell_type": "markdown",
   "metadata": {
    "colab_type": "text",
    "id": "YSs2LPXIlE7Q",
    "slideshow": {
     "slide_type": "slide"
    }
   },
   "source": [
    "### Subplots\n"
   ]
  },
  {
   "cell_type": "code",
   "execution_count": null,
   "metadata": {
    "colab": {},
    "colab_type": "code",
    "id": "vwDCkxqzGLBh",
    "slideshow": {
     "slide_type": "subslide"
    }
   },
   "outputs": [],
   "source": [
    "ax0 = plt.subplot(2, 2, 1)\n",
    "ax1 = plt.subplot(2, 2, 2)\n",
    "ax2 = plt.subplot(2, 2, 3)\n",
    "ax3 = plt.subplot(2, 2, 4)"
   ]
  },
  {
   "cell_type": "markdown",
   "metadata": {
    "colab_type": "text",
    "id": "eImgMXAPGAnd",
    "slideshow": {
     "slide_type": "subslide"
    }
   },
   "source": [
    "#### Sharing axis scales between subplots"
   ]
  },
  {
   "cell_type": "code",
   "execution_count": null,
   "metadata": {
    "colab": {},
    "colab_type": "code",
    "id": "waOjl4quGaZ0",
    "slideshow": {
     "slide_type": "fragment"
    }
   },
   "outputs": [],
   "source": [
    "ax0 = plt.subplot(2, 2, 1)\n",
    "ax1 = plt.subplot(2, 2, 2, sharey=ax0)"
   ]
  },
  {
   "cell_type": "code",
   "execution_count": null,
   "metadata": {
    "colab": {},
    "colab_type": "code",
    "id": "dnj7LrDCGqHg",
    "slideshow": {
     "slide_type": "slide"
    }
   },
   "outputs": [],
   "source": [
    "fig, ax = plt.subplots(nrows=2, ncols=2, sharey='row')"
   ]
  },
  {
   "cell_type": "markdown",
   "metadata": {
    "colab_type": "text",
    "id": "SS78DuAMlGAb",
    "slideshow": {
     "slide_type": "skip"
    }
   },
   "source": [
    "### Layout control"
   ]
  },
  {
   "cell_type": "markdown",
   "metadata": {
    "colab_type": "text",
    "id": "gTmO0M32lUiZ",
    "slideshow": {
     "slide_type": "slide"
    }
   },
   "source": [
    "### Further information on plotting\n",
    " - See https://matplotlib.org/gallery.html"
   ]
  },
  {
   "cell_type": "markdown",
   "metadata": {
    "colab_type": "text",
    "id": "qGiAbiMwmd8B",
    "slideshow": {
     "slide_type": "slide"
    }
   },
   "source": [
    "### Other useful libraries\n",
    "  1. Multidimensional arrays with complex data and metadata: `xarray`\n",
    "  1. Statistics: `statsmodels`\n",
    "  1. Image-processing: `PIL`, `opencv`, `imagej`\n",
    "  1. Machine learning: `scikits-learn (sklearn)`\n",
    "  1. Network analysis: `networkx`, `igraph`\n",
    "  1. HDF5: `h5py`, `PyTables`\n",
    "  1. Graphical User Interface (GUI): `PyQT`, `ipywidgets`\n",
    "  1. Efficient plotting: `pyqtgraph`\n",
    "  1. Broad range of basic functions in science and engineering: `scipy`\n",
    "  1. Symbolic mathematics: `sympy`, (also `sage` - a whole environment like `Mathematica`)"
   ]
  }
 ],
 "metadata": {
  "celltoolbar": "Slideshow",
  "colab": {
   "collapsed_sections": [],
   "include_colab_link": true,
   "name": "Wisconsin_breast_cancer_data.ipynb",
   "private_outputs": true,
   "provenance": [],
   "version": "0.3.2"
  },
  "kernelspec": {
   "display_name": "Python 3",
   "language": "python",
   "name": "python3"
  },
  "language_info": {
   "codemirror_mode": {
    "name": "ipython",
    "version": 3
   },
   "file_extension": ".py",
   "mimetype": "text/x-python",
   "name": "python",
   "nbconvert_exporter": "python",
   "pygments_lexer": "ipython3",
   "version": "3.6.7"
  }
 },
 "nbformat": 4,
 "nbformat_minor": 1
}
