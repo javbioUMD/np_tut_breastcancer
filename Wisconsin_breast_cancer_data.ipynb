{
  "nbformat": 4,
  "nbformat_minor": 0,
  "metadata": {
    "colab": {
      "name": "Wisconsin_breast_cancer_data.ipynb",
      "version": "0.3.2",
      "provenance": [],
      "private_outputs": true,
      "collapsed_sections": [],
      "include_colab_link": true
    },
    "language_info": {
      "codemirror_mode": {
        "name": "ipython",
        "version": 3
      },
      "file_extension": ".py",
      "mimetype": "text/x-python",
      "name": "python",
      "nbconvert_exporter": "python",
      "pygments_lexer": "ipython3",
      "version": "3.7.3"
    },
    "kernelspec": {
      "display_name": "Python 3",
      "language": "python",
      "name": "python3"
    }
  },
  "cells": [
    {
      "cell_type": "markdown",
      "metadata": {
        "id": "view-in-github",
        "colab_type": "text"
      },
      "source": [
        "<a href=\"https://colab.research.google.com/github/subhacom/np_tut_breastcancer/blob/master/Wisconsin_breast_cancer_data.ipynb\" target=\"_parent\"><img src=\"https://colab.research.google.com/assets/colab-badge.svg\" alt=\"Open In Colab\"/></a>"
      ]
    },
    {
      "cell_type": "markdown",
      "metadata": {
        "colab_type": "text",
        "id": "WgOrXZ1HjyYY"
      },
      "source": [
        "# Tutorial on using numpy and matplotlib"
      ]
    },
    {
      "cell_type": "markdown",
      "metadata": {
        "colab_type": "text",
        "id": "3zGrJdPej9MQ"
      },
      "source": [
        "Import required libraries (modules). The first two are part of Python standard library."
      ]
    },
    {
      "cell_type": "code",
      "metadata": {
        "colab_type": "code",
        "id": "Ei8lfdKkABLH",
        "colab": {}
      },
      "source": [
        "import io\n",
        "import requests"
      ],
      "execution_count": 0,
      "outputs": []
    },
    {
      "cell_type": "markdown",
      "metadata": {
        "id": "pBM4ePhP6pFz",
        "colab_type": "text"
      },
      "source": [
        "`numpy` and `matplotlib` are third-party libraries that are installed separately from `Python`. On your personal system I recommend installing **Anaconda** python distribution as a convenient, portable way to set up a scientific computing environment. Anaconda comes bundled with most commonly used libraries and you can easily install additional requirements."
      ]
    },
    {
      "cell_type": "markdown",
      "metadata": {
        "id": "5c-6FG1C6pF6",
        "colab_type": "text"
      },
      "source": [
        "For this tutorial, I am using cloud resources for running Jupyter notebooks (Google colaboratory, binder). There are many such free environments. See https://www.dataschool.io/cloud-services-for-jupyter-notebook/ for a comparison of some of the popular ones."
      ]
    },
    {
      "cell_type": "code",
      "metadata": {
        "id": "iuZE-dRe6pF_",
        "colab_type": "code",
        "colab": {}
      },
      "source": [
        "import numpy as np\n",
        "# import pandas as pd\n",
        "from matplotlib import pyplot as plt"
      ],
      "execution_count": 0,
      "outputs": []
    },
    {
      "cell_type": "markdown",
      "metadata": {
        "id": "wt0t437PGT6r",
        "colab_type": "text"
      },
      "source": [
        "## Basic numpy arrays\n",
        "You can define *homogeneous* arrays in `numpy`."
      ]
    },
    {
      "cell_type": "code",
      "metadata": {
        "id": "T14df3-EGffQ",
        "colab_type": "code",
        "colab": {}
      },
      "source": [
        "myarray = np.array([1, 2, 3])"
      ],
      "execution_count": 0,
      "outputs": []
    },
    {
      "cell_type": "code",
      "metadata": {
        "id": "uMVMoPafGi5c",
        "colab_type": "code",
        "colab": {}
      },
      "source": [
        "print(myarray)"
      ],
      "execution_count": 0,
      "outputs": []
    },
    {
      "cell_type": "code",
      "metadata": {
        "id": "sAwLNePDGlZH",
        "colab_type": "code",
        "colab": {}
      },
      "source": [
        "myarray"
      ],
      "execution_count": 0,
      "outputs": []
    },
    {
      "cell_type": "code",
      "metadata": {
        "id": "TQaAVPejGwdW",
        "colab_type": "code",
        "colab": {}
      },
      "source": [
        "myarray.T"
      ],
      "execution_count": 0,
      "outputs": []
    },
    {
      "cell_type": "markdown",
      "metadata": {
        "id": "e244GEgfG6U8",
        "colab_type": "text"
      },
      "source": [
        "You can make multidimensional arrays."
      ]
    },
    {
      "cell_type": "code",
      "metadata": {
        "id": "kx40Kop9G_18",
        "colab_type": "code",
        "colab": {}
      },
      "source": [
        "myarray2 = np.array([[1, 2, 3], [4, 5, 6]])"
      ],
      "execution_count": 0,
      "outputs": []
    },
    {
      "cell_type": "code",
      "metadata": {
        "id": "QudEGCrXHMmW",
        "colab_type": "code",
        "colab": {}
      },
      "source": [
        "myarray2"
      ],
      "execution_count": 0,
      "outputs": []
    },
    {
      "cell_type": "code",
      "metadata": {
        "id": "E0UMWVVGHPEG",
        "colab_type": "code",
        "colab": {}
      },
      "source": [
        "myarray2.T"
      ],
      "execution_count": 0,
      "outputs": []
    },
    {
      "cell_type": "markdown",
      "metadata": {
        "id": "L2a9snv1HULR",
        "colab_type": "text"
      },
      "source": [
        "Basic element-wise arithmetic on arrays"
      ]
    },
    {
      "cell_type": "code",
      "metadata": {
        "id": "ygci-OKpHZui",
        "colab_type": "code",
        "colab": {}
      },
      "source": [
        "2 * myarray"
      ],
      "execution_count": 0,
      "outputs": []
    },
    {
      "cell_type": "code",
      "metadata": {
        "id": "pn8XAdDBHeYb",
        "colab_type": "code",
        "colab": {}
      },
      "source": [
        "2**myarray"
      ],
      "execution_count": 0,
      "outputs": []
    },
    {
      "cell_type": "code",
      "metadata": {
        "id": "MIpRnfh3Hgx8",
        "colab_type": "code",
        "colab": {}
      },
      "source": [
        "2*myarray2"
      ],
      "execution_count": 0,
      "outputs": []
    },
    {
      "cell_type": "code",
      "metadata": {
        "id": "XrkhZHApHkU8",
        "colab_type": "code",
        "colab": {}
      },
      "source": [
        "myarray2**2"
      ],
      "execution_count": 0,
      "outputs": []
    },
    {
      "cell_type": "code",
      "metadata": {
        "id": "_Qe2e2g6HwBz",
        "colab_type": "code",
        "colab": {}
      },
      "source": [
        "myarray + 2"
      ],
      "execution_count": 0,
      "outputs": []
    },
    {
      "cell_type": "code",
      "metadata": {
        "id": "udV44WB0HpcF",
        "colab_type": "code",
        "colab": {}
      },
      "source": [
        "myarray + myarray2"
      ],
      "execution_count": 0,
      "outputs": []
    },
    {
      "cell_type": "markdown",
      "metadata": {
        "id": "saSDMJy1IPZs",
        "colab_type": "text"
      },
      "source": [
        "### Check conditions on `numpy` arrays\n",
        "- comparison\n",
        "- boolean arrays\n",
        "- functions for conditionals"
      ]
    },
    {
      "cell_type": "code",
      "metadata": {
        "id": "DVYM3ZARIiXl",
        "colab_type": "code",
        "colab": {}
      },
      "source": [
        "myarray > 2"
      ],
      "execution_count": 0,
      "outputs": []
    },
    {
      "cell_type": "code",
      "metadata": {
        "id": "BrXyAsXMIyRH",
        "colab_type": "code",
        "colab": {}
      },
      "source": [
        "np.nonzero(myarray > 2)"
      ],
      "execution_count": 0,
      "outputs": []
    },
    {
      "cell_type": "code",
      "metadata": {
        "id": "4JaWGd9wIqnD",
        "colab_type": "code",
        "colab": {}
      },
      "source": [
        "np.where(myarray > 2)"
      ],
      "execution_count": 0,
      "outputs": []
    },
    {
      "cell_type": "code",
      "metadata": {
        "id": "k7Dc2yshJCnq",
        "colab_type": "code",
        "colab": {}
      },
      "source": [
        "myarray2 > 3"
      ],
      "execution_count": 0,
      "outputs": []
    },
    {
      "cell_type": "code",
      "metadata": {
        "id": "pz2OC8wBJFqL",
        "colab_type": "code",
        "colab": {}
      },
      "source": [
        "np.where(myarray2 > 3)"
      ],
      "execution_count": 0,
      "outputs": []
    },
    {
      "cell_type": "code",
      "metadata": {
        "id": "gwXmFQH-JJjn",
        "colab_type": "code",
        "colab": {}
      },
      "source": [
        "np.where(myarray2 > 3, 'X', 'Y')"
      ],
      "execution_count": 0,
      "outputs": []
    },
    {
      "cell_type": "markdown",
      "metadata": {
        "id": "4e1BwL19JiTa",
        "colab_type": "text"
      },
      "source": [
        "### Pause here: read the documentation on `where`"
      ]
    },
    {
      "cell_type": "markdown",
      "metadata": {
        "colab_type": "text",
        "id": "oD7AHSQPkEBF"
      },
      "source": [
        "## Using real data\n",
        "We shall use data from the Wisconsin breast cancer database available online."
      ]
    },
    {
      "cell_type": "code",
      "metadata": {
        "colab_type": "code",
        "id": "1t-9ikHbCh92",
        "colab": {}
      },
      "source": [
        "data_url = 'http://archive.ics.uci.edu/ml/machine-learning-databases/breast-cancer-wisconsin/breast-cancer-wisconsin.data'\n",
        "attr_url = 'http://archive.ics.uci.edu/ml/machine-learning-databases/breast-cancer-wisconsin/breast-cancer-wisconsin.names'"
      ],
      "execution_count": 0,
      "outputs": []
    },
    {
      "cell_type": "markdown",
      "metadata": {
        "id": "CLpcf05pC2Eu",
        "colab_type": "text"
      },
      "source": [
        "We just defined to variables above. We ask python to print the values:"
      ]
    },
    {
      "cell_type": "code",
      "metadata": {
        "id": "Td-_jFuGCz3O",
        "colab_type": "code",
        "colab": {}
      },
      "source": [
        "print(data_url)"
      ],
      "execution_count": 0,
      "outputs": []
    },
    {
      "cell_type": "markdown",
      "metadata": {
        "colab_type": "text",
        "id": "PzKSwY_4kPvS"
      },
      "source": [
        "Information about the data is available in `attr_url`. It is information in plain text. We use `http` protocol via functions in the `requests` library. When running Python from local computer, we could simply go to the url and download the file to the local filsystem."
      ]
    },
    {
      "cell_type": "code",
      "metadata": {
        "colab_type": "code",
        "id": "d_1rGoGsCyvd",
        "colab": {}
      },
      "source": [
        "attrs = requests.get(attr_url)"
      ],
      "execution_count": 0,
      "outputs": []
    },
    {
      "cell_type": "markdown",
      "metadata": {
        "id": "h2Y1fQoMDStj",
        "colab_type": "text"
      },
      "source": [
        "Skim through the attributes. The data is meaningless jumble of numbers without some of this information (metadata) Pay attention to 5-8."
      ]
    },
    {
      "cell_type": "code",
      "metadata": {
        "colab_type": "code",
        "id": "c6SgqHLYDI0H",
        "colab": {}
      },
      "source": [
        "print(attrs.content.decode('utf-8'))"
      ],
      "execution_count": 0,
      "outputs": []
    },
    {
      "cell_type": "markdown",
      "metadata": {
        "colab_type": "text",
        "id": "xxRQaGUbliQw"
      },
      "source": [
        "Retrieve the data from the web server into a string."
      ]
    },
    {
      "cell_type": "code",
      "metadata": {
        "colab_type": "code",
        "id": "SPJCGXr0DK_D",
        "colab": {}
      },
      "source": [
        "data_str = requests.get(data_url).content.decode('utf-8')"
      ],
      "execution_count": 0,
      "outputs": []
    },
    {
      "cell_type": "code",
      "metadata": {
        "colab_type": "code",
        "id": "uMKMLdOxD0He",
        "colab": {}
      },
      "source": [
        "print(data_str[:100])"
      ],
      "execution_count": 0,
      "outputs": []
    },
    {
      "cell_type": "code",
      "metadata": {
        "id": "cPtWM3nrEQU2",
        "colab_type": "code",
        "colab": {}
      },
      "source": [
        "type(data_str)"
      ],
      "execution_count": 0,
      "outputs": []
    },
    {
      "cell_type": "markdown",
      "metadata": {
        "id": "f-DzgRTpEOOy",
        "colab_type": "text"
      },
      "source": [
        "### Pause here: let us discuss\n",
        "- What are data types?\n",
        "- What are some of the  data types in Python?\n"
      ]
    },
    {
      "cell_type": "markdown",
      "metadata": {
        "id": "QLP1ZSv67xkn",
        "colab_type": "text"
      },
      "source": [
        "We define the field names and their data type here. \n"
      ]
    },
    {
      "cell_type": "code",
      "metadata": {
        "colab_type": "code",
        "id": "lkLfWNZaFdLk",
        "colab": {}
      },
      "source": [
        " #columns = ['SCN', 'thickness', 'sizeu', 'shapeu', 'adhesion', 'csize', 'bare', 'blandchrom', 'normncl', 'mitoses', 'cclass']\n",
        "dtype = [('SCN', int), ('thickness', int), ('sizeu', int), ('shapeu', int), ('adhesion', int), ('csize', int), ('bare', int), ('blandchrom', int), ('normncl', int), ('mitoses', int), ('cclass', int)]\n",
        "# dtype = [('SCN', 'u8'), ('thickness', 'u1'), ('sizeu', 'u1'), ('shapeu', 'u1'), ('adhesion', 'u1'), ('csize', 'u1'), ('bare', 'u1'), ('blandchrom', 'u1'), ('normncl', 'u1'), ('mitoses', 'u1'), ('cclass', 'u1')]\n"
      ],
      "execution_count": 0,
      "outputs": []
    },
    {
      "cell_type": "code",
      "metadata": {
        "id": "-eiFwE5Z7tNB",
        "colab_type": "code",
        "colab": {}
      },
      "source": [
        "type(data_str)"
      ],
      "execution_count": 0,
      "outputs": []
    },
    {
      "cell_type": "code",
      "metadata": {
        "id": "ICS2-wQIECiG",
        "colab_type": "code",
        "colab": {}
      },
      "source": [
        "\n",
        "type(dtype)"
      ],
      "execution_count": 0,
      "outputs": []
    },
    {
      "cell_type": "markdown",
      "metadata": {
        "id": "6ZZ-1QbbEDn2",
        "colab_type": "text"
      },
      "source": [
        ""
      ]
    },
    {
      "cell_type": "markdown",
      "metadata": {
        "colab_type": "text",
        "id": "fRhJtYFumLRi"
      },
      "source": [
        "## Read the data into a numpy array.\n",
        "With a python running on your own computer, you could simply download the data file manually and load it from local disk like: `np.genfromtext(filename, other arguments)`. Since we have a `str` instead of a file, we use a `StringIO` object around the string containing our data as a proxy for a file. "
      ]
    },
    {
      "cell_type": "code",
      "metadata": {
        "id": "YkVegmqK__q7",
        "colab_type": "code",
        "colab": {}
      },
      "source": [
        "data = np.loadtxt(io.StringIO(data_str), delimiter=',')"
      ],
      "execution_count": 0,
      "outputs": []
    },
    {
      "cell_type": "markdown",
      "metadata": {
        "id": "mG0xgEA9BKok",
        "colab_type": "text"
      },
      "source": [
        "**You just encountered Python's error handling mechanism!**\n",
        "- Explain error handling for beginners."
      ]
    },
    {
      "cell_type": "code",
      "metadata": {
        "id": "pEthoBLhAMHJ",
        "colab_type": "code",
        "colab": {}
      },
      "source": [
        "data = np.loadtxt(io.StringIO(data_str), delimiter=',', dtype=int)"
      ],
      "execution_count": 0,
      "outputs": []
    },
    {
      "cell_type": "code",
      "metadata": {
        "id": "031fUjsOAY9S",
        "colab_type": "code",
        "colab": {}
      },
      "source": [
        "data = np.loadtxt(io.StringIO(data_str), delimiter=',', dtype=str)"
      ],
      "execution_count": 0,
      "outputs": []
    },
    {
      "cell_type": "code",
      "metadata": {
        "id": "pTaPzS65AcUl",
        "colab_type": "code",
        "colab": {}
      },
      "source": [
        "print(data[:25])"
      ],
      "execution_count": 0,
      "outputs": []
    },
    {
      "cell_type": "code",
      "metadata": {
        "colab_type": "code",
        "id": "ZDGAvvbbmXDf",
        "colab": {}
      },
      "source": [
        "data = np.genfromtxt(io.StringIO(data_str), delimiter=',', dtype=dtype, missing_values=np.nan)"
      ],
      "execution_count": 0,
      "outputs": []
    },
    {
      "cell_type": "code",
      "metadata": {
        "colab_type": "code",
        "id": "wUcFD1Kun2aV",
        "colab": {}
      },
      "source": [
        "print(data[: 25])"
      ],
      "execution_count": 0,
      "outputs": []
    },
    {
      "cell_type": "markdown",
      "metadata": {
        "colab_type": "text",
        "id": "XQ80U_ECsy4W"
      },
      "source": [
        "Note that counting starts with 0 in Python. `[:25]` indicates range. We shall talk about range and slices soon."
      ]
    },
    {
      "cell_type": "code",
      "metadata": {
        "colab_type": "code",
        "id": "tAlePxyFsm7X",
        "colab": {}
      },
      "source": [
        "data[23]"
      ],
      "execution_count": 0,
      "outputs": []
    },
    {
      "cell_type": "markdown",
      "metadata": {
        "colab_type": "text",
        "id": "by6opEv9rvST"
      },
      "source": [
        "- Look at the original data file. \n",
        "- Note 24-th row has missing data with `?` inserted in place of a number. \n",
        "- Numpy converted it to -1.\n",
        "- The exact value depends on what data type you choose in the `dtype` specification. \n",
        "- Careful about how missing values are represented.\n",
        "- Leaving a non-space, non-numeric character where a number is expected is generally a bad idea."
      ]
    },
    {
      "cell_type": "code",
      "metadata": {
        "colab_type": "code",
        "id": "GvuqAFnioF_t",
        "colab": {}
      },
      "source": [
        "type(data)"
      ],
      "execution_count": 0,
      "outputs": []
    },
    {
      "cell_type": "code",
      "metadata": {
        "colab_type": "code",
        "id": "_mZsHPFxSUs_",
        "colab": {}
      },
      "source": [
        "data.dtype"
      ],
      "execution_count": 0,
      "outputs": []
    },
    {
      "cell_type": "markdown",
      "metadata": {
        "id": "Hqfb4KG0FiXm",
        "colab_type": "text"
      },
      "source": [
        "### Accessing fields in the data"
      ]
    },
    {
      "cell_type": "code",
      "metadata": {
        "id": "ljz9Xqe9FxBL",
        "colab_type": "code",
        "colab": {}
      },
      "source": [
        "data['SCN']"
      ],
      "execution_count": 0,
      "outputs": []
    },
    {
      "cell_type": "code",
      "metadata": {
        "id": "FKD5mL_MF5p2",
        "colab_type": "code",
        "colab": {}
      },
      "source": [
        "data['SCN'][2]"
      ],
      "execution_count": 0,
      "outputs": []
    },
    {
      "cell_type": "code",
      "metadata": {
        "id": "80PqJbHrF8SR",
        "colab_type": "code",
        "colab": {}
      },
      "source": [
        "data[2]['SCN']"
      ],
      "execution_count": 0,
      "outputs": []
    },
    {
      "cell_type": "code",
      "metadata": {
        "id": "Ua6H189mF_fy",
        "colab_type": "code",
        "colab": {}
      },
      "source": [
        "data[2][0]"
      ],
      "execution_count": 0,
      "outputs": []
    },
    {
      "cell_type": "code",
      "metadata": {
        "id": "5qbzTwTjGJNB",
        "colab_type": "code",
        "colab": {}
      },
      "source": [
        "data[2, 0]"
      ],
      "execution_count": 0,
      "outputs": []
    },
    {
      "cell_type": "markdown",
      "metadata": {
        "id": "RF3qYZqM_12Z",
        "colab_type": "text"
      },
      "source": [
        "### Pause here: how can we check for missing data?\n",
        "- What did we find about representation of missing data in this case?\n",
        "- We can try to compare the element values to this missing data representative.\n",
        "- `numpy` function `where` lets us check a condition on each element of an array.\n"
      ]
    },
    {
      "cell_type": "code",
      "metadata": {
        "id": "FPRD5IVCKAeJ",
        "colab_type": "code",
        "colab": {}
      },
      "source": [
        "np.where(data == -1)"
      ],
      "execution_count": 0,
      "outputs": []
    },
    {
      "cell_type": "markdown",
      "metadata": {
        "id": "AR08zlK5KNGR",
        "colab_type": "text"
      },
      "source": [
        "### Pause here: Let us try one column at a time.\n",
        "- How can we check the columns one by one?"
      ]
    },
    {
      "cell_type": "code",
      "metadata": {
        "colab_type": "code",
        "id": "6fuw4QyoobSc",
        "colab": {}
      },
      "source": [
        "for name in data.dtype.names:\n",
        "  print(f'{name}: missing data in rows: {np.where(data[name] < 0)}')"
      ],
      "execution_count": 0,
      "outputs": []
    },
    {
      "cell_type": "markdown",
      "metadata": {
        "id": "Mcvnl6CxKUMK",
        "colab_type": "text"
      },
      "source": [
        "That is a `for` loop. Python has `while` loop for conditional looping."
      ]
    },
    {
      "cell_type": "code",
      "metadata": {
        "colab_type": "code",
        "id": "XHxUk-h-pDNU",
        "colab": {}
      },
      "source": [
        "# pdata = pd.read_csv(data_url, names=data.dtype.names)"
      ],
      "execution_count": 0,
      "outputs": []
    },
    {
      "cell_type": "code",
      "metadata": {
        "colab_type": "code",
        "id": "5s14fUsHqUkZ",
        "colab": {}
      },
      "source": [
        "# pdata.iloc[23]"
      ],
      "execution_count": 0,
      "outputs": []
    },
    {
      "cell_type": "code",
      "metadata": {
        "colab_type": "code",
        "id": "S3u4ptEkrie3",
        "colab": {}
      },
      "source": [
        "# pdata.columns"
      ],
      "execution_count": 0,
      "outputs": []
    },
    {
      "cell_type": "code",
      "metadata": {
        "colab_type": "code",
        "id": "-ZL1AaCqrln7",
        "colab": {}
      },
      "source": [
        ""
      ],
      "execution_count": 0,
      "outputs": []
    }
  ]
}