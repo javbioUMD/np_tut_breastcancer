{
  "nbformat": 4,
  "nbformat_minor": 0,
  "metadata": {
    "colab": {
      "name": "Wisconsin_breast_cancer_data.ipynb",
      "version": "0.3.2",
      "provenance": [],
      "private_outputs": true,
      "collapsed_sections": [],
      "include_colab_link": true
    },
    "kernelspec": {
      "name": "python3",
      "display_name": "Python 3"
    }
  },
  "cells": [
    {
      "cell_type": "markdown",
      "metadata": {
        "id": "view-in-github",
        "colab_type": "text"
      },
      "source": [
        "<a href=\"https://colab.research.google.com/github/subhacom/np_tut_breastcancer/blob/master/Wisconsin_breast_cancer_data.ipynb\" target=\"_parent\"><img src=\"https://colab.research.google.com/assets/colab-badge.svg\" alt=\"Open In Colab\"/></a>"
      ]
    },
    {
      "cell_type": "code",
      "metadata": {
        "id": "ArxjmIvaWrjp",
        "colab_type": "code",
        "colab": {}
      },
      "source": [
        ""
      ],
      "execution_count": 0,
      "outputs": []
    },
    {
      "cell_type": "markdown",
      "metadata": {
        "id": "WgOrXZ1HjyYY",
        "colab_type": "text"
      },
      "source": [
        "# Tutorial on using numpy and matplotlib"
      ]
    },
    {
      "cell_type": "markdown",
      "metadata": {
        "id": "3zGrJdPej9MQ",
        "colab_type": "text"
      },
      "source": [
        "Import required libraries"
      ]
    },
    {
      "cell_type": "code",
      "metadata": {
        "id": "Ei8lfdKkABLH",
        "colab_type": "code",
        "colab": {}
      },
      "source": [
        "import io\n",
        "import numpy as np\n",
        "import pandas as pd\n",
        "from matplotlib import pyplot as plt\n",
        "import requests"
      ],
      "execution_count": 0,
      "outputs": []
    },
    {
      "cell_type": "markdown",
      "metadata": {
        "id": "oD7AHSQPkEBF",
        "colab_type": "text"
      },
      "source": [
        "We shall use data from the Wisconsin breast cancer database available online."
      ]
    },
    {
      "cell_type": "code",
      "metadata": {
        "id": "1t-9ikHbCh92",
        "colab_type": "code",
        "colab": {}
      },
      "source": [
        "data_url = 'http://archive.ics.uci.edu/ml/machine-learning-databases/breast-cancer-wisconsin/breast-cancer-wisconsin.data'\n",
        "attr_url = 'http://archive.ics.uci.edu/ml/machine-learning-databases/breast-cancer-wisconsin/breast-cancer-wisconsin.names'"
      ],
      "execution_count": 0,
      "outputs": []
    },
    {
      "cell_type": "markdown",
      "metadata": {
        "id": "PzKSwY_4kPvS",
        "colab_type": "text"
      },
      "source": [
        "Information about the data is available in `attr_url`. It is information in plain text. We use http protocol via functions in the `requests` library. We could simply go to the url and download the file as well."
      ]
    },
    {
      "cell_type": "code",
      "metadata": {
        "id": "d_1rGoGsCyvd",
        "colab_type": "code",
        "colab": {}
      },
      "source": [
        "attrs = requests.get(attr_url)"
      ],
      "execution_count": 0,
      "outputs": []
    },
    {
      "cell_type": "code",
      "metadata": {
        "id": "c6SgqHLYDI0H",
        "colab_type": "code",
        "colab": {}
      },
      "source": [
        "print(attrs.content.decode('utf-8'))"
      ],
      "execution_count": 0,
      "outputs": []
    },
    {
      "cell_type": "markdown",
      "metadata": {
        "id": "xxRQaGUbliQw",
        "colab_type": "text"
      },
      "source": [
        "Load the data into a string and then use a StringIO object around it as a proxy for a file (alternatively you could simply download the data file manually and load it from local disk)."
      ]
    },
    {
      "cell_type": "code",
      "metadata": {
        "id": "SPJCGXr0DK_D",
        "colab_type": "code",
        "colab": {}
      },
      "source": [
        "data_str = requests.get(data_url).content.decode('utf-8')"
      ],
      "execution_count": 0,
      "outputs": []
    },
    {
      "cell_type": "code",
      "metadata": {
        "id": "uMKMLdOxD0He",
        "colab_type": "code",
        "colab": {}
      },
      "source": [
        "print(data_str[:100])"
      ],
      "execution_count": 0,
      "outputs": []
    },
    {
      "cell_type": "code",
      "metadata": {
        "id": "lkLfWNZaFdLk",
        "colab_type": "code",
        "colab": {}
      },
      "source": [
        " #columns = ['SCN', 'thickness', 'sizeu', 'shapeu', 'adhesion', 'csize', 'bare', 'blandchrom', 'normncl', 'mitoses', 'cclass']\n",
        "dtype = [('SCN', int), ('thickness', int), ('sizeu', int), ('shapeu', int), ('adhesion', int), ('csize', int), ('bare', int), ('blandchrom', int), ('normncl', int), ('mitoses', int), ('cclass', int)]\n",
        "# dtype = [('SCN', 'u8'), ('thickness', 'u1'), ('sizeu', 'u1'), ('shapeu', 'u1'), ('adhesion', 'u1'), ('csize', 'u1'), ('bare', 'u1'), ('blandchrom', 'u1'), ('normncl', 'u1'), ('mitoses', 'u1'), ('cclass', 'u1')]\n"
      ],
      "execution_count": 0,
      "outputs": []
    },
    {
      "cell_type": "markdown",
      "metadata": {
        "id": "fRhJtYFumLRi",
        "colab_type": "text"
      },
      "source": [
        "Read the data into a nupmy array."
      ]
    },
    {
      "cell_type": "code",
      "metadata": {
        "id": "ZDGAvvbbmXDf",
        "colab_type": "code",
        "colab": {}
      },
      "source": [
        "data = np.genfromtxt(io.StringIO(data_str), delimiter=',', dtype=dtype, missing_values=np.nan)"
      ],
      "execution_count": 0,
      "outputs": []
    },
    {
      "cell_type": "code",
      "metadata": {
        "id": "wUcFD1Kun2aV",
        "colab_type": "code",
        "colab": {}
      },
      "source": [
        "print(data[: 25])"
      ],
      "execution_count": 0,
      "outputs": []
    },
    {
      "cell_type": "markdown",
      "metadata": {
        "id": "XQ80U_ECsy4W",
        "colab_type": "text"
      },
      "source": [
        "Note that counting starts with 0 in Python. `[:25]` indicates range. We shall talk about range and slices soon."
      ]
    },
    {
      "cell_type": "code",
      "metadata": {
        "id": "tAlePxyFsm7X",
        "colab_type": "code",
        "colab": {}
      },
      "source": [
        "data[23]"
      ],
      "execution_count": 0,
      "outputs": []
    },
    {
      "cell_type": "markdown",
      "metadata": {
        "id": "by6opEv9rvST",
        "colab_type": "text"
      },
      "source": [
        "Note 24-th row has missing data with `?` inserted in place of a number. Numpy converted it to -1."
      ]
    },
    {
      "cell_type": "code",
      "metadata": {
        "id": "GvuqAFnioF_t",
        "colab_type": "code",
        "colab": {}
      },
      "source": [
        "type(data)"
      ],
      "execution_count": 0,
      "outputs": []
    },
    {
      "cell_type": "code",
      "metadata": {
        "id": "_mZsHPFxSUs_",
        "colab_type": "code",
        "colab": {}
      },
      "source": [
        "data.dtype"
      ],
      "execution_count": 0,
      "outputs": []
    },
    {
      "cell_type": "code",
      "metadata": {
        "id": "6fuw4QyoobSc",
        "colab_type": "code",
        "colab": {}
      },
      "source": [
        "for name in data.dtype.names:\n",
        "  print(f'{name}: missing data in rows: {np.where(data[name] < 0)}')"
      ],
      "execution_count": 0,
      "outputs": []
    },
    {
      "cell_type": "code",
      "metadata": {
        "id": "XHxUk-h-pDNU",
        "colab_type": "code",
        "colab": {}
      },
      "source": [
        "pdata = pd.read_csv(data_url, names=data.dtype.names)"
      ],
      "execution_count": 0,
      "outputs": []
    },
    {
      "cell_type": "code",
      "metadata": {
        "id": "5s14fUsHqUkZ",
        "colab_type": "code",
        "colab": {}
      },
      "source": [
        "pdata.iloc[23]"
      ],
      "execution_count": 0,
      "outputs": []
    },
    {
      "cell_type": "code",
      "metadata": {
        "id": "S3u4ptEkrie3",
        "colab_type": "code",
        "colab": {}
      },
      "source": [
        "pdata.columns"
      ],
      "execution_count": 0,
      "outputs": []
    },
    {
      "cell_type": "code",
      "metadata": {
        "id": "-ZL1AaCqrln7",
        "colab_type": "code",
        "colab": {}
      },
      "source": [
        ""
      ],
      "execution_count": 0,
      "outputs": []
    }
  ]
}