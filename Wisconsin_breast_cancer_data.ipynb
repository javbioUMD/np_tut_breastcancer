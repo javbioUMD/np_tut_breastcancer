{
 "cells": [
  {
   "cell_type": "markdown",
   "metadata": {
    "colab_type": "text",
    "id": "view-in-github",
    "slideshow": {
     "slide_type": "skip"
    }
   },
   "source": [
    "[![Launch on Google Colab](https://badgen.net/badge/Launch/on%20Google%20Colab/blue?icon=terminal)](https://colab.research.google.com/github/subhacom/np_tut_breastcancer/blob/master/Wisconsin_breast_cancer_data.ipynb)\n",
    "[![Launch on Binder](https://mybinder.org/badge_logo.svg)](http://mybinder.org/v2/gh/subhacom/np_tut_breastcancer/master)\n"
   ]
  },
  {
   "cell_type": "code",
   "execution_count": null,
   "metadata": {
    "colab": {},
    "colab_type": "code",
    "id": "3hxJaho8rmEo",
    "slideshow": {
     "slide_type": "skip"
    }
   },
   "outputs": [],
   "source": [
    "!pip install RISE\n",
    "!jupyter-nbextension install rise --py --sys-prefix"
   ]
  },
  {
   "cell_type": "code",
   "execution_count": null,
   "metadata": {
    "slideshow": {
     "slide_type": "fragment"
    }
   },
   "outputs": [],
   "source": [
    "%matplotlib inline"
   ]
  },
  {
   "cell_type": "markdown",
   "metadata": {
    "colab_type": "text",
    "id": "u7g8f0Qcqsm1",
    "slideshow": {
     "slide_type": "slide"
    }
   },
   "source": [
    "# Using Jupyter\n"
   ]
  },
  {
   "cell_type": "markdown",
   "metadata": {
    "colab_type": "text",
    "id": "evX-HL5-qwKF",
    "slideshow": {
     "slide_type": "subslide"
    }
   },
   "source": [
    "## What is Jupyter?\n",
    "From Jupyter home page: *\"... an open-source web application that allows you to create and share documents that contain live code, equations, visualizations and narrative text.\"*"
   ]
  },
  {
   "cell_type": "markdown",
   "metadata": {
    "colab_type": "text",
    "id": "kgakezI7q1P2",
    "slideshow": {
     "slide_type": "slide"
    }
   },
   "source": [
    "## Pros and Cons of Python in Jupyter Notebook"
   ]
  },
  {
   "cell_type": "markdown",
   "metadata": {
    "colab_type": "text",
    "id": "rB8u04QFq4hi",
    "slideshow": {
     "slide_type": "subslide"
    }
   },
   "source": [
    "### Pros:\n",
    "  - Literate programming - document code with a narrative\n",
    "  - Easily share online\n",
    "  - Good for data exploration"
   ]
  },
  {
   "cell_type": "markdown",
   "metadata": {
    "colab_type": "text",
    "id": "DFxoFzwzrG7E",
    "slideshow": {
     "slide_type": "subslide"
    }
   },
   "source": [
    "### Cons:\n",
    "  - Not moduler (can be ... in a complicated way)\n",
    "  - Gets cumbersome quickly - especially when going back and forth\n",
    "  - Very basic code editor\n",
    " \n",
    "  \n",
    "  \n",
    "  "
   ]
  },
  {
   "cell_type": "markdown",
   "metadata": {
    "colab_type": "text",
    "id": "RPJxuHbZr3_m",
    "slideshow": {
     "slide_type": "fragment"
    }
   },
   "source": [
    "**Spyder** - a Python IDE with matlab-like interface."
   ]
  },
  {
   "cell_type": "markdown",
   "metadata": {
    "colab_type": "text",
    "id": "nVN6EFJcseg5",
    "slideshow": {
     "slide_type": "slide"
    }
   },
   "source": [
    "## About Jupyter environments"
   ]
  },
  {
   "cell_type": "markdown",
   "metadata": {
    "slideshow": {
     "slide_type": "fragment"
    }
   },
   "source": [
    "- You can install Python/Jupyter on your own computer"
   ]
  },
  {
   "cell_type": "markdown",
   "metadata": {
    "colab_type": "text",
    "id": "nVN6EFJcseg5",
    "slideshow": {
     "slide_type": "fragment"
    }
   },
   "source": [
    "- Or you can use environments available on the cloud\n",
    "  - binder\n",
    "  - colaboratory\n",
    "  - kaggle\n",
    "  - azure"
   ]
  },
  {
   "cell_type": "markdown",
   "metadata": {
    "slideshow": {
     "slide_type": "fragment"
    }
   },
   "source": [
    "- See https://www.dataschool.io/cloud-services-for-jupyter-notebook/ for a comparison of some of the popular ones."
   ]
  },
  {
   "cell_type": "markdown",
   "metadata": {
    "slideshow": {
     "slide_type": "slide"
    }
   },
   "source": [
    "## Local vs Cloud for Jupyter Notebooks"
   ]
  },
  {
   "cell_type": "markdown",
   "metadata": {
    "colab_type": "text",
    "id": "dVGMZGdcsj7X",
    "slideshow": {
     "slide_type": "subslide"
    }
   },
   "source": [
    "### Pros of local environment\n",
    " 1. You have full control of the system\n",
    " 2. No time limit\n",
    " 3. No data limit - you can use your data on a local disk - no need to upload data\n",
    " 4. Full function of Jupyter notebooks \n",
    " 5. No security restrictions\n",
    "  \n"
   ]
  },
  {
   "cell_type": "markdown",
   "metadata": {
    "colab_type": "text",
    "id": "JJmY6YgAQCZP",
    "slideshow": {
     "slide_type": "subslide"
    }
   },
   "source": [
    "\n",
    "### Cons of local environments\n",
    " 1. You have to set up and manage it\n",
    " 2. You are limited by the hardware you have (may be expensive)\n",
    " 3. Not the optimal use of resources\n",
    " 4. Not easy to access from elsewhere\n",
    " 5. Not easy to share and collaborate with others\n",
    " \n",
    "  \n"
   ]
  },
  {
   "cell_type": "markdown",
   "metadata": {
    "colab_type": "text",
    "id": "Dt_TDVK8soQG",
    "slideshow": {
     "slide_type": "slide"
    }
   },
   "source": [
    "## Jupyter basics\n",
    "- Cells: Code and markdown"
   ]
  },
  {
   "cell_type": "code",
   "execution_count": 1,
   "metadata": {
    "slideshow": {
     "slide_type": "fragment"
    }
   },
   "outputs": [
    {
     "name": "stdout",
     "output_type": "stream",
     "text": [
      "Hello world\n"
     ]
    }
   ],
   "source": [
    "print('Hello world')"
   ]
  },
  {
   "cell_type": "markdown",
   "metadata": {
    "colab_type": "text",
    "id": "Dt_TDVK8soQG",
    "slideshow": {
     "slide_type": "fragment"
    }
   },
   "source": [
    "- Output"
   ]
  },
  {
   "cell_type": "code",
   "execution_count": 2,
   "metadata": {
    "slideshow": {
     "slide_type": "fragment"
    }
   },
   "outputs": [
    {
     "name": "stdout",
     "output_type": "stream",
     "text": [
      "Hello world\n"
     ]
    }
   ],
   "source": [
    "message = 'Hello world'\n",
    "print(message)"
   ]
  },
  {
   "cell_type": "code",
   "execution_count": 3,
   "metadata": {
    "slideshow": {
     "slide_type": "fragment"
    }
   },
   "outputs": [
    {
     "name": "stdout",
     "output_type": "stream",
     "text": [
      "Message: Hello world\n"
     ]
    }
   ],
   "source": [
    "print(f'Message: {message}')"
   ]
  },
  {
   "cell_type": "markdown",
   "metadata": {
    "slideshow": {
     "slide_type": "fragment"
    }
   },
   "source": [
    "- `f'text {variable} text'` is a new and convenient way of formatting strings in Python (version 3.6 onwards)."
   ]
  },
  {
   "cell_type": "markdown",
   "metadata": {
    "slideshow": {
     "slide_type": "subslide"
    }
   },
   "source": [
    "- Magic commands"
   ]
  },
  {
   "cell_type": "code",
   "execution_count": 4,
   "metadata": {
    "slideshow": {
     "slide_type": "fragment"
    }
   },
   "outputs": [
    {
     "name": "stdout",
     "output_type": "stream",
     "text": [
      "environment.yml  README.md  Wisconsin_breast_cancer_data.ipynb\r\n"
     ]
    }
   ],
   "source": [
    "%ls"
   ]
  },
  {
   "cell_type": "markdown",
   "metadata": {
    "slideshow": {
     "slide_type": "subslide"
    }
   },
   "source": [
    "- OS commands"
   ]
  },
  {
   "cell_type": "code",
   "execution_count": 5,
   "metadata": {
    "slideshow": {
     "slide_type": "fragment"
    }
   },
   "outputs": [
    {
     "name": "stdout",
     "output_type": "stream",
     "text": [
      "processor\t: 0\r\n",
      "vendor_id\t: GenuineIntel\r\n",
      "cpu family\t: 6\r\n",
      "model\t\t: 79\r\n",
      "model name\t: Intel(R) Xeon(R) CPU @ 2.20GHz\r\n",
      "stepping\t: 0\r\n",
      "microcode\t: 0x1\r\n",
      "cpu MHz\t\t: 2200.000\r\n",
      "cache size\t: 56320 KB\r\n",
      "physical id\t: 0\r\n",
      "siblings\t: 8\r\n",
      "core id\t\t: 0\r\n",
      "cpu cores\t: 4\r\n",
      "apicid\t\t: 0\r\n",
      "initial apicid\t: 0\r\n",
      "fpu\t\t: yes\r\n",
      "fpu_exception\t: yes\r\n",
      "cpuid level\t: 13\r\n",
      "wp\t\t: yes\r\n",
      "flags\t\t: fpu vme de pse tsc msr pae mce cx8 apic sep mtrr pge mca cmov pat pse36 clflush mmx fxsr sse sse2 ss ht syscall nx pdpe1gb rdtscp lm constant_tsc rep_good nopl xtopology nonstop_tsc cpuid tsc_known_freq pni pclmulqdq ssse3 fma cx16 pcid sse4_1 sse4_2 x2apic movbe popcnt aes xsave avx f16c rdrand hypervisor lahf_lm abm 3dnowprefetch invpcid_single pti ssbd ibrs ibpb stibp fsgsbase tsc_adjust bmi1 hle avx2 smep bmi2 erms invpcid rtm rdseed adx smap xsaveopt arat arch_capabilities\r\n",
      "bugs\t\t: cpu_meltdown spectre_v1 spectre_v2 spec_store_bypass l1tf\r\n",
      "bogomips\t: 4400.00\r\n",
      "clflush size\t: 64\r\n",
      "cache_alignment\t: 64\r\n",
      "address sizes\t: 46 bits physical, 48 bits virtual\r\n",
      "power management:\r\n",
      "\r\n",
      "processor\t: 1\r\n",
      "vendor_id\t: GenuineIntel\r\n",
      "cpu family\t: 6\r\n",
      "model\t\t: 79\r\n",
      "model name\t: Intel(R) Xeon(R) CPU @ 2.20GHz\r\n",
      "stepping\t: 0\r\n",
      "microcode\t: 0x1\r\n",
      "cpu MHz\t\t: 2200.000\r\n",
      "cache size\t: 56320 KB\r\n",
      "physical id\t: 0\r\n",
      "siblings\t: 8\r\n",
      "core id\t\t: 1\r\n",
      "cpu cores\t: 4\r\n",
      "apicid\t\t: 2\r\n",
      "initial apicid\t: 2\r\n",
      "fpu\t\t: yes\r\n",
      "fpu_exception\t: yes\r\n",
      "cpuid level\t: 13\r\n",
      "wp\t\t: yes\r\n",
      "flags\t\t: fpu vme de pse tsc msr pae mce cx8 apic sep mtrr pge mca cmov pat pse36 clflush mmx fxsr sse sse2 ss ht syscall nx pdpe1gb rdtscp lm constant_tsc rep_good nopl xtopology nonstop_tsc cpuid tsc_known_freq pni pclmulqdq ssse3 fma cx16 pcid sse4_1 sse4_2 x2apic movbe popcnt aes xsave avx f16c rdrand hypervisor lahf_lm abm 3dnowprefetch invpcid_single pti ssbd ibrs ibpb stibp fsgsbase tsc_adjust bmi1 hle avx2 smep bmi2 erms invpcid rtm rdseed adx smap xsaveopt arat arch_capabilities\r\n",
      "bugs\t\t: cpu_meltdown spectre_v1 spectre_v2 spec_store_bypass l1tf\r\n",
      "bogomips\t: 4400.00\r\n",
      "clflush size\t: 64\r\n",
      "cache_alignment\t: 64\r\n",
      "address sizes\t: 46 bits physical, 48 bits virtual\r\n",
      "power management:\r\n",
      "\r\n",
      "processor\t: 2\r\n",
      "vendor_id\t: GenuineIntel\r\n",
      "cpu family\t: 6\r\n",
      "model\t\t: 79\r\n",
      "model name\t: Intel(R) Xeon(R) CPU @ 2.20GHz\r\n",
      "stepping\t: 0\r\n",
      "microcode\t: 0x1\r\n",
      "cpu MHz\t\t: 2200.000\r\n",
      "cache size\t: 56320 KB\r\n",
      "physical id\t: 0\r\n",
      "siblings\t: 8\r\n",
      "core id\t\t: 2\r\n",
      "cpu cores\t: 4\r\n",
      "apicid\t\t: 4\r\n",
      "initial apicid\t: 4\r\n",
      "fpu\t\t: yes\r\n",
      "fpu_exception\t: yes\r\n",
      "cpuid level\t: 13\r\n",
      "wp\t\t: yes\r\n",
      "flags\t\t: fpu vme de pse tsc msr pae mce cx8 apic sep mtrr pge mca cmov pat pse36 clflush mmx fxsr sse sse2 ss ht syscall nx pdpe1gb rdtscp lm constant_tsc rep_good nopl xtopology nonstop_tsc cpuid tsc_known_freq pni pclmulqdq ssse3 fma cx16 pcid sse4_1 sse4_2 x2apic movbe popcnt aes xsave avx f16c rdrand hypervisor lahf_lm abm 3dnowprefetch invpcid_single pti ssbd ibrs ibpb stibp fsgsbase tsc_adjust bmi1 hle avx2 smep bmi2 erms invpcid rtm rdseed adx smap xsaveopt arat arch_capabilities\r\n",
      "bugs\t\t: cpu_meltdown spectre_v1 spectre_v2 spec_store_bypass l1tf\r\n",
      "bogomips\t: 4400.00\r\n",
      "clflush size\t: 64\r\n",
      "cache_alignment\t: 64\r\n",
      "address sizes\t: 46 bits physical, 48 bits virtual\r\n",
      "power management:\r\n",
      "\r\n",
      "processor\t: 3\r\n",
      "vendor_id\t: GenuineIntel\r\n",
      "cpu family\t: 6\r\n",
      "model\t\t: 79\r\n",
      "model name\t: Intel(R) Xeon(R) CPU @ 2.20GHz\r\n",
      "stepping\t: 0\r\n",
      "microcode\t: 0x1\r\n",
      "cpu MHz\t\t: 2200.000\r\n",
      "cache size\t: 56320 KB\r\n",
      "physical id\t: 0\r\n",
      "siblings\t: 8\r\n",
      "core id\t\t: 3\r\n",
      "cpu cores\t: 4\r\n",
      "apicid\t\t: 6\r\n",
      "initial apicid\t: 6\r\n",
      "fpu\t\t: yes\r\n",
      "fpu_exception\t: yes\r\n",
      "cpuid level\t: 13\r\n",
      "wp\t\t: yes\r\n",
      "flags\t\t: fpu vme de pse tsc msr pae mce cx8 apic sep mtrr pge mca cmov pat pse36 clflush mmx fxsr sse sse2 ss ht syscall nx pdpe1gb rdtscp lm constant_tsc rep_good nopl xtopology nonstop_tsc cpuid tsc_known_freq pni pclmulqdq ssse3 fma cx16 pcid sse4_1 sse4_2 x2apic movbe popcnt aes xsave avx f16c rdrand hypervisor lahf_lm abm 3dnowprefetch invpcid_single pti ssbd ibrs ibpb stibp fsgsbase tsc_adjust bmi1 hle avx2 smep bmi2 erms invpcid rtm rdseed adx smap xsaveopt arat arch_capabilities\r\n",
      "bugs\t\t: cpu_meltdown spectre_v1 spectre_v2 spec_store_bypass l1tf\r\n",
      "bogomips\t: 4400.00\r\n",
      "clflush size\t: 64\r\n",
      "cache_alignment\t: 64\r\n",
      "address sizes\t: 46 bits physical, 48 bits virtual\r\n",
      "power management:\r\n",
      "\r\n",
      "processor\t: 4\r\n",
      "vendor_id\t: GenuineIntel\r\n",
      "cpu family\t: 6\r\n",
      "model\t\t: 79\r\n",
      "model name\t: Intel(R) Xeon(R) CPU @ 2.20GHz\r\n",
      "stepping\t: 0\r\n",
      "microcode\t: 0x1\r\n",
      "cpu MHz\t\t: 2200.000\r\n",
      "cache size\t: 56320 KB\r\n",
      "physical id\t: 0\r\n",
      "siblings\t: 8\r\n",
      "core id\t\t: 0\r\n",
      "cpu cores\t: 4\r\n",
      "apicid\t\t: 1\r\n",
      "initial apicid\t: 1\r\n",
      "fpu\t\t: yes\r\n",
      "fpu_exception\t: yes\r\n",
      "cpuid level\t: 13\r\n",
      "wp\t\t: yes\r\n",
      "flags\t\t: fpu vme de pse tsc msr pae mce cx8 apic sep mtrr pge mca cmov pat pse36 clflush mmx fxsr sse sse2 ss ht syscall nx pdpe1gb rdtscp lm constant_tsc rep_good nopl xtopology nonstop_tsc cpuid tsc_known_freq pni pclmulqdq ssse3 fma cx16 pcid sse4_1 sse4_2 x2apic movbe popcnt aes xsave avx f16c rdrand hypervisor lahf_lm abm 3dnowprefetch invpcid_single pti ssbd ibrs ibpb stibp fsgsbase tsc_adjust bmi1 hle avx2 smep bmi2 erms invpcid rtm rdseed adx smap xsaveopt arat arch_capabilities\r\n",
      "bugs\t\t: cpu_meltdown spectre_v1 spectre_v2 spec_store_bypass l1tf\r\n",
      "bogomips\t: 4400.00\r\n",
      "clflush size\t: 64\r\n",
      "cache_alignment\t: 64\r\n",
      "address sizes\t: 46 bits physical, 48 bits virtual\r\n",
      "power management:\r\n",
      "\r\n",
      "processor\t: 5\r\n",
      "vendor_id\t: GenuineIntel\r\n",
      "cpu family\t: 6\r\n",
      "model\t\t: 79\r\n",
      "model name\t: Intel(R) Xeon(R) CPU @ 2.20GHz\r\n",
      "stepping\t: 0\r\n",
      "microcode\t: 0x1\r\n",
      "cpu MHz\t\t: 2200.000\r\n",
      "cache size\t: 56320 KB\r\n",
      "physical id\t: 0\r\n",
      "siblings\t: 8\r\n",
      "core id\t\t: 1\r\n",
      "cpu cores\t: 4\r\n",
      "apicid\t\t: 3\r\n",
      "initial apicid\t: 3\r\n",
      "fpu\t\t: yes\r\n",
      "fpu_exception\t: yes\r\n",
      "cpuid level\t: 13\r\n",
      "wp\t\t: yes\r\n",
      "flags\t\t: fpu vme de pse tsc msr pae mce cx8 apic sep mtrr pge mca cmov pat pse36 clflush mmx fxsr sse sse2 ss ht syscall nx pdpe1gb rdtscp lm constant_tsc rep_good nopl xtopology nonstop_tsc cpuid tsc_known_freq pni pclmulqdq ssse3 fma cx16 pcid sse4_1 sse4_2 x2apic movbe popcnt aes xsave avx f16c rdrand hypervisor lahf_lm abm 3dnowprefetch invpcid_single pti ssbd ibrs ibpb stibp fsgsbase tsc_adjust bmi1 hle avx2 smep bmi2 erms invpcid rtm rdseed adx smap xsaveopt arat arch_capabilities\r\n",
      "bugs\t\t: cpu_meltdown spectre_v1 spectre_v2 spec_store_bypass l1tf\r\n",
      "bogomips\t: 4400.00\r\n",
      "clflush size\t: 64\r\n",
      "cache_alignment\t: 64\r\n",
      "address sizes\t: 46 bits physical, 48 bits virtual\r\n",
      "power management:\r\n",
      "\r\n",
      "processor\t: 6\r\n",
      "vendor_id\t: GenuineIntel\r\n",
      "cpu family\t: 6\r\n",
      "model\t\t: 79\r\n",
      "model name\t: Intel(R) Xeon(R) CPU @ 2.20GHz\r\n",
      "stepping\t: 0\r\n",
      "microcode\t: 0x1\r\n",
      "cpu MHz\t\t: 2200.000\r\n",
      "cache size\t: 56320 KB\r\n",
      "physical id\t: 0\r\n",
      "siblings\t: 8\r\n",
      "core id\t\t: 2\r\n",
      "cpu cores\t: 4\r\n",
      "apicid\t\t: 5\r\n",
      "initial apicid\t: 5\r\n",
      "fpu\t\t: yes\r\n",
      "fpu_exception\t: yes\r\n",
      "cpuid level\t: 13\r\n",
      "wp\t\t: yes\r\n",
      "flags\t\t: fpu vme de pse tsc msr pae mce cx8 apic sep mtrr pge mca cmov pat pse36 clflush mmx fxsr sse sse2 ss ht syscall nx pdpe1gb rdtscp lm constant_tsc rep_good nopl xtopology nonstop_tsc cpuid tsc_known_freq pni pclmulqdq ssse3 fma cx16 pcid sse4_1 sse4_2 x2apic movbe popcnt aes xsave avx f16c rdrand hypervisor lahf_lm abm 3dnowprefetch invpcid_single pti ssbd ibrs ibpb stibp fsgsbase tsc_adjust bmi1 hle avx2 smep bmi2 erms invpcid rtm rdseed adx smap xsaveopt arat arch_capabilities\r\n",
      "bugs\t\t: cpu_meltdown spectre_v1 spectre_v2 spec_store_bypass l1tf\r\n",
      "bogomips\t: 4400.00\r\n",
      "clflush size\t: 64\r\n",
      "cache_alignment\t: 64\r\n",
      "address sizes\t: 46 bits physical, 48 bits virtual\r\n",
      "power management:\r\n",
      "\r\n",
      "processor\t: 7\r\n",
      "vendor_id\t: GenuineIntel\r\n",
      "cpu family\t: 6\r\n",
      "model\t\t: 79\r\n",
      "model name\t: Intel(R) Xeon(R) CPU @ 2.20GHz\r\n",
      "stepping\t: 0\r\n",
      "microcode\t: 0x1\r\n",
      "cpu MHz\t\t: 2200.000\r\n",
      "cache size\t: 56320 KB\r\n",
      "physical id\t: 0\r\n",
      "siblings\t: 8\r\n",
      "core id\t\t: 3\r\n",
      "cpu cores\t: 4\r\n",
      "apicid\t\t: 7\r\n",
      "initial apicid\t: 7\r\n",
      "fpu\t\t: yes\r\n",
      "fpu_exception\t: yes\r\n",
      "cpuid level\t: 13\r\n",
      "wp\t\t: yes\r\n",
      "flags\t\t: fpu vme de pse tsc msr pae mce cx8 apic sep mtrr pge mca cmov pat pse36 clflush mmx fxsr sse sse2 ss ht syscall nx pdpe1gb rdtscp lm constant_tsc rep_good nopl xtopology nonstop_tsc cpuid tsc_known_freq pni pclmulqdq ssse3 fma cx16 pcid sse4_1 sse4_2 x2apic movbe popcnt aes xsave avx f16c rdrand hypervisor lahf_lm abm 3dnowprefetch invpcid_single pti ssbd ibrs ibpb stibp fsgsbase tsc_adjust bmi1 hle avx2 smep bmi2 erms invpcid rtm rdseed adx smap xsaveopt arat arch_capabilities\r\n",
      "bugs\t\t: cpu_meltdown spectre_v1 spectre_v2 spec_store_bypass l1tf\r\n",
      "bogomips\t: 4400.00\r\n",
      "clflush size\t: 64\r\n",
      "cache_alignment\t: 64\r\n",
      "address sizes\t: 46 bits physical, 48 bits virtual\r\n",
      "power management:\r\n",
      "\r\n"
     ]
    }
   ],
   "source": [
    "!cat /proc/cpuinfo"
   ]
  },
  {
   "cell_type": "markdown",
   "metadata": {
    "colab_type": "text",
    "id": "Dt_TDVK8soQG",
    "slideshow": {
     "slide_type": "subslide"
    }
   },
   "source": [
    "- Check the keyboard shortcuts from menu"
   ]
  },
  {
   "cell_type": "markdown",
   "metadata": {
    "colab_type": "text",
    "id": "Dt_TDVK8soQG",
    "slideshow": {
     "slide_type": "fragment"
    }
   },
   "source": [
    "- Save and checkpoint\n",
    "- File format: .ipynb"
   ]
  },
  {
   "cell_type": "markdown",
   "metadata": {
    "colab_type": "text",
    "id": "nQt18LU9Peed",
    "slideshow": {
     "slide_type": "subslide"
    }
   },
   "source": [
    "#### Pause here: Exercise\n",
    "  1. create a cell\n",
    "  1. convert it to mark down\n",
    "  1. create another cell below\n",
    "  1. type a valid expression: e.g. (2 + 3)\n",
    "  1. execute the cell in place\n",
    "  1. execute and insert a new cell below and move to it\n",
    "  1. insert a cell above\n",
    "  1. execute and move to next cell\n",
    "  \n",
    "  "
   ]
  },
  {
   "cell_type": "markdown",
   "metadata": {
    "colab_type": "text",
    "id": "WgOrXZ1HjyYY",
    "slideshow": {
     "slide_type": "slide"
    }
   },
   "source": [
    "# Tutorial on using numpy and matplotlib"
   ]
  },
  {
   "cell_type": "markdown",
   "metadata": {
    "colab_type": "text",
    "id": "3zGrJdPej9MQ",
    "slideshow": {
     "slide_type": "subslide"
    }
   },
   "source": [
    "Import required libraries (modules). The first two are part of Python Standard Library."
   ]
  },
  {
   "cell_type": "code",
   "execution_count": 6,
   "metadata": {
    "colab": {},
    "colab_type": "code",
    "id": "Ei8lfdKkABLH",
    "slideshow": {
     "slide_type": "fragment"
    }
   },
   "outputs": [],
   "source": [
    "import io\n",
    "import requests"
   ]
  },
  {
   "cell_type": "markdown",
   "metadata": {
    "colab_type": "text",
    "id": "pBM4ePhP6pFz",
    "slideshow": {
     "slide_type": "fragment"
    }
   },
   "source": [
    "- `numpy`, `pandas` and `matplotlib` are third-party libraries\n",
    "- installed separately from `Python` \n",
    "- **Anaconda** python distribution - bundles most common scientific libraries"
   ]
  },
  {
   "cell_type": "code",
   "execution_count": 7,
   "metadata": {
    "colab": {},
    "colab_type": "code",
    "id": "iuZE-dRe6pF_",
    "slideshow": {
     "slide_type": "fragment"
    }
   },
   "outputs": [],
   "source": [
    "import numpy as np  # create a shorter alias for numpy"
   ]
  },
  {
   "cell_type": "code",
   "execution_count": 8,
   "metadata": {
    "slideshow": {
     "slide_type": "fragment"
    }
   },
   "outputs": [],
   "source": [
    "import pandas as pd"
   ]
  },
  {
   "cell_type": "code",
   "execution_count": 9,
   "metadata": {
    "colab": {},
    "colab_type": "code",
    "id": "iuZE-dRe6pF_",
    "slideshow": {
     "slide_type": "fragment"
    }
   },
   "outputs": [],
   "source": [
    "from matplotlib import pyplot as plt  # import only specific part of a module"
   ]
  },
  {
   "cell_type": "markdown",
   "metadata": {
    "colab_type": "text",
    "id": "wt0t437PGT6r",
    "slideshow": {
     "slide_type": "slide"
    }
   },
   "source": [
    "## Homogeneous arrays in `numpy`"
   ]
  },
  {
   "cell_type": "markdown",
   "metadata": {
    "slideshow": {
     "slide_type": "subslide"
    }
   },
   "source": [
    "### Basic operations"
   ]
  },
  {
   "cell_type": "code",
   "execution_count": 10,
   "metadata": {
    "colab": {},
    "colab_type": "code",
    "id": "T14df3-EGffQ",
    "slideshow": {
     "slide_type": "fragment"
    }
   },
   "outputs": [],
   "source": [
    "myarray = np.array([1, 2, 3])"
   ]
  },
  {
   "cell_type": "code",
   "execution_count": 11,
   "metadata": {
    "colab": {},
    "colab_type": "code",
    "id": "uMVMoPafGi5c",
    "slideshow": {
     "slide_type": "fragment"
    }
   },
   "outputs": [
    {
     "name": "stdout",
     "output_type": "stream",
     "text": [
      "[1 2 3]\n"
     ]
    }
   ],
   "source": [
    "print(myarray)"
   ]
  },
  {
   "cell_type": "code",
   "execution_count": 12,
   "metadata": {
    "colab": {},
    "colab_type": "code",
    "id": "sAwLNePDGlZH",
    "slideshow": {
     "slide_type": "fragment"
    }
   },
   "outputs": [
    {
     "data": {
      "text/plain": [
       "array([1, 2, 3])"
      ]
     },
     "execution_count": 12,
     "metadata": {},
     "output_type": "execute_result"
    }
   ],
   "source": [
    "myarray"
   ]
  },
  {
   "cell_type": "markdown",
   "metadata": {
    "colab_type": "text",
    "id": "e244GEgfG6U8",
    "slideshow": {
     "slide_type": "slide"
    }
   },
   "source": [
    "### Multi-dimensional arrays"
   ]
  },
  {
   "cell_type": "code",
   "execution_count": 13,
   "metadata": {
    "colab": {},
    "colab_type": "code",
    "id": "kx40Kop9G_18",
    "slideshow": {
     "slide_type": "fragment"
    }
   },
   "outputs": [],
   "source": [
    "myarray2 = np.array([[1, 2, 3, 4], [5, 6, 7, 8]])"
   ]
  },
  {
   "cell_type": "code",
   "execution_count": 14,
   "metadata": {
    "colab": {},
    "colab_type": "code",
    "id": "QudEGCrXHMmW",
    "slideshow": {
     "slide_type": "fragment"
    }
   },
   "outputs": [
    {
     "data": {
      "text/plain": [
       "array([[1, 2, 3, 4],\n",
       "       [5, 6, 7, 8]])"
      ]
     },
     "execution_count": 14,
     "metadata": {},
     "output_type": "execute_result"
    }
   ],
   "source": [
    "myarray2"
   ]
  },
  {
   "cell_type": "code",
   "execution_count": 15,
   "metadata": {
    "colab": {},
    "colab_type": "code",
    "id": "ED30URK_QCbu",
    "slideshow": {
     "slide_type": "fragment"
    }
   },
   "outputs": [
    {
     "data": {
      "text/plain": [
       "(2, 4)"
      ]
     },
     "execution_count": 15,
     "metadata": {},
     "output_type": "execute_result"
    }
   ],
   "source": [
    "myarray2.shape"
   ]
  },
  {
   "cell_type": "code",
   "execution_count": 16,
   "metadata": {
    "colab": {},
    "colab_type": "code",
    "id": "D2FukIe0QCb6",
    "slideshow": {
     "slide_type": "fragment"
    }
   },
   "outputs": [
    {
     "data": {
      "text/plain": [
       "2"
      ]
     },
     "execution_count": 16,
     "metadata": {},
     "output_type": "execute_result"
    }
   ],
   "source": [
    "len(myarray2)"
   ]
  },
  {
   "cell_type": "code",
   "execution_count": 17,
   "metadata": {
    "colab": {},
    "colab_type": "code",
    "id": "E0UMWVVGHPEG",
    "slideshow": {
     "slide_type": "fragment"
    }
   },
   "outputs": [
    {
     "data": {
      "text/plain": [
       "array([[1, 5],\n",
       "       [2, 6],\n",
       "       [3, 7],\n",
       "       [4, 8]])"
      ]
     },
     "execution_count": 17,
     "metadata": {},
     "output_type": "execute_result"
    }
   ],
   "source": [
    "myarray2.T"
   ]
  },
  {
   "cell_type": "markdown",
   "metadata": {
    "colab_type": "text",
    "id": "L2a9snv1HULR",
    "slideshow": {
     "slide_type": "subslide"
    }
   },
   "source": [
    "### Element-wise arithmetic on arrays"
   ]
  },
  {
   "cell_type": "code",
   "execution_count": 18,
   "metadata": {
    "colab": {},
    "colab_type": "code",
    "id": "ygci-OKpHZui",
    "slideshow": {
     "slide_type": "fragment"
    }
   },
   "outputs": [
    {
     "data": {
      "text/plain": [
       "array([2, 4, 6])"
      ]
     },
     "execution_count": 18,
     "metadata": {},
     "output_type": "execute_result"
    }
   ],
   "source": [
    "2 * myarray"
   ]
  },
  {
   "cell_type": "code",
   "execution_count": 19,
   "metadata": {
    "colab": {},
    "colab_type": "code",
    "id": "pn8XAdDBHeYb",
    "slideshow": {
     "slide_type": "fragment"
    }
   },
   "outputs": [
    {
     "data": {
      "text/plain": [
       "array([2, 4, 8])"
      ]
     },
     "execution_count": 19,
     "metadata": {},
     "output_type": "execute_result"
    }
   ],
   "source": [
    "2**myarray"
   ]
  },
  {
   "cell_type": "code",
   "execution_count": 20,
   "metadata": {
    "colab": {},
    "colab_type": "code",
    "id": "MIpRnfh3Hgx8",
    "slideshow": {
     "slide_type": "fragment"
    }
   },
   "outputs": [
    {
     "data": {
      "text/plain": [
       "array([[ 2,  4,  6,  8],\n",
       "       [10, 12, 14, 16]])"
      ]
     },
     "execution_count": 20,
     "metadata": {},
     "output_type": "execute_result"
    }
   ],
   "source": [
    "2*myarray2"
   ]
  },
  {
   "cell_type": "code",
   "execution_count": 21,
   "metadata": {
    "colab": {},
    "colab_type": "code",
    "id": "XrkhZHApHkU8",
    "slideshow": {
     "slide_type": "fragment"
    }
   },
   "outputs": [
    {
     "data": {
      "text/plain": [
       "array([[ 1,  4,  9, 16],\n",
       "       [25, 36, 49, 64]])"
      ]
     },
     "execution_count": 21,
     "metadata": {},
     "output_type": "execute_result"
    }
   ],
   "source": [
    "myarray2**2"
   ]
  },
  {
   "cell_type": "code",
   "execution_count": 22,
   "metadata": {
    "colab": {},
    "colab_type": "code",
    "id": "_Qe2e2g6HwBz",
    "slideshow": {
     "slide_type": "fragment"
    }
   },
   "outputs": [
    {
     "data": {
      "text/plain": [
       "array([[ 3,  4,  5,  6],\n",
       "       [ 7,  8,  9, 10]])"
      ]
     },
     "execution_count": 22,
     "metadata": {},
     "output_type": "execute_result"
    }
   ],
   "source": [
    "myarray2 + 2"
   ]
  },
  {
   "cell_type": "code",
   "execution_count": 23,
   "metadata": {
    "colab": {},
    "colab_type": "code",
    "id": "udV44WB0HpcF",
    "slideshow": {
     "slide_type": "subslide"
    }
   },
   "outputs": [
    {
     "name": "stdout",
     "output_type": "stream",
     "text": [
      "Shape of first array: (3,), second array: (2, 4)\n"
     ]
    },
    {
     "ename": "ValueError",
     "evalue": "operands could not be broadcast together with shapes (3,) (2,4) ",
     "output_type": "error",
     "traceback": [
      "\u001b[0;31m---------------------------------------------------------------------------\u001b[0m",
      "\u001b[0;31mValueError\u001b[0m                                Traceback (most recent call last)",
      "\u001b[0;32m<ipython-input-23-7b5cd167e8e7>\u001b[0m in \u001b[0;36m<module>\u001b[0;34m\u001b[0m\n\u001b[1;32m      1\u001b[0m \u001b[0mprint\u001b[0m\u001b[0;34m(\u001b[0m\u001b[0;34mf'Shape of first array: {myarray.shape}, second array: {myarray2.shape}'\u001b[0m\u001b[0;34m)\u001b[0m\u001b[0;34m\u001b[0m\u001b[0;34m\u001b[0m\u001b[0m\n\u001b[0;32m----> 2\u001b[0;31m \u001b[0mx\u001b[0m \u001b[0;34m=\u001b[0m \u001b[0mmyarray\u001b[0m \u001b[0;34m+\u001b[0m \u001b[0mmyarray2\u001b[0m\u001b[0;34m\u001b[0m\u001b[0;34m\u001b[0m\u001b[0m\n\u001b[0m\u001b[1;32m      3\u001b[0m \u001b[0mprint\u001b[0m\u001b[0;34m(\u001b[0m\u001b[0;34mf'Sum: {x}'\u001b[0m\u001b[0;34m)\u001b[0m\u001b[0;34m\u001b[0m\u001b[0;34m\u001b[0m\u001b[0m\n",
      "\u001b[0;31mValueError\u001b[0m: operands could not be broadcast together with shapes (3,) (2,4) "
     ]
    }
   ],
   "source": [
    "print(f'Shape of first array: {myarray.shape}, second array: {myarray2.shape}')\n",
    "x = myarray + myarray2\n",
    "print(f'Sum: {x}')"
   ]
  },
  {
   "cell_type": "markdown",
   "metadata": {
    "colab_type": "text",
    "id": "mG0xgEA9BKok",
    "slideshow": {
     "slide_type": "subslide"
    }
   },
   "source": [
    "#### Pause here: You just encountered Python's error handling mechanism!\n",
    "- Can you relate to your experience with errors in other languages?\n",
    "- Explain error handling for beginners.\n",
    "- Go back and change `myarray` to a 4 element array, a 2 element array\n"
   ]
  },
  {
   "cell_type": "markdown",
   "metadata": {
    "colab_type": "text",
    "id": "we5AQkwj-rdl",
    "slideshow": {
     "slide_type": "subslide"
    }
   },
   "source": [
    "### Other ways of creating arrays"
   ]
  },
  {
   "cell_type": "code",
   "execution_count": 24,
   "metadata": {
    "colab": {},
    "colab_type": "code",
    "id": "gU5V7YH1-8Pn",
    "slideshow": {
     "slide_type": "fragment"
    }
   },
   "outputs": [],
   "source": [
    "a0 = np.zeros((4, 5))"
   ]
  },
  {
   "cell_type": "code",
   "execution_count": 25,
   "metadata": {
    "colab": {},
    "colab_type": "code",
    "id": "_qcKH4Z0_HZL",
    "slideshow": {
     "slide_type": "fragment"
    }
   },
   "outputs": [
    {
     "data": {
      "text/plain": [
       "array([[0., 0., 0., 0., 0.],\n",
       "       [0., 0., 0., 0., 0.],\n",
       "       [0., 0., 0., 0., 0.],\n",
       "       [0., 0., 0., 0., 0.]])"
      ]
     },
     "execution_count": 25,
     "metadata": {},
     "output_type": "execute_result"
    }
   ],
   "source": [
    "a0"
   ]
  },
  {
   "cell_type": "code",
   "execution_count": 26,
   "metadata": {
    "colab": {},
    "colab_type": "code",
    "id": "2k0Zg9eD_JX5",
    "slideshow": {
     "slide_type": "fragment"
    }
   },
   "outputs": [],
   "source": [
    "a1 = np.ones((4, 5))"
   ]
  },
  {
   "cell_type": "code",
   "execution_count": 27,
   "metadata": {
    "colab": {},
    "colab_type": "code",
    "id": "u6Nu5qq0_NDd",
    "slideshow": {
     "slide_type": "fragment"
    }
   },
   "outputs": [
    {
     "data": {
      "text/plain": [
       "array([[1., 1., 1., 1., 1.],\n",
       "       [1., 1., 1., 1., 1.],\n",
       "       [1., 1., 1., 1., 1.],\n",
       "       [1., 1., 1., 1., 1.]])"
      ]
     },
     "execution_count": 27,
     "metadata": {},
     "output_type": "execute_result"
    }
   ],
   "source": [
    "a1"
   ]
  },
  {
   "cell_type": "code",
   "execution_count": 28,
   "metadata": {
    "colab": {},
    "colab_type": "code",
    "id": "U7XRJqe9_Pcb",
    "slideshow": {
     "slide_type": "fragment"
    }
   },
   "outputs": [],
   "source": [
    "ai = np.eye(4)"
   ]
  },
  {
   "cell_type": "code",
   "execution_count": 29,
   "metadata": {
    "colab": {},
    "colab_type": "code",
    "id": "4vB73Rko_knd",
    "slideshow": {
     "slide_type": "fragment"
    }
   },
   "outputs": [
    {
     "data": {
      "text/plain": [
       "array([[1., 0., 0., 0.],\n",
       "       [0., 1., 0., 0.],\n",
       "       [0., 0., 1., 0.],\n",
       "       [0., 0., 0., 1.]])"
      ]
     },
     "execution_count": 29,
     "metadata": {},
     "output_type": "execute_result"
    }
   ],
   "source": [
    "ai"
   ]
  },
  {
   "cell_type": "markdown",
   "metadata": {
    "slideshow": {
     "slide_type": "subslide"
    }
   },
   "source": [
    "#### Arrays containing range of values"
   ]
  },
  {
   "cell_type": "code",
   "execution_count": 30,
   "metadata": {
    "colab": {},
    "colab_type": "code",
    "id": "MkfD9ef8_rPM",
    "slideshow": {
     "slide_type": "fragment"
    }
   },
   "outputs": [],
   "source": [
    "a2 = np.arange(2.0, 7.0, 1.5)"
   ]
  },
  {
   "cell_type": "code",
   "execution_count": 31,
   "metadata": {
    "colab": {},
    "colab_type": "code",
    "id": "hPRWGNAr_zo5",
    "slideshow": {
     "slide_type": "fragment"
    }
   },
   "outputs": [
    {
     "data": {
      "text/plain": [
       "array([2. , 3.5, 5. , 6.5])"
      ]
     },
     "execution_count": 31,
     "metadata": {},
     "output_type": "execute_result"
    }
   ],
   "source": [
    "a2"
   ]
  },
  {
   "cell_type": "code",
   "execution_count": 32,
   "metadata": {
    "colab": {},
    "colab_type": "code",
    "id": "94COGBB-_2aK",
    "slideshow": {
     "slide_type": "fragment"
    }
   },
   "outputs": [],
   "source": [
    "a3 = np.linspace(2, 7, 3)"
   ]
  },
  {
   "cell_type": "code",
   "execution_count": 33,
   "metadata": {
    "colab": {},
    "colab_type": "code",
    "id": "U2JSTw3u_6wv",
    "slideshow": {
     "slide_type": "fragment"
    }
   },
   "outputs": [
    {
     "data": {
      "text/plain": [
       "array([2. , 4.5, 7. ])"
      ]
     },
     "execution_count": 33,
     "metadata": {},
     "output_type": "execute_result"
    }
   ],
   "source": [
    "a3"
   ]
  },
  {
   "cell_type": "markdown",
   "metadata": {
    "slideshow": {
     "slide_type": "subslide"
    }
   },
   "source": [
    "#### Array with random numbers"
   ]
  },
  {
   "cell_type": "code",
   "execution_count": 34,
   "metadata": {
    "colab": {},
    "colab_type": "code",
    "id": "youfjseJAXTc",
    "slideshow": {
     "slide_type": "fragment"
    }
   },
   "outputs": [],
   "source": [
    "a4 = np.random.rand(3, 4)"
   ]
  },
  {
   "cell_type": "code",
   "execution_count": 35,
   "metadata": {
    "colab": {},
    "colab_type": "code",
    "id": "dk3v2rCtAqa-",
    "slideshow": {
     "slide_type": "fragment"
    }
   },
   "outputs": [
    {
     "data": {
      "text/plain": [
       "array([[0.05433191, 0.99442646, 0.05128867, 0.12824913],\n",
       "       [0.3340105 , 0.6411045 , 0.88216624, 0.89158162],\n",
       "       [0.76702038, 0.61077398, 0.97963509, 0.78606445]])"
      ]
     },
     "execution_count": 35,
     "metadata": {},
     "output_type": "execute_result"
    }
   ],
   "source": [
    "a4"
   ]
  },
  {
   "cell_type": "markdown",
   "metadata": {
    "colab_type": "text",
    "id": "AvmjLbj9AxjQ",
    "slideshow": {
     "slide_type": "subslide"
    }
   },
   "source": [
    "### Reshaping"
   ]
  },
  {
   "cell_type": "code",
   "execution_count": 36,
   "metadata": {
    "colab": {},
    "colab_type": "code",
    "id": "JITDe0tuA12-",
    "slideshow": {
     "slide_type": "fragment"
    }
   },
   "outputs": [
    {
     "data": {
      "text/plain": [
       "(3, 4)"
      ]
     },
     "execution_count": 36,
     "metadata": {},
     "output_type": "execute_result"
    }
   ],
   "source": [
    "a4.shape"
   ]
  },
  {
   "cell_type": "code",
   "execution_count": 37,
   "metadata": {
    "colab": {},
    "colab_type": "code",
    "id": "rTMwdK0WA5F-",
    "slideshow": {
     "slide_type": "fragment"
    }
   },
   "outputs": [
    {
     "data": {
      "text/plain": [
       "array([[0.05433191, 0.99442646, 0.05128867],\n",
       "       [0.12824913, 0.3340105 , 0.6411045 ],\n",
       "       [0.88216624, 0.89158162, 0.76702038],\n",
       "       [0.61077398, 0.97963509, 0.78606445]])"
      ]
     },
     "execution_count": 37,
     "metadata": {},
     "output_type": "execute_result"
    }
   ],
   "source": [
    "a4.reshape(4, 3)"
   ]
  },
  {
   "cell_type": "markdown",
   "metadata": {
    "colab_type": "text",
    "id": "qC90PJthYB0A",
    "slideshow": {
     "slide_type": "subslide"
    }
   },
   "source": [
    "#### Pause here\n",
    " - What other shapes can you think of?\n",
    " - What is the most common scenario for reshaping?"
   ]
  },
  {
   "cell_type": "code",
   "execution_count": 38,
   "metadata": {
    "colab": {},
    "colab_type": "code",
    "id": "G-pI2WZaA9In",
    "slideshow": {
     "slide_type": "fragment"
    }
   },
   "outputs": [
    {
     "data": {
      "text/plain": [
       "array([[[0.05433191, 0.99442646, 0.05128867],\n",
       "        [0.12824913, 0.3340105 , 0.6411045 ]],\n",
       "\n",
       "       [[0.88216624, 0.89158162, 0.76702038],\n",
       "        [0.61077398, 0.97963509, 0.78606445]]])"
      ]
     },
     "execution_count": 38,
     "metadata": {},
     "output_type": "execute_result"
    }
   ],
   "source": [
    "a4.reshape(2, 2, 3)"
   ]
  },
  {
   "cell_type": "markdown",
   "metadata": {
    "colab_type": "text",
    "id": "MvUTKnkFQCdP",
    "slideshow": {
     "slide_type": "subslide"
    }
   },
   "source": [
    "### Slicing and indexing\n",
    "  - Unlike R and MATLAB, Python indexing starts at 0"
   ]
  },
  {
   "cell_type": "code",
   "execution_count": 39,
   "metadata": {
    "colab": {},
    "colab_type": "code",
    "id": "6Aj-IvIyQCdR",
    "slideshow": {
     "slide_type": "fragment"
    }
   },
   "outputs": [
    {
     "data": {
      "text/plain": [
       "1"
      ]
     },
     "execution_count": 39,
     "metadata": {},
     "output_type": "execute_result"
    }
   ],
   "source": [
    "myarray2[0, 0]"
   ]
  },
  {
   "cell_type": "markdown",
   "metadata": {
    "colab_type": "text",
    "id": "wk4p0s0dX3O3",
    "slideshow": {
     "slide_type": "slide"
    }
   },
   "source": [
    "#### You can slice and dice an array"
   ]
  },
  {
   "cell_type": "code",
   "execution_count": 42,
   "metadata": {
    "slideshow": {
     "slide_type": "fragment"
    }
   },
   "outputs": [
    {
     "data": {
      "text/plain": [
       "array([0, 1, 2, 3, 4, 5, 6, 7, 8, 9])"
      ]
     },
     "execution_count": 42,
     "metadata": {},
     "output_type": "execute_result"
    }
   ],
   "source": [
    "myarray = np.arange(10)\n",
    "myarray"
   ]
  },
  {
   "cell_type": "markdown",
   "metadata": {
    "colab_type": "text",
    "id": "wk4p0s0dX3O3",
    "slideshow": {
     "slide_type": "subslide"
    }
   },
   "source": [
    "  - `a[start:stop:step]`  "
   ]
  },
  {
   "cell_type": "code",
   "execution_count": 41,
   "metadata": {
    "slideshow": {
     "slide_type": "fragment"
    }
   },
   "outputs": [
    {
     "data": {
      "text/plain": [
       "array([1, 3, 5, 7])"
      ]
     },
     "execution_count": 41,
     "metadata": {},
     "output_type": "execute_result"
    }
   ],
   "source": [
    "myarray[1:8:2]"
   ]
  },
  {
   "cell_type": "markdown",
   "metadata": {
    "colab_type": "text",
    "id": "wk4p0s0dX3O3",
    "slideshow": {
     "slide_type": "subslide"
    }
   },
   "source": [
    "  - `a[start:stop]` - `step` defaults to `1`, i.e. shortcut for `a[start:stop:1]`"
   ]
  },
  {
   "cell_type": "code",
   "execution_count": 43,
   "metadata": {
    "slideshow": {
     "slide_type": "fragment"
    }
   },
   "outputs": [
    {
     "data": {
      "text/plain": [
       "array([1, 2, 3, 4])"
      ]
     },
     "execution_count": 43,
     "metadata": {},
     "output_type": "execute_result"
    }
   ],
   "source": [
    "myarray[1:5]"
   ]
  },
  {
   "cell_type": "markdown",
   "metadata": {
    "colab_type": "text",
    "id": "wk4p0s0dX3O3",
    "slideshow": {
     "slide_type": "subslide"
    }
   },
   "source": [
    "  - `a[start:]` - `stop` defaults to end of array"
   ]
  },
  {
   "cell_type": "code",
   "execution_count": 44,
   "metadata": {
    "slideshow": {
     "slide_type": "fragment"
    }
   },
   "outputs": [
    {
     "data": {
      "text/plain": [
       "array([5, 6, 7, 8, 9])"
      ]
     },
     "execution_count": 44,
     "metadata": {},
     "output_type": "execute_result"
    }
   ],
   "source": [
    "myarray[5:]"
   ]
  },
  {
   "cell_type": "markdown",
   "metadata": {
    "colab_type": "text",
    "id": "wk4p0s0dX3O3",
    "slideshow": {
     "slide_type": "subslide"
    }
   },
   "source": [
    "  - `a[:stop]` - `start` defaults to start of array"
   ]
  },
  {
   "cell_type": "code",
   "execution_count": 45,
   "metadata": {
    "slideshow": {
     "slide_type": "fragment"
    }
   },
   "outputs": [
    {
     "data": {
      "text/plain": [
       "array([0, 1, 2, 3, 4])"
      ]
     },
     "execution_count": 45,
     "metadata": {},
     "output_type": "execute_result"
    }
   ],
   "source": [
    "myarray[:5]"
   ]
  },
  {
   "cell_type": "markdown",
   "metadata": {
    "colab_type": "text",
    "id": "wk4p0s0dX3O3",
    "slideshow": {
     "slide_type": "subslide"
    }
   },
   "source": [
    "  - `a[:]` - view of the whole array"
   ]
  },
  {
   "cell_type": "code",
   "execution_count": 47,
   "metadata": {
    "colab": {},
    "colab_type": "code",
    "id": "0-xTpWAhQCdW",
    "slideshow": {
     "slide_type": "fragment"
    }
   },
   "outputs": [
    {
     "data": {
      "text/plain": [
       "array([0, 1, 2, 3, 4, 5, 6, 7, 8, 9])"
      ]
     },
     "execution_count": 47,
     "metadata": {},
     "output_type": "execute_result"
    }
   ],
   "source": [
    "myarray[:]"
   ]
  },
  {
   "cell_type": "markdown",
   "metadata": {
    "slideshow": {
     "slide_type": "subslide"
    }
   },
   "source": [
    "- For multidimensional arrays each dimension can be sliced "
   ]
  },
  {
   "cell_type": "code",
   "execution_count": 58,
   "metadata": {
    "slideshow": {
     "slide_type": "fragment"
    }
   },
   "outputs": [
    {
     "data": {
      "text/plain": [
       "array([[ 0,  1,  2,  3,  4,  5,  6,  7,  8,  9],\n",
       "       [10, 11, 12, 13, 14, 15, 16, 17, 18, 19],\n",
       "       [20, 21, 22, 23, 24, 25, 26, 27, 28, 29],\n",
       "       [30, 31, 32, 33, 34, 35, 36, 37, 38, 39],\n",
       "       [40, 41, 42, 43, 44, 45, 46, 47, 48, 49],\n",
       "       [50, 51, 52, 53, 54, 55, 56, 57, 58, 59],\n",
       "       [60, 61, 62, 63, 64, 65, 66, 67, 68, 69],\n",
       "       [70, 71, 72, 73, 74, 75, 76, 77, 78, 79],\n",
       "       [80, 81, 82, 83, 84, 85, 86, 87, 88, 89],\n",
       "       [90, 91, 92, 93, 94, 95, 96, 97, 98, 99]])"
      ]
     },
     "execution_count": 58,
     "metadata": {},
     "output_type": "execute_result"
    }
   ],
   "source": [
    "myarray2 = np.arange(100).reshape(10, 10)\n",
    "myarray2"
   ]
  },
  {
   "cell_type": "code",
   "execution_count": 53,
   "metadata": {
    "colab": {},
    "colab_type": "code",
    "id": "b5rsp5TaUa2Y",
    "scrolled": true,
    "slideshow": {
     "slide_type": "subslide"
    }
   },
   "outputs": [
    {
     "data": {
      "text/plain": [
       "array([ 1, 11, 21, 31, 41, 51, 61, 71, 81, 91])"
      ]
     },
     "execution_count": 53,
     "metadata": {},
     "output_type": "execute_result"
    }
   ],
   "source": [
    "myarray2[:, 1]"
   ]
  },
  {
   "cell_type": "code",
   "execution_count": 59,
   "metadata": {
    "colab": {},
    "colab_type": "code",
    "id": "WVNl8N40QCdi",
    "slideshow": {
     "slide_type": "subslide"
    }
   },
   "outputs": [
    {
     "data": {
      "text/plain": [
       "array([40, 42, 44, 46, 48])"
      ]
     },
     "execution_count": 59,
     "metadata": {},
     "output_type": "execute_result"
    }
   ],
   "source": [
    "myarray2[4, ::2]"
   ]
  },
  {
   "cell_type": "code",
   "execution_count": 60,
   "metadata": {
    "colab": {},
    "colab_type": "code",
    "id": "gMzfqulYQCdv",
    "slideshow": {
     "slide_type": "subslide"
    }
   },
   "outputs": [
    {
     "data": {
      "text/plain": [
       "array([[50, 52, 54, 56, 58],\n",
       "       [60, 62, 64, 66, 68],\n",
       "       [70, 72, 74, 76, 78],\n",
       "       [80, 82, 84, 86, 88],\n",
       "       [90, 92, 94, 96, 98]])"
      ]
     },
     "execution_count": 60,
     "metadata": {},
     "output_type": "execute_result"
    }
   ],
   "source": [
    "myarray2[5:, ::2]"
   ]
  },
  {
   "cell_type": "markdown",
   "metadata": {
    "colab_type": "text",
    "id": "aQIQPj0ZQCd8",
    "slideshow": {
     "slide_type": "slide"
    }
   },
   "source": [
    "### Assign values"
   ]
  },
  {
   "cell_type": "code",
   "execution_count": 71,
   "metadata": {
    "slideshow": {
     "slide_type": "subslide"
    }
   },
   "outputs": [
    {
     "data": {
      "text/plain": [
       "array([[ 0,  1,  2,  3,  4],\n",
       "       [ 5,  6,  7,  8,  9],\n",
       "       [10, 11, 12, 13, 14],\n",
       "       [15, 16, 17, 18, 19],\n",
       "       [20, 21, 22, 23, 24]])"
      ]
     },
     "execution_count": 71,
     "metadata": {},
     "output_type": "execute_result"
    }
   ],
   "source": [
    "myarray2 = np.arange(25).reshape(5, 5)\n",
    "myarray2"
   ]
  },
  {
   "cell_type": "code",
   "execution_count": 72,
   "metadata": {
    "colab": {},
    "colab_type": "code",
    "id": "0Ua_ZLyzQCd_",
    "slideshow": {
     "slide_type": "subslide"
    }
   },
   "outputs": [],
   "source": [
    "myarray2[0, 0] = -10"
   ]
  },
  {
   "cell_type": "code",
   "execution_count": 73,
   "metadata": {
    "colab": {},
    "colab_type": "code",
    "id": "A3DVWoGlQCeP",
    "slideshow": {
     "slide_type": "fragment"
    }
   },
   "outputs": [
    {
     "data": {
      "text/plain": [
       "array([[-10,   1,   2,   3,   4],\n",
       "       [  5,   6,   7,   8,   9],\n",
       "       [ 10,  11,  12,  13,  14],\n",
       "       [ 15,  16,  17,  18,  19],\n",
       "       [ 20,  21,  22,  23,  24]])"
      ]
     },
     "execution_count": 73,
     "metadata": {},
     "output_type": "execute_result"
    }
   ],
   "source": [
    "myarray2"
   ]
  },
  {
   "cell_type": "code",
   "execution_count": 74,
   "metadata": {
    "colab": {},
    "colab_type": "code",
    "id": "jDeRHVJNQCeW",
    "slideshow": {
     "slide_type": "subslide"
    }
   },
   "outputs": [],
   "source": [
    "myarray2[:, 0] = -1  # broadcast"
   ]
  },
  {
   "cell_type": "code",
   "execution_count": 75,
   "metadata": {
    "colab": {},
    "colab_type": "code",
    "id": "mBTAuJsuQCed",
    "slideshow": {
     "slide_type": "fragment"
    }
   },
   "outputs": [
    {
     "data": {
      "text/plain": [
       "array([[-1,  1,  2,  3,  4],\n",
       "       [-1,  6,  7,  8,  9],\n",
       "       [-1, 11, 12, 13, 14],\n",
       "       [-1, 16, 17, 18, 19],\n",
       "       [-1, 21, 22, 23, 24]])"
      ]
     },
     "execution_count": 75,
     "metadata": {},
     "output_type": "execute_result"
    }
   ],
   "source": [
    "myarray2"
   ]
  },
  {
   "cell_type": "markdown",
   "metadata": {
    "colab_type": "text",
    "id": "ylhq3KzjXKT2",
    "slideshow": {
     "slide_type": "fragment"
    }
   },
   "source": [
    "#### Pause here\n",
    " - How will you set all of first row to 0?\n",
    " - How will you set every alternate column to 0?"
   ]
  },
  {
   "cell_type": "markdown",
   "metadata": {
    "colab_type": "text",
    "id": "saSDMJy1IPZs",
    "slideshow": {
     "slide_type": "subslide"
    }
   },
   "source": [
    "### Check conditions on array elements\n"
   ]
  },
  {
   "cell_type": "markdown",
   "metadata": {
    "colab_type": "text",
    "id": "fF2-ZWMxA4ge",
    "slideshow": {
     "slide_type": "fragment"
    }
   },
   "source": [
    "#### Condition check in simple Python"
   ]
  },
  {
   "cell_type": "markdown",
   "metadata": {
    "slideshow": {
     "slide_type": "fragment"
    }
   },
   "source": [
    "```python\n",
    "\n",
    "if a < 0:\n",
    "  print('a is negative')\n",
    "```"
   ]
  },
  {
   "cell_type": "markdown",
   "metadata": {
    "slideshow": {
     "slide_type": "subslide"
    }
   },
   "source": [
    "---\n",
    "```python\n",
    "\n",
    "if a < 0:\n",
    "  print('a is negative')\n",
    "else:\n",
    "  print('not negative')\n",
    "  ```"
   ]
  },
  {
   "cell_type": "markdown",
   "metadata": {
    "slideshow": {
     "slide_type": "subslide"
    }
   },
   "source": [
    "---\n",
    "```python\n",
    "\n",
    "if a < 0:\n",
    "  print('a is negative')\n",
    "elif a > 0:\n",
    "  print('a is positive')\n",
    "else:\n",
    "  print('a == 0')\n",
    "  ```\n",
    "  You can put as many `elif`s as you need."
   ]
  },
  {
   "cell_type": "markdown",
   "metadata": {
    "colab_type": "text",
    "id": "o0fZ5GZFVIbP",
    "slideshow": {
     "slide_type": "subslide"
    }
   },
   "source": [
    "#### Array comparison and boolean arrays\n",
    "\n",
    "\n"
   ]
  },
  {
   "cell_type": "code",
   "execution_count": 81,
   "metadata": {
    "colab": {},
    "colab_type": "code",
    "id": "DVYM3ZARIiXl",
    "slideshow": {
     "slide_type": "fragment"
    }
   },
   "outputs": [
    {
     "data": {
      "text/plain": [
       "array([False, False,  True,  True])"
      ]
     },
     "execution_count": 81,
     "metadata": {},
     "output_type": "execute_result"
    }
   ],
   "source": [
    "myarray = np.array([1, 2, 3, 4])\n",
    "myarray > 2"
   ]
  },
  {
   "cell_type": "markdown",
   "metadata": {
    "colab_type": "text",
    "id": "R09g84zpVZo_",
    "slideshow": {
     "slide_type": "subslide"
    }
   },
   "source": [
    "#### Functions for condition check"
   ]
  },
  {
   "cell_type": "code",
   "execution_count": 82,
   "metadata": {
    "colab": {},
    "colab_type": "code",
    "id": "BrXyAsXMIyRH",
    "slideshow": {
     "slide_type": "fragment"
    }
   },
   "outputs": [
    {
     "data": {
      "text/plain": [
       "(array([2, 3]),)"
      ]
     },
     "execution_count": 82,
     "metadata": {},
     "output_type": "execute_result"
    }
   ],
   "source": [
    "np.nonzero(myarray > 2)"
   ]
  },
  {
   "cell_type": "code",
   "execution_count": 83,
   "metadata": {
    "colab": {},
    "colab_type": "code",
    "id": "4JaWGd9wIqnD",
    "slideshow": {
     "slide_type": "fragment"
    }
   },
   "outputs": [
    {
     "data": {
      "text/plain": [
       "(array([2, 3]),)"
      ]
     },
     "execution_count": 83,
     "metadata": {},
     "output_type": "execute_result"
    }
   ],
   "source": [
    "np.where(myarray > 2)"
   ]
  },
  {
   "cell_type": "code",
   "execution_count": 88,
   "metadata": {
    "colab": {},
    "colab_type": "code",
    "id": "2IJW_rhzVv7U",
    "slideshow": {
     "slide_type": "subslide"
    }
   },
   "outputs": [
    {
     "data": {
      "text/plain": [
       "array([[0, 1, 2],\n",
       "       [3, 4, 5],\n",
       "       [6, 7, 8]])"
      ]
     },
     "execution_count": 88,
     "metadata": {},
     "output_type": "execute_result"
    }
   ],
   "source": [
    "myarray2 = np.arange(9).reshape(3,3)\n",
    "myarray2"
   ]
  },
  {
   "cell_type": "code",
   "execution_count": 89,
   "metadata": {
    "colab": {},
    "colab_type": "code",
    "id": "2IJW_rhzVv7U",
    "slideshow": {
     "slide_type": "fragment"
    }
   },
   "outputs": [
    {
     "data": {
      "text/plain": [
       "array([[False, False, False],\n",
       "       [False,  True,  True],\n",
       "       [ True,  True,  True]])"
      ]
     },
     "execution_count": 89,
     "metadata": {},
     "output_type": "execute_result"
    }
   ],
   "source": [
    "myarray2 > 3"
   ]
  },
  {
   "cell_type": "code",
   "execution_count": 90,
   "metadata": {
    "colab": {},
    "colab_type": "code",
    "id": "S9rtiEEMQCfK",
    "slideshow": {
     "slide_type": "subslide"
    }
   },
   "outputs": [
    {
     "data": {
      "text/plain": [
       "(array([1, 1, 2, 2, 2]), array([1, 2, 0, 1, 2]))"
      ]
     },
     "execution_count": 90,
     "metadata": {},
     "output_type": "execute_result"
    }
   ],
   "source": [
    "np.nonzero(myarray2 > 3)"
   ]
  },
  {
   "cell_type": "code",
   "execution_count": 91,
   "metadata": {
    "colab": {},
    "colab_type": "code",
    "id": "pz2OC8wBJFqL",
    "slideshow": {
     "slide_type": "subslide"
    }
   },
   "outputs": [
    {
     "data": {
      "text/plain": [
       "(array([1, 1, 2, 2, 2]), array([1, 2, 0, 1, 2]))"
      ]
     },
     "execution_count": 91,
     "metadata": {},
     "output_type": "execute_result"
    }
   ],
   "source": [
    "np.where(myarray2 > 3)"
   ]
  },
  {
   "cell_type": "code",
   "execution_count": 93,
   "metadata": {
    "colab": {},
    "colab_type": "code",
    "id": "gwXmFQH-JJjn",
    "slideshow": {
     "slide_type": "subslide"
    }
   },
   "outputs": [
    {
     "data": {
      "text/plain": [
       "array([['Y', 'Y', 'Y'],\n",
       "       ['Y', 'X', 'X'],\n",
       "       ['X', 'X', 'X']], dtype='<U1')"
      ]
     },
     "execution_count": 93,
     "metadata": {},
     "output_type": "execute_result"
    }
   ],
   "source": [
    "np.where(myarray2 > 3, 'X', 'Y')"
   ]
  },
  {
   "cell_type": "markdown",
   "metadata": {
    "colab_type": "text",
    "id": "4e1BwL19JiTa",
    "slideshow": {
     "slide_type": "subslide"
    }
   },
   "source": [
    "#### Pause here: Check the documentation on `where`"
   ]
  },
  {
   "cell_type": "markdown",
   "metadata": {
    "colab_type": "text",
    "id": "EL3TmFvdQCff",
    "slideshow": {
     "slide_type": "slide"
    }
   },
   "source": [
    "## Array of heterogeneous data\n",
    "#### Pause here: let us discuss data types\n",
    "- Anybody noticed `dtype` so far?\n",
    "- What are data types?\n",
    "- What are some of the  data types in Python?\n"
   ]
  },
  {
   "cell_type": "code",
   "execution_count": 94,
   "metadata": {
    "colab": {},
    "colab_type": "code",
    "id": "hA0eZjz6QCfh",
    "slideshow": {
     "slide_type": "subslide"
    }
   },
   "outputs": [],
   "source": [
    "harray = np.array([(1, 's', 3.14)])"
   ]
  },
  {
   "cell_type": "code",
   "execution_count": 95,
   "metadata": {
    "colab": {},
    "colab_type": "code",
    "id": "faAQGQ4vQCfq",
    "slideshow": {
     "slide_type": "fragment"
    }
   },
   "outputs": [
    {
     "data": {
      "text/plain": [
       "array([['1', 's', '3.14']], dtype='<U21')"
      ]
     },
     "execution_count": 95,
     "metadata": {},
     "output_type": "execute_result"
    }
   ],
   "source": [
    "harray"
   ]
  },
  {
   "cell_type": "code",
   "execution_count": 96,
   "metadata": {
    "colab": {},
    "colab_type": "code",
    "id": "cvLfLlSOQCft",
    "slideshow": {
     "slide_type": "subslide"
    }
   },
   "outputs": [],
   "source": [
    "harray = np.array([(1, 's', 3.14)], dtype=[('a', 'i8'), ('b', 'S1'), ('c', 'f4')])"
   ]
  },
  {
   "cell_type": "code",
   "execution_count": 97,
   "metadata": {
    "colab": {},
    "colab_type": "code",
    "id": "hF-OiksUQCfy",
    "slideshow": {
     "slide_type": "fragment"
    }
   },
   "outputs": [
    {
     "data": {
      "text/plain": [
       "array([1])"
      ]
     },
     "execution_count": 97,
     "metadata": {},
     "output_type": "execute_result"
    }
   ],
   "source": [
    "harray['a']"
   ]
  },
  {
   "cell_type": "code",
   "execution_count": 98,
   "metadata": {
    "colab": {},
    "colab_type": "code",
    "id": "Rzgjg_YyQCgA",
    "slideshow": {
     "slide_type": "fragment"
    }
   },
   "outputs": [
    {
     "data": {
      "text/plain": [
       "array([(1, b's')],\n",
       "      dtype={'names':['a','b'], 'formats':['<i8','S1'], 'offsets':[0,8], 'itemsize':13})"
      ]
     },
     "execution_count": 98,
     "metadata": {},
     "output_type": "execute_result"
    }
   ],
   "source": [
    "harray[['a', 'b']]"
   ]
  },
  {
   "cell_type": "markdown",
   "metadata": {
    "colab_type": "text",
    "id": "oD7AHSQPkEBF",
    "slideshow": {
     "slide_type": "slide"
    }
   },
   "source": [
    "## Using real data\n",
    "We shall use data from the Wisconsin breast cancer database available online."
   ]
  },
  {
   "cell_type": "code",
   "execution_count": 99,
   "metadata": {
    "colab": {},
    "colab_type": "code",
    "id": "1t-9ikHbCh92",
    "slideshow": {
     "slide_type": "fragment"
    }
   },
   "outputs": [],
   "source": [
    "data_url = 'http://archive.ics.uci.edu/ml/machine-learning-databases/breast-cancer-wisconsin/breast-cancer-wisconsin.data'\n",
    "attr_url = 'http://archive.ics.uci.edu/ml/machine-learning-databases/breast-cancer-wisconsin/breast-cancer-wisconsin.names'"
   ]
  },
  {
   "cell_type": "markdown",
   "metadata": {
    "colab_type": "text",
    "id": "PzKSwY_4kPvS",
    "slideshow": {
     "slide_type": "subslide"
    }
   },
   "source": [
    "- Information about the data is available in internet location referred to in `attr_url`.\n",
    "- In human-readable plain text format. \n",
    "- We shall retrieve this using `http` protocol via functions in the `requests` library. \n",
    "- If working on a local computer, we could just download the file manually."
   ]
  },
  {
   "cell_type": "code",
   "execution_count": 100,
   "metadata": {
    "colab": {},
    "colab_type": "code",
    "id": "d_1rGoGsCyvd",
    "slideshow": {
     "slide_type": "subslide"
    }
   },
   "outputs": [],
   "source": [
    "attrs = requests.get(attr_url)"
   ]
  },
  {
   "cell_type": "markdown",
   "metadata": {
    "colab_type": "text",
    "id": "h2Y1fQoMDStj",
    "slideshow": {
     "slide_type": "subslide"
    }
   },
   "source": [
    "Skim through the attributes. The data is meaningless jumble of numbers without some of this information (metadata) Pay attention to 5-8."
   ]
  },
  {
   "cell_type": "code",
   "execution_count": 101,
   "metadata": {
    "colab": {},
    "colab_type": "code",
    "id": "c6SgqHLYDI0H",
    "slideshow": {
     "slide_type": "fragment"
    }
   },
   "outputs": [
    {
     "name": "stdout",
     "output_type": "stream",
     "text": [
      "Citation Request:\n",
      "   This breast cancer databases was obtained from the University of Wisconsin\n",
      "   Hospitals, Madison from Dr. William H. Wolberg.  If you publish results\n",
      "   when using this database, then please include this information in your\n",
      "   acknowledgements.  Also, please cite one or more of:\n",
      "\n",
      "   1. O. L. Mangasarian and W. H. Wolberg: \"Cancer diagnosis via linear \n",
      "      programming\", SIAM News, Volume 23, Number 5, September 1990, pp 1 & 18.\n",
      "\n",
      "   2. William H. Wolberg and O.L. Mangasarian: \"Multisurface method of \n",
      "      pattern separation for medical diagnosis applied to breast cytology\", \n",
      "      Proceedings of the National Academy of Sciences, U.S.A., Volume 87, \n",
      "      December 1990, pp 9193-9196.\n",
      "\n",
      "   3. O. L. Mangasarian, R. Setiono, and W.H. Wolberg: \"Pattern recognition \n",
      "      via linear programming: Theory and application to medical diagnosis\", \n",
      "      in: \"Large-scale numerical optimization\", Thomas F. Coleman and Yuying\n",
      "      Li, editors, SIAM Publications, Philadelphia 1990, pp 22-30.\n",
      "\n",
      "   4. K. P. Bennett & O. L. Mangasarian: \"Robust linear programming \n",
      "      discrimination of two linearly inseparable sets\", Optimization Methods\n",
      "      and Software 1, 1992, 23-34 (Gordon & Breach Science Publishers).\n",
      "\n",
      "1. Title: Wisconsin Breast Cancer Database (January 8, 1991)\n",
      "\n",
      "2. Sources:\n",
      "   -- Dr. WIlliam H. Wolberg (physician)\n",
      "      University of Wisconsin Hospitals\n",
      "      Madison, Wisconsin\n",
      "      USA\n",
      "   -- Donor: Olvi Mangasarian (mangasarian@cs.wisc.edu)\n",
      "      Received by David W. Aha (aha@cs.jhu.edu)\n",
      "   -- Date: 15 July 1992\n",
      "\n",
      "3. Past Usage:\n",
      "\n",
      "   Attributes 2 through 10 have been used to represent instances.\n",
      "   Each instance has one of 2 possible classes: benign or malignant.\n",
      "\n",
      "   1. Wolberg,~W.~H., \\& Mangasarian,~O.~L. (1990). Multisurface method of \n",
      "      pattern separation for medical diagnosis applied to breast cytology. In\n",
      "      {\\it Proceedings of the National Academy of Sciences}, {\\it 87},\n",
      "      9193--9196.\n",
      "      -- Size of data set: only 369 instances (at that point in time)\n",
      "      -- Collected classification results: 1 trial only\n",
      "      -- Two pairs of parallel hyperplanes were found to be consistent with\n",
      "         50% of the data\n",
      "         -- Accuracy on remaining 50% of dataset: 93.5%\n",
      "      -- Three pairs of parallel hyperplanes were found to be consistent with\n",
      "         67% of data\n",
      "         -- Accuracy on remaining 33% of dataset: 95.9%\n",
      "\n",
      "   2. Zhang,~J. (1992). Selecting typical instances in instance-based\n",
      "      learning.  In {\\it Proceedings of the Ninth International Machine\n",
      "      Learning Conference} (pp. 470--479).  Aberdeen, Scotland: Morgan\n",
      "      Kaufmann.\n",
      "      -- Size of data set: only 369 instances (at that point in time)\n",
      "      -- Applied 4 instance-based learning algorithms \n",
      "      -- Collected classification results averaged over 10 trials\n",
      "      -- Best accuracy result: \n",
      "         -- 1-nearest neighbor: 93.7%\n",
      "         -- trained on 200 instances, tested on the other 169\n",
      "      -- Also of interest:\n",
      "         -- Using only typical instances: 92.2% (storing only 23.1 instances)\n",
      "         -- trained on 200 instances, tested on the other 169\n",
      "\n",
      "4. Relevant Information:\n",
      "\n",
      "   Samples arrive periodically as Dr. Wolberg reports his clinical cases.\n",
      "   The database therefore reflects this chronological grouping of the data.\n",
      "   This grouping information appears immediately below, having been removed\n",
      "   from the data itself:\n",
      "\n",
      "     Group 1: 367 instances (January 1989)\n",
      "     Group 2:  70 instances (October 1989)\n",
      "     Group 3:  31 instances (February 1990)\n",
      "     Group 4:  17 instances (April 1990)\n",
      "     Group 5:  48 instances (August 1990)\n",
      "     Group 6:  49 instances (Updated January 1991)\n",
      "     Group 7:  31 instances (June 1991)\n",
      "     Group 8:  86 instances (November 1991)\n",
      "     -----------------------------------------\n",
      "     Total:   699 points (as of the donated datbase on 15 July 1992)\n",
      "\n",
      "   Note that the results summarized above in Past Usage refer to a dataset\n",
      "   of size 369, while Group 1 has only 367 instances.  This is because it\n",
      "   originally contained 369 instances; 2 were removed.  The following\n",
      "   statements summarizes changes to the original Group 1's set of data:\n",
      "\n",
      "   #####  Group 1 : 367 points: 200B 167M (January 1989)\n",
      "   #####  Revised Jan 10, 1991: Replaced zero bare nuclei in 1080185 & 1187805\n",
      "   #####  Revised Nov 22,1991: Removed 765878,4,5,9,7,10,10,10,3,8,1 no record\n",
      "   #####                  : Removed 484201,2,7,8,8,4,3,10,3,4,1 zero epithelial\n",
      "   #####                  : Changed 0 to 1 in field 6 of sample 1219406\n",
      "   #####                  : Changed 0 to 1 in field 8 of following sample:\n",
      "   #####                  : 1182404,2,3,1,1,1,2,0,1,1,1\n",
      "\n",
      "5. Number of Instances: 699 (as of 15 July 1992)\n",
      "\n",
      "6. Number of Attributes: 10 plus the class attribute\n",
      "\n",
      "7. Attribute Information: (class attribute has been moved to last column)\n",
      "\n",
      "   #  Attribute                     Domain\n",
      "   -- -----------------------------------------\n",
      "   1. Sample code number            id number\n",
      "   2. Clump Thickness               1 - 10\n",
      "   3. Uniformity of Cell Size       1 - 10\n",
      "   4. Uniformity of Cell Shape      1 - 10\n",
      "   5. Marginal Adhesion             1 - 10\n",
      "   6. Single Epithelial Cell Size   1 - 10\n",
      "   7. Bare Nuclei                   1 - 10\n",
      "   8. Bland Chromatin               1 - 10\n",
      "   9. Normal Nucleoli               1 - 10\n",
      "  10. Mitoses                       1 - 10\n",
      "  11. Class:                        (2 for benign, 4 for malignant)\n",
      "\n",
      "8. Missing attribute values: 16\n",
      "\n",
      "   There are 16 instances in Groups 1 to 6 that contain a single missing \n",
      "   (i.e., unavailable) attribute value, now denoted by \"?\".  \n",
      "\n",
      "9. Class distribution:\n",
      " \n",
      "   Benign: 458 (65.5%)\n",
      "   Malignant: 241 (34.5%)\n",
      "\n"
     ]
    }
   ],
   "source": [
    "print(attrs.content.decode('utf-8'))"
   ]
  },
  {
   "cell_type": "markdown",
   "metadata": {
    "colab_type": "text",
    "id": "xxRQaGUbliQw",
    "slideshow": {
     "slide_type": "subslide"
    }
   },
   "source": [
    "Retrieve the data from the web server into a string."
   ]
  },
  {
   "cell_type": "code",
   "execution_count": 102,
   "metadata": {
    "colab": {},
    "colab_type": "code",
    "id": "SPJCGXr0DK_D",
    "slideshow": {
     "slide_type": "fragment"
    }
   },
   "outputs": [],
   "source": [
    "data_str = requests.get(data_url).content.decode('utf-8')"
   ]
  },
  {
   "cell_type": "code",
   "execution_count": 103,
   "metadata": {
    "colab": {},
    "colab_type": "code",
    "id": "uMKMLdOxD0He",
    "slideshow": {
     "slide_type": "fragment"
    }
   },
   "outputs": [
    {
     "name": "stdout",
     "output_type": "stream",
     "text": [
      "1000025,5,1,1,1,2,1,3,1,1,2\n",
      "1002945,5,4,4,5,7,10,3,2,1,2\n",
      "1015425,3,1,1,1,2,2,3,1,1,2\n",
      "1016277,6,8,8,1\n"
     ]
    }
   ],
   "source": [
    "print(data_str[:100])"
   ]
  },
  {
   "cell_type": "code",
   "execution_count": 104,
   "metadata": {
    "colab": {},
    "colab_type": "code",
    "id": "cPtWM3nrEQU2",
    "slideshow": {
     "slide_type": "fragment"
    }
   },
   "outputs": [
    {
     "data": {
      "text/plain": [
       "str"
      ]
     },
     "execution_count": 104,
     "metadata": {},
     "output_type": "execute_result"
    }
   ],
   "source": [
    "type(data_str)"
   ]
  },
  {
   "cell_type": "markdown",
   "metadata": {
    "colab_type": "text",
    "id": "fRhJtYFumLRi",
    "slideshow": {
     "slide_type": "slide"
    }
   },
   "source": [
    "### Read the data into a numpy array.\n",
    "- With `python` on local computer, you could simply download the data file manually and load it from local disk like: \n",
    "\n",
    "    `np.loadtxt(filename, other arguments)`\n",
    "\n",
    "    or\n",
    "\n",
    "    `np.genfromtext(filename, other arguments)`. "
   ]
  },
  {
   "cell_type": "markdown",
   "metadata": {
    "colab_type": "text",
    "id": "fRhJtYFumLRi",
    "slideshow": {
     "slide_type": "fragment"
    }
   },
   "source": [
    "- Since we have a `str` instead of a file, we use a `StringIO` object around the string containing our data as a proxy for a file. "
   ]
  },
  {
   "cell_type": "code",
   "execution_count": 105,
   "metadata": {
    "colab": {},
    "colab_type": "code",
    "id": "YkVegmqK__q7",
    "slideshow": {
     "slide_type": "subslide"
    }
   },
   "outputs": [
    {
     "ename": "ValueError",
     "evalue": "could not convert string to float: '?'",
     "output_type": "error",
     "traceback": [
      "\u001b[0;31m---------------------------------------------------------------------------\u001b[0m",
      "\u001b[0;31mValueError\u001b[0m                                Traceback (most recent call last)",
      "\u001b[0;32m<ipython-input-105-40de21dc5ccb>\u001b[0m in \u001b[0;36m<module>\u001b[0;34m\u001b[0m\n\u001b[0;32m----> 1\u001b[0;31m \u001b[0mdata\u001b[0m \u001b[0;34m=\u001b[0m \u001b[0mnp\u001b[0m\u001b[0;34m.\u001b[0m\u001b[0mloadtxt\u001b[0m\u001b[0;34m(\u001b[0m\u001b[0mio\u001b[0m\u001b[0;34m.\u001b[0m\u001b[0mStringIO\u001b[0m\u001b[0;34m(\u001b[0m\u001b[0mdata_str\u001b[0m\u001b[0;34m)\u001b[0m\u001b[0;34m,\u001b[0m \u001b[0mdelimiter\u001b[0m\u001b[0;34m=\u001b[0m\u001b[0;34m','\u001b[0m\u001b[0;34m)\u001b[0m\u001b[0;34m\u001b[0m\u001b[0;34m\u001b[0m\u001b[0m\n\u001b[0m",
      "\u001b[0;32m/srv/conda/envs/notebook/lib/python3.7/site-packages/numpy/lib/npyio.py\u001b[0m in \u001b[0;36mloadtxt\u001b[0;34m(fname, dtype, comments, delimiter, converters, skiprows, usecols, unpack, ndmin, encoding, max_rows)\u001b[0m\n\u001b[1;32m   1139\u001b[0m         \u001b[0;31m# converting the data\u001b[0m\u001b[0;34m\u001b[0m\u001b[0;34m\u001b[0m\u001b[0;34m\u001b[0m\u001b[0m\n\u001b[1;32m   1140\u001b[0m         \u001b[0mX\u001b[0m \u001b[0;34m=\u001b[0m \u001b[0;32mNone\u001b[0m\u001b[0;34m\u001b[0m\u001b[0;34m\u001b[0m\u001b[0m\n\u001b[0;32m-> 1141\u001b[0;31m         \u001b[0;32mfor\u001b[0m \u001b[0mx\u001b[0m \u001b[0;32min\u001b[0m \u001b[0mread_data\u001b[0m\u001b[0;34m(\u001b[0m\u001b[0m_loadtxt_chunksize\u001b[0m\u001b[0;34m)\u001b[0m\u001b[0;34m:\u001b[0m\u001b[0;34m\u001b[0m\u001b[0;34m\u001b[0m\u001b[0m\n\u001b[0m\u001b[1;32m   1142\u001b[0m             \u001b[0;32mif\u001b[0m \u001b[0mX\u001b[0m \u001b[0;32mis\u001b[0m \u001b[0;32mNone\u001b[0m\u001b[0;34m:\u001b[0m\u001b[0;34m\u001b[0m\u001b[0;34m\u001b[0m\u001b[0m\n\u001b[1;32m   1143\u001b[0m                 \u001b[0mX\u001b[0m \u001b[0;34m=\u001b[0m \u001b[0mnp\u001b[0m\u001b[0;34m.\u001b[0m\u001b[0marray\u001b[0m\u001b[0;34m(\u001b[0m\u001b[0mx\u001b[0m\u001b[0;34m,\u001b[0m \u001b[0mdtype\u001b[0m\u001b[0;34m)\u001b[0m\u001b[0;34m\u001b[0m\u001b[0;34m\u001b[0m\u001b[0m\n",
      "\u001b[0;32m/srv/conda/envs/notebook/lib/python3.7/site-packages/numpy/lib/npyio.py\u001b[0m in \u001b[0;36mread_data\u001b[0;34m(chunk_size)\u001b[0m\n\u001b[1;32m   1066\u001b[0m \u001b[0;34m\u001b[0m\u001b[0m\n\u001b[1;32m   1067\u001b[0m             \u001b[0;31m# Convert each value according to its column and store\u001b[0m\u001b[0;34m\u001b[0m\u001b[0;34m\u001b[0m\u001b[0;34m\u001b[0m\u001b[0m\n\u001b[0;32m-> 1068\u001b[0;31m             \u001b[0mitems\u001b[0m \u001b[0;34m=\u001b[0m \u001b[0;34m[\u001b[0m\u001b[0mconv\u001b[0m\u001b[0;34m(\u001b[0m\u001b[0mval\u001b[0m\u001b[0;34m)\u001b[0m \u001b[0;32mfor\u001b[0m \u001b[0;34m(\u001b[0m\u001b[0mconv\u001b[0m\u001b[0;34m,\u001b[0m \u001b[0mval\u001b[0m\u001b[0;34m)\u001b[0m \u001b[0;32min\u001b[0m \u001b[0mzip\u001b[0m\u001b[0;34m(\u001b[0m\u001b[0mconverters\u001b[0m\u001b[0;34m,\u001b[0m \u001b[0mvals\u001b[0m\u001b[0;34m)\u001b[0m\u001b[0;34m]\u001b[0m\u001b[0;34m\u001b[0m\u001b[0;34m\u001b[0m\u001b[0m\n\u001b[0m\u001b[1;32m   1069\u001b[0m \u001b[0;34m\u001b[0m\u001b[0m\n\u001b[1;32m   1070\u001b[0m             \u001b[0;31m# Then pack it according to the dtype's nesting\u001b[0m\u001b[0;34m\u001b[0m\u001b[0;34m\u001b[0m\u001b[0;34m\u001b[0m\u001b[0m\n",
      "\u001b[0;32m/srv/conda/envs/notebook/lib/python3.7/site-packages/numpy/lib/npyio.py\u001b[0m in \u001b[0;36m<listcomp>\u001b[0;34m(.0)\u001b[0m\n\u001b[1;32m   1066\u001b[0m \u001b[0;34m\u001b[0m\u001b[0m\n\u001b[1;32m   1067\u001b[0m             \u001b[0;31m# Convert each value according to its column and store\u001b[0m\u001b[0;34m\u001b[0m\u001b[0;34m\u001b[0m\u001b[0;34m\u001b[0m\u001b[0m\n\u001b[0;32m-> 1068\u001b[0;31m             \u001b[0mitems\u001b[0m \u001b[0;34m=\u001b[0m \u001b[0;34m[\u001b[0m\u001b[0mconv\u001b[0m\u001b[0;34m(\u001b[0m\u001b[0mval\u001b[0m\u001b[0;34m)\u001b[0m \u001b[0;32mfor\u001b[0m \u001b[0;34m(\u001b[0m\u001b[0mconv\u001b[0m\u001b[0;34m,\u001b[0m \u001b[0mval\u001b[0m\u001b[0;34m)\u001b[0m \u001b[0;32min\u001b[0m \u001b[0mzip\u001b[0m\u001b[0;34m(\u001b[0m\u001b[0mconverters\u001b[0m\u001b[0;34m,\u001b[0m \u001b[0mvals\u001b[0m\u001b[0;34m)\u001b[0m\u001b[0;34m]\u001b[0m\u001b[0;34m\u001b[0m\u001b[0;34m\u001b[0m\u001b[0m\n\u001b[0m\u001b[1;32m   1069\u001b[0m \u001b[0;34m\u001b[0m\u001b[0m\n\u001b[1;32m   1070\u001b[0m             \u001b[0;31m# Then pack it according to the dtype's nesting\u001b[0m\u001b[0;34m\u001b[0m\u001b[0;34m\u001b[0m\u001b[0;34m\u001b[0m\u001b[0m\n",
      "\u001b[0;32m/srv/conda/envs/notebook/lib/python3.7/site-packages/numpy/lib/npyio.py\u001b[0m in \u001b[0;36mfloatconv\u001b[0;34m(x)\u001b[0m\n\u001b[1;32m    773\u001b[0m         \u001b[0;32mif\u001b[0m \u001b[0;34m'0x'\u001b[0m \u001b[0;32min\u001b[0m \u001b[0mx\u001b[0m\u001b[0;34m:\u001b[0m\u001b[0;34m\u001b[0m\u001b[0;34m\u001b[0m\u001b[0m\n\u001b[1;32m    774\u001b[0m             \u001b[0;32mreturn\u001b[0m \u001b[0mfloat\u001b[0m\u001b[0;34m.\u001b[0m\u001b[0mfromhex\u001b[0m\u001b[0;34m(\u001b[0m\u001b[0mx\u001b[0m\u001b[0;34m)\u001b[0m\u001b[0;34m\u001b[0m\u001b[0;34m\u001b[0m\u001b[0m\n\u001b[0;32m--> 775\u001b[0;31m         \u001b[0;32mreturn\u001b[0m \u001b[0mfloat\u001b[0m\u001b[0;34m(\u001b[0m\u001b[0mx\u001b[0m\u001b[0;34m)\u001b[0m\u001b[0;34m\u001b[0m\u001b[0;34m\u001b[0m\u001b[0m\n\u001b[0m\u001b[1;32m    776\u001b[0m \u001b[0;34m\u001b[0m\u001b[0m\n\u001b[1;32m    777\u001b[0m     \u001b[0mtyp\u001b[0m \u001b[0;34m=\u001b[0m \u001b[0mdtype\u001b[0m\u001b[0;34m.\u001b[0m\u001b[0mtype\u001b[0m\u001b[0;34m\u001b[0m\u001b[0;34m\u001b[0m\u001b[0m\n",
      "\u001b[0;31mValueError\u001b[0m: could not convert string to float: '?'"
     ]
    }
   ],
   "source": [
    "data = np.loadtxt(io.StringIO(data_str), delimiter=',')"
   ]
  },
  {
   "cell_type": "code",
   "execution_count": null,
   "metadata": {
    "colab": {},
    "colab_type": "code",
    "id": "pEthoBLhAMHJ",
    "slideshow": {
     "slide_type": "skip"
    }
   },
   "outputs": [],
   "source": [
    "data = np.loadtxt(io.StringIO(data_str), delimiter=',', dtype=int)"
   ]
  },
  {
   "cell_type": "code",
   "execution_count": 106,
   "metadata": {
    "colab": {},
    "colab_type": "code",
    "id": "031fUjsOAY9S",
    "slideshow": {
     "slide_type": "subslide"
    }
   },
   "outputs": [],
   "source": [
    "data = np.loadtxt(io.StringIO(data_str), delimiter=',', dtype=str)"
   ]
  },
  {
   "cell_type": "code",
   "execution_count": 107,
   "metadata": {
    "colab": {},
    "colab_type": "code",
    "id": "pTaPzS65AcUl",
    "scrolled": true,
    "slideshow": {
     "slide_type": "fragment"
    }
   },
   "outputs": [
    {
     "name": "stdout",
     "output_type": "stream",
     "text": [
      "[['1054590' '7' '3' '2' '10' '5' '10' '5' '4' '4' '4']\n",
      " ['1054593' '10' '5' '5' '3' '6' '7' '7' '10' '1' '4']\n",
      " ['1056784' '3' '1' '1' '1' '2' '1' '2' '1' '1' '2']\n",
      " ['1057013' '8' '4' '5' '1' '2' '?' '7' '3' '1' '4']\n",
      " ['1059552' '1' '1' '1' '1' '2' '1' '3' '1' '1' '2']]\n"
     ]
    }
   ],
   "source": [
    "print(data[20:25])"
   ]
  },
  {
   "cell_type": "markdown",
   "metadata": {
    "slideshow": {
     "slide_type": "subslide"
    }
   },
   "source": [
    "#### A function that can guess data types when reading text files"
   ]
  },
  {
   "cell_type": "code",
   "execution_count": 108,
   "metadata": {
    "slideshow": {
     "slide_type": "fragment"
    }
   },
   "outputs": [
    {
     "name": "stderr",
     "output_type": "stream",
     "text": [
      "/srv/conda/envs/notebook/lib/python3.7/site-packages/ipykernel_launcher.py:1: VisibleDeprecationWarning: Reading unicode strings without specifying the encoding argument is deprecated. Set the encoding, use None for the system default.\n",
      "  \"\"\"Entry point for launching an IPython kernel.\n"
     ]
    }
   ],
   "source": [
    "data = np.genfromtxt(io.StringIO(data_str), delimiter=',', dtype=None)"
   ]
  },
  {
   "cell_type": "code",
   "execution_count": 109,
   "metadata": {
    "slideshow": {
     "slide_type": "fragment"
    }
   },
   "outputs": [
    {
     "data": {
      "text/plain": [
       "array([(1054590,  7, 3, 2, 10, 5, b'10', 5,  4, 4, 4),\n",
       "       (1054593, 10, 5, 5,  3, 6, b'7', 7, 10, 1, 4),\n",
       "       (1056784,  3, 1, 1,  1, 2, b'1', 2,  1, 1, 2),\n",
       "       (1057013,  8, 4, 5,  1, 2, b'?', 7,  3, 1, 4),\n",
       "       (1059552,  1, 1, 1,  1, 2, b'1', 3,  1, 1, 2)],\n",
       "      dtype=[('f0', '<i8'), ('f1', '<i8'), ('f2', '<i8'), ('f3', '<i8'), ('f4', '<i8'), ('f5', '<i8'), ('f6', 'S2'), ('f7', '<i8'), ('f8', '<i8'), ('f9', '<i8'), ('f10', '<i8')])"
      ]
     },
     "execution_count": 109,
     "metadata": {},
     "output_type": "execute_result"
    }
   ],
   "source": [
    "data[20:25]"
   ]
  },
  {
   "cell_type": "markdown",
   "metadata": {
    "slideshow": {
     "slide_type": "subslide"
    }
   },
   "source": [
    "#### You can tell it what represents missing values"
   ]
  },
  {
   "cell_type": "code",
   "execution_count": 110,
   "metadata": {
    "slideshow": {
     "slide_type": "fragment"
    }
   },
   "outputs": [],
   "source": [
    "data = np.genfromtxt(io.StringIO(data_str), delimiter=',', dtype=None, missing_values='?')"
   ]
  },
  {
   "cell_type": "code",
   "execution_count": 111,
   "metadata": {
    "slideshow": {
     "slide_type": "fragment"
    }
   },
   "outputs": [
    {
     "data": {
      "text/plain": [
       "array([[1054590,       7,       3,       2,      10,       5,      10,\n",
       "              5,       4,       4,       4],\n",
       "       [1054593,      10,       5,       5,       3,       6,       7,\n",
       "              7,      10,       1,       4],\n",
       "       [1056784,       3,       1,       1,       1,       2,       1,\n",
       "              2,       1,       1,       2],\n",
       "       [1057013,       8,       4,       5,       1,       2,      -1,\n",
       "              7,       3,       1,       4],\n",
       "       [1059552,       1,       1,       1,       1,       2,       1,\n",
       "              3,       1,       1,       2]])"
      ]
     },
     "execution_count": 111,
     "metadata": {},
     "output_type": "execute_result"
    }
   ],
   "source": [
    "data[20:25]"
   ]
  },
  {
   "cell_type": "markdown",
   "metadata": {
    "slideshow": {
     "slide_type": "subslide"
    }
   },
   "source": [
    "#### You can specify what to put for missing values"
   ]
  },
  {
   "cell_type": "code",
   "execution_count": 112,
   "metadata": {
    "slideshow": {
     "slide_type": "fragment"
    }
   },
   "outputs": [],
   "source": [
    "data = np.genfromtxt(io.StringIO(data_str), delimiter=',', dtype=None, missing_values='?', filling_values=-999)"
   ]
  },
  {
   "cell_type": "code",
   "execution_count": 113,
   "metadata": {
    "slideshow": {
     "slide_type": "fragment"
    }
   },
   "outputs": [
    {
     "data": {
      "text/plain": [
       "array([[1054590,       7,       3,       2,      10,       5,      10,\n",
       "              5,       4,       4,       4],\n",
       "       [1054593,      10,       5,       5,       3,       6,       7,\n",
       "              7,      10,       1,       4],\n",
       "       [1056784,       3,       1,       1,       1,       2,       1,\n",
       "              2,       1,       1,       2],\n",
       "       [1057013,       8,       4,       5,       1,       2,    -999,\n",
       "              7,       3,       1,       4],\n",
       "       [1059552,       1,       1,       1,       1,       2,       1,\n",
       "              3,       1,       1,       2]])"
      ]
     },
     "execution_count": 113,
     "metadata": {},
     "output_type": "execute_result"
    }
   ],
   "source": [
    "data[20:25]"
   ]
  },
  {
   "cell_type": "markdown",
   "metadata": {
    "colab_type": "text",
    "id": "QLP1ZSv67xkn",
    "slideshow": {
     "slide_type": "subslide"
    }
   },
   "source": [
    "**Could be better!**\n",
    "- We can define the field names and their data type here. \n"
   ]
  },
  {
   "cell_type": "markdown",
   "metadata": {
    "slideshow": {
     "slide_type": "slide"
    }
   },
   "source": [
    "### Check for missing values\n",
    "- What did we find about representation of missing data in this case?\n",
    "- We can try to compare the element values to this missing data representative.\n",
    "- `numpy` function `where` lets us check a condition on each element of an array."
   ]
  },
  {
   "cell_type": "code",
   "execution_count": 114,
   "metadata": {
    "slideshow": {
     "slide_type": "fragment"
    }
   },
   "outputs": [
    {
     "data": {
      "text/plain": [
       "(array([ 23,  40, 139, 145, 158, 164, 235, 249, 275, 292, 294, 297, 315,\n",
       "        321, 411, 617]),\n",
       " array([6, 6, 6, 6, 6, 6, 6, 6, 6, 6, 6, 6, 6, 6, 6, 6]))"
      ]
     },
     "execution_count": 114,
     "metadata": {},
     "output_type": "execute_result"
    }
   ],
   "source": [
    "np.where(data == -999)"
   ]
  },
  {
   "cell_type": "markdown",
   "metadata": {
    "slideshow": {
     "slide_type": "slide"
    }
   },
   "source": [
    "### Define column/field names and type"
   ]
  },
  {
   "cell_type": "code",
   "execution_count": 115,
   "metadata": {
    "colab": {},
    "colab_type": "code",
    "id": "lkLfWNZaFdLk",
    "slideshow": {
     "slide_type": "fragment"
    }
   },
   "outputs": [],
   "source": [
    "dtype = [('SCN', 'U8'), ('thickness', int), ('sizeu', int), ('shapeu', int), \n",
    "         ('adhesion', int), ('csize', int), ('bare', int), ('blandchrom', int), \n",
    "         ('normncl', int), ('mitoses', int), ('cclass', int)]"
   ]
  },
  {
   "cell_type": "code",
   "execution_count": 116,
   "metadata": {
    "colab": {},
    "colab_type": "code",
    "id": "ZDGAvvbbmXDf",
    "slideshow": {
     "slide_type": "fragment"
    }
   },
   "outputs": [],
   "source": [
    "data = np.genfromtxt(io.StringIO(data_str), delimiter=',', dtype=dtype, missing_values='?', filling_values=-999)"
   ]
  },
  {
   "cell_type": "code",
   "execution_count": 117,
   "metadata": {
    "colab": {},
    "colab_type": "code",
    "id": "eGy6yIVu9ST6",
    "slideshow": {
     "slide_type": "fragment"
    }
   },
   "outputs": [
    {
     "name": "stdout",
     "output_type": "stream",
     "text": [
      "(699,)\n"
     ]
    }
   ],
   "source": [
    "print(data.shape)"
   ]
  },
  {
   "cell_type": "code",
   "execution_count": 118,
   "metadata": {
    "colab": {},
    "colab_type": "code",
    "id": "wUcFD1Kun2aV",
    "slideshow": {
     "slide_type": "fragment"
    }
   },
   "outputs": [
    {
     "name": "stdout",
     "output_type": "stream",
     "text": [
      "[('1054590',  7, 3, 2, 10, 5,   10, 5,  4, 4, 4)\n",
      " ('1054593', 10, 5, 5,  3, 6,    7, 7, 10, 1, 4)\n",
      " ('1056784',  3, 1, 1,  1, 2,    1, 2,  1, 1, 2)\n",
      " ('1057013',  8, 4, 5,  1, 2, -999, 7,  3, 1, 4)\n",
      " ('1059552',  1, 1, 1,  1, 2,    1, 3,  1, 1, 2)]\n"
     ]
    }
   ],
   "source": [
    "print(data[20: 25])"
   ]
  },
  {
   "cell_type": "markdown",
   "metadata": {
    "colab_type": "text",
    "id": "by6opEv9rvST",
    "slideshow": {
     "slide_type": "subslide"
    }
   },
   "source": [
    "# Be extra careful about how missing values are represented!"
   ]
  },
  {
   "cell_type": "markdown",
   "metadata": {
    "colab_type": "text",
    "id": "Hqfb4KG0FiXm",
    "slideshow": {
     "slide_type": "subslide"
    }
   },
   "source": [
    "### Accessing fields in the data"
   ]
  },
  {
   "cell_type": "code",
   "execution_count": 119,
   "metadata": {
    "colab": {},
    "colab_type": "code",
    "id": "ljz9Xqe9FxBL",
    "slideshow": {
     "slide_type": "fragment"
    }
   },
   "outputs": [
    {
     "data": {
      "text/plain": [
       "array(['1000025', '1002945', '1015425', '1016277', '1017023', '1017122',\n",
       "       '1018099', '1018561', '1033078', '1033078', '1035283', '1036172',\n",
       "       '1041801', '1043999', '1044572', '1047630', '1048672', '1049815',\n",
       "       '1050670', '1050718', '1054590', '1054593', '1056784', '1057013',\n",
       "       '1059552', '1065726', '1066373', '1066979', '1067444', '1070935',\n",
       "       '1070935', '1071760', '1072179', '1074610', '1075123', '1079304',\n",
       "       '1080185', '1081791', '1084584', '1091262', '1096800', '1099510',\n",
       "       '1100524', '1102573', '1103608', '1103722', '1105257', '1105524',\n",
       "       '1106095', '1106829', '1108370', '1108449', '1110102', '1110503',\n",
       "       '1110524', '1111249', '1112209', '1113038', '1113483', '1113906',\n",
       "       '1115282', '1115293', '1116116', '1116132', '1116192', '1116998',\n",
       "       '1117152', '1118039', '1120559', '1121732', '1121919', '1123061',\n",
       "       '1124651', '1125035', '1126417', '1131294', '1132347', '1133041',\n",
       "       '1133136', '1136142', '1137156', '1143978', '1143978', '1147044',\n",
       "       '1147699', '1147748', '1148278', '1148873', '1152331', '1155546',\n",
       "       '1156272', '1156948', '1157734', '1158247', '1160476', '1164066',\n",
       "       '1165297', '1165790', '1165926', '1166630', '1166654', '1167439',\n",
       "       '1167471', '1168359', '1168736', '1169049', '1170419', '1170420',\n",
       "       '1171710', '1171710', '1171795', '1171845', '1172152', '1173216',\n",
       "       '1173235', '1173347', '1173347', '1173509', '1173514', '1173681',\n",
       "       '1174057', '1174057', '1174131', '1174428', '1175937', '1176406',\n",
       "       '1176881', '1177027', '1177399', '1177512', '1178580', '1179818',\n",
       "       '1180194', '1180523', '1180831', '1181356', '1182404', '1182410',\n",
       "       '1183240', '1183246', '1183516', '1183911', '1183983', '1184184',\n",
       "       '1184241', '1184840', '1185609', '1185610', '1187457', '1187805',\n",
       "       '1188472', '1189266', '1189286', '1190394', '1190485', '1192325',\n",
       "       '1193091', '1193210', '1193683', '1196295', '1196915', '1197080',\n",
       "       '1197270', '1197440', '1197510', '1197979', '1197993', '1198128',\n",
       "       '1198641', '1199219', '1199731', '1199983', '1200772', '1200847',\n",
       "       '1200892', '1200952', '1201834', '1201936', '1202125', '1202812',\n",
       "       '1203096', '1204242', '1204898', '1205138', '1205579', '1206089',\n",
       "       '1206695', '1206841', '1207986', '1208301', '1210963', '1211202',\n",
       "       '1212232', '1212251', '1212422', '1212422', '1213375', '1213383',\n",
       "       '1214092', '1214556', '1214966', '1216694', '1216947', '1217051',\n",
       "       '1217264', '1218105', '1218741', '1218860', '1218860', '1219406',\n",
       "       '1219525', '1219859', '1220330', '1221863', '1222047', '1222936',\n",
       "       '1223282', '1223426', '1223793', '1223967', '1224329', '1225799',\n",
       "       '1226012', '1226612', '1227210', '1227244', '1227481', '1228152',\n",
       "       '1228311', '1230175', '1230688', '1231387', '1231706', '1232225',\n",
       "       '1236043', '1241232', '1241559', '1241679', '1242364', '1243256',\n",
       "       '1270479', '1276091', '1277018', '128059', '1285531', '1287775',\n",
       "       '144888', '145447', '167528', '169356', '183913', '191250',\n",
       "       '1017023', '1100524', '1116116', '1168736', '1182404', '1182404',\n",
       "       '1198641', '242970', '255644', '263538', '274137', '303213',\n",
       "       '314428', '1182404', '1198641', '320675', '324427', '385103',\n",
       "       '390840', '411453', '320675', '428903', '431495', '432809',\n",
       "       '434518', '452264', '456282', '476903', '486283', '486662',\n",
       "       '488173', '492268', '508234', '527363', '529329', '535331',\n",
       "       '543558', '555977', '560680', '561477', '563649', '601265',\n",
       "       '606140', '606722', '616240', '61634', '625201', '63375', '635844',\n",
       "       '636130', '640744', '646904', '653777', '659642', '666090',\n",
       "       '666942', '667204', '673637', '684955', '688033', '691628',\n",
       "       '693702', '704097', '704168', '706426', '709287', '718641',\n",
       "       '721482', '730881', '733639', '733639', '733823', '740492',\n",
       "       '743348', '752904', '756136', '760001', '760239', '76389',\n",
       "       '764974', '770066', '785208', '785615', '792744', '797327',\n",
       "       '798429', '704097', '806423', '809912', '810104', '814265',\n",
       "       '814911', '822829', '826923', '830690', '831268', '832226',\n",
       "       '832567', '836433', '837082', '846832', '850831', '855524',\n",
       "       '857774', '859164', '859350', '866325', '873549', '877291',\n",
       "       '877943', '888169', '888523', '896404', '897172', '95719',\n",
       "       '160296', '342245', '428598', '492561', '493452', '493452',\n",
       "       '521441', '560680', '636437', '640712', '654244', '657753',\n",
       "       '685977', '805448', '846423', '1002504', '1022257', '1026122',\n",
       "       '1071084', '1080233', '1114570', '1114570', '1116715', '1131411',\n",
       "       '1151734', '1156017', '1158247', '1158405', '1168278', '1176187',\n",
       "       '1196263', '1196475', '1206314', '1211265', '1213784', '1223003',\n",
       "       '1223306', '1223543', '1229929', '1231853', '1234554', '1236837',\n",
       "       '1237674', '1238021', '1238464', '1238633', '1238915', '1238948',\n",
       "       '1239232', '1239347', '1239967', '1240337', '1253505', '1255384',\n",
       "       '1257200', '1257648', '1257815', '1257938', '1258549', '1258556',\n",
       "       '1266154', '1272039', '1276091', '1276091', '1276091', '1277629',\n",
       "       '1293439', '1293439', '1294562', '1295186', '527337', '558538',\n",
       "       '566509', '608157', '677910', '734111', '734111', '780555',\n",
       "       '827627', '1049837', '1058849', '1182404', '1193544', '1201870',\n",
       "       '1202253', '1227081', '1230994', '1238410', '1246562', '1257470',\n",
       "       '1259008', '1266124', '1267898', '1268313', '1268804', '1276091',\n",
       "       '1280258', '1293966', '1296572', '1298416', '1299596', '1105524',\n",
       "       '1181685', '1211594', '1238777', '1257608', '1269574', '1277145',\n",
       "       '1287282', '1296025', '1296263', '1296593', '1299161', '1301945',\n",
       "       '1302428', '1318169', '474162', '787451', '1002025', '1070522',\n",
       "       '1073960', '1076352', '1084139', '1115293', '1119189', '1133991',\n",
       "       '1142706', '1155967', '1170945', '1181567', '1182404', '1204558',\n",
       "       '1217952', '1224565', '1238186', '1253917', '1265899', '1268766',\n",
       "       '1277268', '1286943', '1295508', '1297327', '1297522', '1298360',\n",
       "       '1299924', '1299994', '1304595', '1306282', '1313325', '1320077',\n",
       "       '1320077', '1320304', '1330439', '333093', '369565', '412300',\n",
       "       '672113', '749653', '769612', '769612', '798429', '807657',\n",
       "       '8233704', '837480', '867392', '869828', '1043068', '1056171',\n",
       "       '1061990', '1113061', '1116192', '1135090', '1145420', '1158157',\n",
       "       '1171578', '1174841', '1184586', '1186936', '1197527', '1222464',\n",
       "       '1240603', '1240603', '1241035', '1287971', '1289391', '1299924',\n",
       "       '1306339', '1313658', '1313982', '1321264', '1321321', '1321348',\n",
       "       '1321931', '1321942', '1321942', '1328331', '1328755', '1331405',\n",
       "       '1331412', '1333104', '1334071', '1343068', '1343374', '1344121',\n",
       "       '142932', '183936', '324382', '378275', '385103', '690557',\n",
       "       '695091', '695219', '824249', '871549', '878358', '1107684',\n",
       "       '1115762', '1217717', '1239420', '1254538', '1261751', '1268275',\n",
       "       '1272166', '1294261', '1295529', '1298484', '1311875', '1315506',\n",
       "       '1320141', '1325309', '1333063', '1333495', '1334659', '1336798',\n",
       "       '1344449', '1350568', '1352663', '188336', '352431', '353098',\n",
       "       '411453', '557583', '636375', '736150', '803531', '822829',\n",
       "       '1016634', '1031608', '1041043', '1042252', '1057067', '1061990',\n",
       "       '1073836', '1083817', '1096352', '1140597', '1149548', '1174009',\n",
       "       '1183596', '1190386', '1190546', '1213273', '1218982', '1225382',\n",
       "       '1235807', '1238777', '1253955', '1257366', '1260659', '1268952',\n",
       "       '1275807', '1277792', '1277792', '1285722', '1288608', '1290203',\n",
       "       '1294413', '1299596', '1303489', '1311033', '1311108', '1315807',\n",
       "       '1318671', '1319609', '1323477', '1324572', '1324681', '1325159',\n",
       "       '1326892', '1330361', '1333877', '1334015', '1334667', '1339781',\n",
       "       '1339781', '13454352', '1345452', '1345593', '1347749', '1347943',\n",
       "       '1348851', '1350319', '1350423', '1352848', '1353092', '1354840',\n",
       "       '1354840', '1355260', '1365075', '1365328', '1368267', '1368273',\n",
       "       '1368882', '1369821', '1371026', '1371920', '466906', '466906',\n",
       "       '534555', '536708', '566346', '603148', '654546', '654546',\n",
       "       '695091', '714039', '763235', '776715', '841769', '888820',\n",
       "       '897471', '897471'], dtype='<U8')"
      ]
     },
     "execution_count": 119,
     "metadata": {},
     "output_type": "execute_result"
    }
   ],
   "source": [
    "data['SCN']"
   ]
  },
  {
   "cell_type": "code",
   "execution_count": 120,
   "metadata": {
    "colab": {},
    "colab_type": "code",
    "id": "FKD5mL_MF5p2",
    "slideshow": {
     "slide_type": "subslide"
    }
   },
   "outputs": [
    {
     "data": {
      "text/plain": [
       "'1015425'"
      ]
     },
     "execution_count": 120,
     "metadata": {},
     "output_type": "execute_result"
    }
   ],
   "source": [
    "data['SCN'][2]"
   ]
  },
  {
   "cell_type": "code",
   "execution_count": 121,
   "metadata": {
    "colab": {},
    "colab_type": "code",
    "id": "80PqJbHrF8SR",
    "slideshow": {
     "slide_type": "fragment"
    }
   },
   "outputs": [
    {
     "data": {
      "text/plain": [
       "'1015425'"
      ]
     },
     "execution_count": 121,
     "metadata": {},
     "output_type": "execute_result"
    }
   ],
   "source": [
    "data[2]['SCN']"
   ]
  },
  {
   "cell_type": "code",
   "execution_count": 122,
   "metadata": {
    "colab": {},
    "colab_type": "code",
    "id": "Ua6H189mF_fy",
    "slideshow": {
     "slide_type": "fragment"
    }
   },
   "outputs": [
    {
     "data": {
      "text/plain": [
       "'1015425'"
      ]
     },
     "execution_count": 122,
     "metadata": {},
     "output_type": "execute_result"
    }
   ],
   "source": [
    "data[2][0]"
   ]
  },
  {
   "cell_type": "code",
   "execution_count": 123,
   "metadata": {
    "colab": {},
    "colab_type": "code",
    "id": "5qbzTwTjGJNB",
    "slideshow": {
     "slide_type": "fragment"
    }
   },
   "outputs": [
    {
     "ename": "IndexError",
     "evalue": "too many indices for array",
     "output_type": "error",
     "traceback": [
      "\u001b[0;31m---------------------------------------------------------------------------\u001b[0m",
      "\u001b[0;31mIndexError\u001b[0m                                Traceback (most recent call last)",
      "\u001b[0;32m<ipython-input-123-902be0fe113e>\u001b[0m in \u001b[0;36m<module>\u001b[0;34m\u001b[0m\n\u001b[0;32m----> 1\u001b[0;31m \u001b[0mdata\u001b[0m\u001b[0;34m[\u001b[0m\u001b[0;36m2\u001b[0m\u001b[0;34m,\u001b[0m \u001b[0;36m0\u001b[0m\u001b[0;34m]\u001b[0m\u001b[0;34m\u001b[0m\u001b[0;34m\u001b[0m\u001b[0m\n\u001b[0m",
      "\u001b[0;31mIndexError\u001b[0m: too many indices for array"
     ]
    }
   ],
   "source": [
    "data[2, 0]"
   ]
  },
  {
   "cell_type": "markdown",
   "metadata": {
    "colab_type": "text",
    "id": "RF3qYZqM_12Z",
    "slideshow": {
     "slide_type": "fragment"
    }
   },
   "source": [
    "**We have a record/structured array with 1 dimension**\n",
    " - Each element is a record / structure"
   ]
  },
  {
   "cell_type": "markdown",
   "metadata": {
    "colab_type": "text",
    "id": "RF3qYZqM_12Z",
    "slideshow": {
     "slide_type": "slide"
    }
   },
   "source": [
    "#### Can we use `numpy.where` to check a condition on each element of a structured array?"
   ]
  },
  {
   "cell_type": "code",
   "execution_count": 125,
   "metadata": {
    "colab": {},
    "colab_type": "code",
    "id": "FPRD5IVCKAeJ",
    "slideshow": {
     "slide_type": "fragment"
    }
   },
   "outputs": [
    {
     "name": "stderr",
     "output_type": "stream",
     "text": [
      "/srv/conda/envs/notebook/lib/python3.7/site-packages/ipykernel_launcher.py:1: FutureWarning: elementwise == comparison failed and returning scalar instead; this will raise an error or perform elementwise comparison in the future.\n",
      "  \"\"\"Entry point for launching an IPython kernel.\n"
     ]
    },
    {
     "data": {
      "text/plain": [
       "(array([], dtype=int64),)"
      ]
     },
     "execution_count": 125,
     "metadata": {},
     "output_type": "execute_result"
    }
   ],
   "source": [
    "np.where(data == -999)"
   ]
  },
  {
   "cell_type": "markdown",
   "metadata": {
    "colab_type": "text",
    "id": "AR08zlK5KNGR",
    "slideshow": {
     "slide_type": "subslide"
    }
   },
   "source": [
    "#### Pause here: Let us try one column at a time.\n",
    " - How can we check the columns one by one?\n",
    " - Hint: loop, `np.dtype`, `np.issubdtype`"
   ]
  },
  {
   "cell_type": "code",
   "execution_count": 126,
   "metadata": {
    "slideshow": {
     "slide_type": "fragment"
    }
   },
   "outputs": [
    {
     "data": {
      "text/plain": [
       "dtype('<U8')"
      ]
     },
     "execution_count": 126,
     "metadata": {},
     "output_type": "execute_result"
    }
   ],
   "source": [
    "data.dtype['SCN']"
   ]
  },
  {
   "cell_type": "code",
   "execution_count": 127,
   "metadata": {
    "slideshow": {
     "slide_type": "fragment"
    }
   },
   "outputs": [
    {
     "data": {
      "text/plain": [
       "dtype('int64')"
      ]
     },
     "execution_count": 127,
     "metadata": {},
     "output_type": "execute_result"
    }
   ],
   "source": [
    "data.dtype['thickness']"
   ]
  },
  {
   "cell_type": "code",
   "execution_count": 128,
   "metadata": {
    "slideshow": {
     "slide_type": "subslide"
    }
   },
   "outputs": [
    {
     "data": {
      "text/plain": [
       "('SCN',\n",
       " 'thickness',\n",
       " 'sizeu',\n",
       " 'shapeu',\n",
       " 'adhesion',\n",
       " 'csize',\n",
       " 'bare',\n",
       " 'blandchrom',\n",
       " 'normncl',\n",
       " 'mitoses',\n",
       " 'cclass')"
      ]
     },
     "execution_count": 128,
     "metadata": {},
     "output_type": "execute_result"
    }
   ],
   "source": [
    "data.dtype.names"
   ]
  },
  {
   "cell_type": "markdown",
   "metadata": {
    "colab_type": "text",
    "id": "Mcvnl6CxKUMK",
    "slideshow": {
     "slide_type": "subslide"
    }
   },
   "source": [
    "#### Pause here: loops in Python\n",
    "- `for loop` for looping over sequence of elements.\n",
    "\n",
    "```python\n",
    "    x = ['alpha', 'bravo', 'charlie', 'delta']\n",
    "    for ii in x:\n",
    "        print(ii)\n",
    "    \n",
    "```  "
   ]
  },
  {
   "cell_type": "markdown",
   "metadata": {
    "colab_type": "text",
    "id": "Mcvnl6CxKUMK",
    "slideshow": {
     "slide_type": "fragment"
    }
   },
   "source": [
    "- `while loop` for conditional looping.\n",
    "  ```python\n",
    "x = 0\n",
    "while x < 10:\n",
    "    print(x)\n",
    "    x += 1\n",
    "  \n",
    "  ```"
   ]
  },
  {
   "cell_type": "code",
   "execution_count": 129,
   "metadata": {
    "colab": {},
    "colab_type": "code",
    "id": "6fuw4QyoobSc",
    "slideshow": {
     "slide_type": "subslide"
    }
   },
   "outputs": [
    {
     "name": "stdout",
     "output_type": "stream",
     "text": [
      "Column: SCN\n",
      "Column: thickness\n",
      "Column: sizeu\n",
      "Column: shapeu\n",
      "Column: adhesion\n",
      "Column: csize\n",
      "Column: bare\n",
      "        missing data in rows: (array([ 23,  40, 139, 145, 158, 164, 235, 249, 275, 292, 294, 297, 315,\n",
      "       321, 411, 617]),)\n",
      "Column: blandchrom\n",
      "Column: normncl\n",
      "Column: mitoses\n",
      "Column: cclass\n"
     ]
    }
   ],
   "source": [
    "for name in data.dtype.names:\n",
    "    print(f'Column: {name}')\n",
    "    if np.issubdtype(data.dtype[name], np.number):\n",
    "        missing = np.where(data[name] < 0)\n",
    "        if missing[0].shape[0] > 0:\n",
    "            print(f'        missing data in rows: {missing}')"
   ]
  },
  {
   "cell_type": "markdown",
   "metadata": {
    "slideshow": {
     "slide_type": "slide"
    }
   },
   "source": [
    "## Selection"
   ]
  },
  {
   "cell_type": "markdown",
   "metadata": {
    "slideshow": {
     "slide_type": "fragment"
    }
   },
   "source": [
    "- You can pass an array or list of indices to select rows"
   ]
  },
  {
   "cell_type": "code",
   "execution_count": 130,
   "metadata": {
    "slideshow": {
     "slide_type": "fragment"
    }
   },
   "outputs": [
    {
     "data": {
      "text/plain": [
       "array([('1002945',  5, 4, 4, 5,  7, 10, 3,  2, 1, 2),\n",
       "       ('1166654', 10, 3, 5, 1, 10,  5, 3, 10, 2, 4),\n",
       "       ('1224565',  6, 1, 1, 1,  2,  1, 3,  1, 1, 2)],\n",
       "      dtype=[('SCN', '<U8'), ('thickness', '<i8'), ('sizeu', '<i8'), ('shapeu', '<i8'), ('adhesion', '<i8'), ('csize', '<i8'), ('bare', '<i8'), ('blandchrom', '<i8'), ('normncl', '<i8'), ('mitoses', '<i8'), ('cclass', '<i8')])"
      ]
     },
     "execution_count": 130,
     "metadata": {},
     "output_type": "execute_result"
    }
   ],
   "source": [
    "data[[1, 100, 500]]"
   ]
  },
  {
   "cell_type": "markdown",
   "metadata": {
    "slideshow": {
     "slide_type": "subslide"
    }
   },
   "source": [
    "- You can select rows by condition"
   ]
  },
  {
   "cell_type": "code",
   "execution_count": 131,
   "metadata": {
    "slideshow": {
     "slide_type": "fragment"
    }
   },
   "outputs": [
    {
     "data": {
      "text/plain": [
       "array([('1000025', 5, 1, 1,  1,  2,    1, 3, 1, 1, 2),\n",
       "       ('1002945', 5, 4, 4,  5,  7,   10, 3, 2, 1, 2),\n",
       "       ('1015425', 3, 1, 1,  1,  2,    2, 3, 1, 1, 2),\n",
       "       ('1016277', 6, 8, 8,  1,  3,    4, 3, 7, 1, 2),\n",
       "       ('1017023', 4, 1, 1,  3,  2,    1, 3, 1, 1, 2),\n",
       "       ('1018099', 1, 1, 1,  1,  2,   10, 3, 1, 1, 2),\n",
       "       ('1018561', 2, 1, 2,  1,  2,    1, 3, 1, 1, 2),\n",
       "       ('1033078', 2, 1, 1,  1,  2,    1, 1, 1, 5, 2),\n",
       "       ('1033078', 4, 2, 1,  1,  2,    1, 2, 1, 1, 2),\n",
       "       ('1035283', 1, 1, 1,  1,  1,    1, 3, 1, 1, 2),\n",
       "       ('1036172', 2, 1, 1,  1,  2,    1, 2, 1, 1, 2),\n",
       "       ('1043999', 1, 1, 1,  1,  2,    3, 3, 1, 1, 2),\n",
       "       ('1048672', 4, 1, 1,  1,  2,    1, 2, 1, 1, 2),\n",
       "       ('1049815', 4, 1, 1,  1,  2,    1, 3, 1, 1, 2),\n",
       "       ('1050718', 6, 1, 1,  1,  2,    1, 3, 1, 1, 2),\n",
       "       ('1056784', 3, 1, 1,  1,  2,    1, 2, 1, 1, 2),\n",
       "       ('1059552', 1, 1, 1,  1,  2,    1, 3, 1, 1, 2),\n",
       "       ('1066373', 3, 2, 1,  1,  1,    1, 2, 1, 1, 2),\n",
       "       ('1066979', 5, 1, 1,  1,  2,    1, 2, 1, 1, 2),\n",
       "       ('1067444', 2, 1, 1,  1,  2,    1, 2, 1, 1, 2),\n",
       "       ('1070935', 1, 1, 3,  1,  2,    1, 1, 1, 1, 2),\n",
       "       ('1070935', 3, 1, 1,  1,  1,    1, 2, 1, 1, 2),\n",
       "       ('1071760', 2, 1, 1,  1,  2,    1, 3, 1, 1, 2),\n",
       "       ('1074610', 2, 1, 1,  2,  2,    1, 3, 1, 1, 2),\n",
       "       ('1075123', 3, 1, 2,  1,  2,    1, 2, 1, 1, 2),\n",
       "       ('1079304', 2, 1, 1,  1,  2,    1, 2, 1, 1, 2),\n",
       "       ('1081791', 6, 2, 1,  1,  1,    1, 7, 1, 1, 2),\n",
       "       ('1096800', 6, 6, 6,  9,  6, -999, 7, 8, 1, 2),\n",
       "       ('1103722', 1, 1, 1,  1,  2,    1, 2, 1, 2, 2),\n",
       "       ('1105524', 1, 1, 1,  1,  2,    1, 2, 1, 1, 2),\n",
       "       ('1106095', 4, 1, 1,  3,  2,    1, 3, 1, 1, 2),\n",
       "       ('1115293', 1, 1, 1,  1,  2,    2, 2, 1, 1, 2),\n",
       "       ('1116192', 1, 1, 1,  1,  2,    1, 2, 1, 1, 2),\n",
       "       ('1117152', 4, 1, 1,  1,  2,    1, 3, 1, 1, 2),\n",
       "       ('1121732', 1, 1, 1,  1,  2,    1, 3, 2, 1, 2),\n",
       "       ('1121919', 5, 1, 3,  1,  2,    1, 2, 1, 1, 2),\n",
       "       ('1124651', 1, 3, 3,  2,  2,    1, 7, 2, 1, 2),\n",
       "       ('1131294', 1, 1, 2,  1,  2,    2, 4, 2, 1, 2),\n",
       "       ('1132347', 1, 1, 4,  1,  2,    1, 2, 1, 1, 2),\n",
       "       ('1133041', 5, 3, 1,  2,  2,    1, 2, 1, 1, 2),\n",
       "       ('1133136', 3, 1, 1,  1,  2,    3, 3, 1, 1, 2),\n",
       "       ('1136142', 2, 1, 1,  1,  3,    1, 2, 1, 1, 2),\n",
       "       ('1137156', 2, 2, 2,  1,  1,    1, 7, 1, 1, 2),\n",
       "       ('1143978', 4, 1, 1,  2,  2,    1, 2, 1, 1, 2),\n",
       "       ('1143978', 5, 2, 1,  1,  2,    1, 3, 1, 1, 2),\n",
       "       ('1147044', 3, 1, 1,  1,  2,    2, 7, 1, 1, 2),\n",
       "       ('1152331', 4, 1, 1,  1,  2,    1, 3, 1, 1, 2),\n",
       "       ('1155546', 2, 1, 1,  2,  3,    1, 2, 1, 1, 2),\n",
       "       ('1156272', 1, 1, 1,  1,  2,    1, 3, 1, 1, 2),\n",
       "       ('1156948', 3, 1, 1,  2,  2,    1, 1, 1, 1, 2),\n",
       "       ('1157734', 4, 1, 1,  1,  2,    1, 3, 1, 1, 2),\n",
       "       ('1158247', 1, 1, 1,  1,  2,    1, 2, 1, 1, 2),\n",
       "       ('1160476', 2, 1, 1,  1,  2,    1, 3, 1, 1, 2),\n",
       "       ('1164066', 1, 1, 1,  1,  2,    1, 3, 1, 1, 2),\n",
       "       ('1165297', 2, 1, 1,  2,  2,    1, 1, 1, 1, 2),\n",
       "       ('1165790', 5, 1, 1,  1,  2,    1, 3, 1, 1, 2),\n",
       "       ('1167471', 4, 1, 2,  1,  2,    1, 3, 1, 1, 2),\n",
       "       ('1171710', 1, 1, 1,  1,  2,    1, 2, 3, 1, 2),\n",
       "       ('1171795', 1, 3, 1,  2,  2,    2, 5, 3, 2, 2),\n",
       "       ('1173235', 3, 3, 2,  1,  2,    3, 3, 1, 1, 2),\n",
       "       ('1173347', 1, 1, 1,  1,  2,    5, 1, 1, 1, 2),\n",
       "       ('1173347', 8, 3, 3,  1,  2,    2, 3, 2, 1, 2),\n",
       "       ('1173514', 1, 1, 1,  1,  4,    3, 1, 1, 1, 2),\n",
       "       ('1173681', 3, 2, 1,  1,  2,    2, 3, 1, 1, 2),\n",
       "       ('1174057', 1, 1, 2,  2,  2,    1, 3, 1, 1, 2),\n",
       "       ('1174057', 4, 2, 1,  1,  2,    2, 3, 1, 1, 2),\n",
       "       ('1176406', 1, 1, 1,  1,  2,    1, 2, 1, 1, 2),\n",
       "       ('1177027', 3, 1, 1,  1,  2,    1, 3, 1, 1, 2),\n",
       "       ('1177512', 1, 1, 1,  1, 10,    1, 1, 1, 1, 2),\n",
       "       ('1178580', 5, 1, 3,  1,  2,    1, 2, 1, 1, 2),\n",
       "       ('1179818', 2, 1, 1,  1,  2,    1, 3, 1, 1, 2),\n",
       "       ('1180523', 3, 1, 1,  1,  2,    1, 2, 2, 1, 2),\n",
       "       ('1180831', 3, 1, 1,  1,  3,    1, 2, 1, 1, 2),\n",
       "       ('1181356', 5, 1, 1,  1,  2,    2, 3, 3, 1, 2),\n",
       "       ('1182404', 4, 1, 1,  1,  2,    1, 2, 1, 1, 2),\n",
       "       ('1182410', 3, 1, 1,  1,  2,    1, 1, 1, 1, 2),\n",
       "       ('1183240', 4, 1, 2,  1,  2,    1, 2, 1, 1, 2),\n",
       "       ('1183246', 1, 1, 1,  1,  1, -999, 2, 1, 1, 2),\n",
       "       ('1183516', 3, 1, 1,  1,  2,    1, 1, 1, 1, 2),\n",
       "       ('1183911', 2, 1, 1,  1,  2,    1, 1, 1, 1, 2),\n",
       "       ('1184184', 1, 1, 1,  1,  2,    5, 1, 1, 1, 2),\n",
       "       ('1184241', 2, 1, 1,  1,  2,    1, 2, 1, 1, 2),\n",
       "       ('1184840', 1, 1, 3,  1,  2, -999, 2, 1, 1, 2),\n",
       "       ('1185610', 1, 1, 1,  1,  3,    2, 2, 1, 1, 2),\n",
       "       ('1187457', 3, 1, 1,  3,  8,    1, 5, 8, 1, 2),\n",
       "       ('1188472', 1, 1, 1,  1,  1,    1, 3, 1, 1, 2),\n",
       "       ('1190394', 4, 1, 1,  1,  2,    3, 1, 1, 1, 2),\n",
       "       ('1190485', 1, 1, 1,  1,  2,    1, 1, 1, 1, 2),\n",
       "       ('1193091', 1, 2, 2,  1,  2,    1, 2, 1, 1, 2),\n",
       "       ('1193210', 2, 1, 1,  1,  2,    1, 3, 1, 1, 2),\n",
       "       ('1193683', 1, 1, 2,  1,  3, -999, 1, 1, 1, 2),\n",
       "       ('1197080', 4, 1, 1,  1,  2,    1, 3, 2, 1, 2),\n",
       "       ('1197270', 3, 1, 1,  1,  2,    1, 3, 1, 1, 2),\n",
       "       ('1197440', 1, 1, 1,  2,  1,    3, 1, 1, 7, 2),\n",
       "       ('1197510', 5, 1, 1,  1,  2, -999, 3, 1, 1, 2),\n",
       "       ('1197979', 4, 1, 1,  1,  2,    2, 3, 2, 1, 2),\n",
       "       ('1198641', 3, 1, 1,  1,  2,    1, 3, 1, 1, 2),\n",
       "       ('1199219', 1, 1, 1,  2,  1,    1, 1, 1, 1, 2),\n",
       "       ('1199731', 3, 1, 1,  1,  2,    1, 1, 1, 1, 2),\n",
       "       ('1199983', 1, 1, 1,  1,  2,    1, 3, 1, 1, 2),\n",
       "       ('1200772', 1, 1, 1,  1,  2,    1, 2, 1, 1, 2),\n",
       "       ('1201834', 2, 1, 1,  1,  2,    1, 3, 1, 1, 2),\n",
       "       ('1202125', 4, 1, 1,  1,  2,    1, 3, 1, 1, 2),\n",
       "       ('1203096', 1, 1, 1,  1,  1,    1, 3, 1, 1, 2),\n",
       "       ('1204242', 1, 1, 1,  1,  2,    1, 1, 1, 1, 2),\n",
       "       ('1204898', 6, 1, 1,  1,  2,    1, 3, 1, 1, 2),\n",
       "       ('1206089', 2, 1, 1,  1,  1,    1, 3, 1, 1, 2),\n",
       "       ('1208301', 1, 2, 3,  1,  2,    1, 3, 1, 1, 2),\n",
       "       ('1212232', 5, 1, 1,  1,  2,    1, 2, 1, 1, 2),\n",
       "       ('1212251', 1, 1, 1,  1,  2,    1, 3, 1, 1, 2),\n",
       "       ('1212422', 3, 1, 1,  1,  2,    1, 3, 1, 1, 2),\n",
       "       ('1212422', 4, 1, 1,  1,  2,    1, 3, 1, 1, 2),\n",
       "       ('1213375', 8, 4, 4,  5,  4,    7, 7, 8, 2, 2),\n",
       "       ('1213383', 5, 1, 1,  4,  2,    1, 3, 1, 1, 2),\n",
       "       ('1214092', 1, 1, 1,  1,  2,    1, 1, 1, 1, 2),\n",
       "       ('1214556', 3, 1, 1,  1,  2,    1, 2, 1, 1, 2),\n",
       "       ('1216947', 1, 1, 1,  1,  2,    1, 3, 1, 1, 2),\n",
       "       ('1217051', 5, 1, 1,  1,  2,    1, 3, 1, 1, 2),\n",
       "       ('1217264', 1, 1, 1,  1,  2,    1, 3, 1, 1, 2),\n",
       "       ('1218860', 1, 1, 1,  1,  1,    1, 3, 1, 1, 2),\n",
       "       ('1218860', 1, 1, 1,  1,  1,    1, 3, 1, 1, 2),\n",
       "       ('1219406', 5, 1, 1,  1,  1,    1, 3, 1, 1, 2),\n",
       "       ('1220330', 1, 1, 1,  1,  2,    1, 3, 1, 1, 2),\n",
       "       ('1223282', 1, 1, 1,  1,  2,    1, 2, 1, 1, 2),\n",
       "       ('1223426', 1, 1, 1,  1,  2,    1, 3, 1, 1, 2),\n",
       "       ('1223967', 6, 1, 3,  1,  2,    1, 3, 1, 1, 2),\n",
       "       ('1224329', 1, 1, 1,  2,  2,    1, 3, 1, 1, 2),\n",
       "       ('1227244', 1, 1, 1,  1,  2,    1, 2, 1, 1, 2),\n",
       "       ('1228311', 1, 1, 1,  1,  1,    1, 3, 1, 1, 2),\n",
       "       ('1231706', 8, 4, 6,  3,  3,    1, 4, 3, 1, 2),\n",
       "       ('1236043', 3, 3, 2,  1,  3,    1, 3, 6, 1, 2),\n",
       "       ('1241232', 3, 1, 4,  1,  2, -999, 3, 1, 1, 2),\n",
       "       ('1270479', 5, 1, 3,  3,  2,    2, 2, 3, 1, 2),\n",
       "       ('1276091', 3, 1, 1,  3,  1,    1, 3, 1, 1, 2),\n",
       "       ('1277018', 2, 1, 1,  1,  2,    1, 3, 1, 1, 2),\n",
       "       ('128059', 1, 1, 1,  1,  2,    5, 5, 1, 1, 2),\n",
       "       ('1285531', 1, 1, 1,  1,  2,    1, 3, 1, 1, 2),\n",
       "       ('1287775', 5, 1, 1,  2,  2,    2, 3, 1, 1, 2),\n",
       "       ('167528', 4, 1, 1,  1,  2,    1, 3, 6, 1, 2),\n",
       "       ('169356', 3, 1, 1,  1,  2, -999, 3, 1, 1, 2),\n",
       "       ('183913', 1, 2, 2,  1,  2,    1, 1, 1, 1, 2),\n",
       "       ('1017023', 6, 3, 3,  5,  3,   10, 3, 5, 3, 2),\n",
       "       ('1182404', 3, 1, 1,  1,  2,    1, 1, 1, 1, 2),\n",
       "       ('1182404', 3, 1, 1,  1,  2,    1, 2, 1, 1, 2),\n",
       "       ('1198641', 3, 1, 1,  1,  2,    1, 3, 1, 1, 2),\n",
       "       ('242970', 5, 7, 7,  1,  5,    8, 3, 4, 1, 2),\n",
       "       ('1182404', 5, 1, 4,  1,  2,    1, 3, 2, 1, 2),\n",
       "       ('385103', 1, 1, 1,  1,  2,    1, 3, 1, 1, 2),\n",
       "       ('411453', 5, 1, 1,  1,  2,    1, 3, 1, 1, 2),\n",
       "       ('431495', 3, 1, 1,  1,  2,    1, 3, 2, 1, 2),\n",
       "       ('432809', 3, 1, 3,  1,  2, -999, 2, 1, 1, 2),\n",
       "       ('434518', 3, 1, 1,  1,  2,    1, 2, 1, 1, 2),\n",
       "       ('452264', 1, 1, 1,  1,  2,    1, 2, 1, 1, 2),\n",
       "       ('456282', 1, 1, 1,  1,  2,    1, 3, 1, 1, 2),\n",
       "       ('486283', 3, 1, 1,  1,  2,    1, 3, 1, 1, 2),\n",
       "       ('486662', 2, 1, 1,  2,  2,    1, 3, 1, 1, 2),\n",
       "       ('535331', 3, 1, 1,  1,  3,    1, 2, 1, 1, 2),\n",
       "       ('560680', 1, 1, 1,  1,  2,    1, 1, 1, 1, 2),\n",
       "       ('561477', 1, 1, 1,  1,  2,    1, 3, 1, 1, 2),\n",
       "       ('606140', 1, 1, 1,  1,  2, -999, 2, 1, 1, 2),\n",
       "       ('616240', 5, 3, 4,  3,  4,    5, 4, 7, 1, 2),\n",
       "       ('61634', 5, 4, 3,  1,  2, -999, 2, 3, 1, 2),\n",
       "       ('625201', 8, 2, 1,  1,  5,    1, 1, 1, 1, 2),\n",
       "       ('636130', 1, 1, 1,  1,  2,    1, 3, 1, 1, 2),\n",
       "       ('646904', 1, 1, 1,  1,  2,    1, 3, 1, 1, 2),\n",
       "       ('666090', 1, 1, 1,  1,  2,    1, 3, 1, 1, 2),\n",
       "       ('666942', 1, 1, 1,  1,  2,    1, 3, 1, 1, 2),\n",
       "       ('673637', 3, 1, 1,  1,  2,    5, 5, 1, 1, 2),\n",
       "       ('684955', 2, 1, 1,  1,  3,    1, 2, 1, 1, 2),\n",
       "       ('688033', 1, 1, 1,  1,  2,    1, 1, 1, 1, 2),\n",
       "       ('693702', 1, 1, 1,  1,  2,    1, 1, 1, 1, 2),\n",
       "       ('704097', 1, 1, 1,  1,  1,    1, 2, 1, 1, 2),\n",
       "       ('704168', 4, 6, 5,  6,  7, -999, 4, 9, 1, 2),\n",
       "       ('718641', 1, 1, 1,  1,  5,    1, 3, 1, 1, 2),\n",
       "       ('721482', 4, 4, 4,  4,  6,    5, 7, 3, 1, 2),\n",
       "       ('733639', 3, 1, 1,  1,  2, -999, 3, 1, 1, 2),\n",
       "       ('733639', 3, 1, 1,  1,  2,    1, 3, 1, 1, 2),\n",
       "       ('740492', 1, 1, 1,  1,  2,    1, 3, 1, 1, 2),\n",
       "       ('743348', 3, 2, 2,  1,  2,    1, 2, 3, 1, 2),\n",
       "       ('756136', 1, 1, 1,  1,  2,    1, 2, 1, 1, 2),\n",
       "       ('764974', 5, 1, 1,  1,  2,    1, 3, 1, 2, 2),\n",
       "       ('770066', 5, 2, 2,  2,  2,    1, 2, 2, 1, 2),\n",
       "       ('792744', 1, 1, 1,  1,  2,    1, 1, 1, 1, 2),\n",
       "       ('798429', 1, 1, 1,  1,  2,    1, 3, 1, 1, 2),\n",
       "       ('704097', 1, 1, 1,  1,  1,    1, 2, 1, 1, 2),\n",
       "       ('810104', 1, 1, 1,  1,  2,    1, 3, 1, 1, 2),\n",
       "       ('814265', 2, 1, 1,  1,  2,    1, 1, 1, 1, 2),\n",
       "       ('814911', 1, 1, 1,  1,  2,    1, 1, 1, 1, 2),\n",
       "       ('826923', 1, 1, 1,  1,  2,    1, 1, 1, 1, 2),\n",
       "       ('830690', 5, 2, 2,  2,  3,    1, 1, 3, 1, 2),\n",
       "       ('831268', 1, 1, 1,  1,  1,    1, 1, 3, 1, 2),\n",
       "       ('836433', 5, 1, 1,  3,  2,    1, 1, 1, 1, 2),\n",
       "       ('837082', 2, 1, 1,  1,  2,    1, 3, 1, 1, 2),\n",
       "       ('846832', 3, 4, 5,  3,  7,    3, 4, 6, 1, 2),\n",
       "       ('855524', 1, 1, 1,  1,  2,    1, 2, 1, 1, 2),\n",
       "       ('857774', 4, 1, 1,  1,  3,    1, 2, 2, 1, 2),\n",
       "       ('888169', 3, 2, 2,  1,  4,    3, 2, 1, 1, 2),\n",
       "       ('888523', 4, 4, 4,  2,  2,    3, 2, 1, 1, 2),\n",
       "       ('896404', 2, 1, 1,  1,  2,    1, 3, 1, 1, 2),\n",
       "       ('897172', 2, 1, 1,  1,  2,    1, 2, 1, 1, 2),\n",
       "       ('342245', 1, 1, 3,  1,  2,    1, 1, 1, 1, 2),\n",
       "       ('428598', 1, 1, 3,  1,  1,    1, 2, 1, 1, 2),\n",
       "       ('492561', 4, 3, 2,  1,  3,    1, 2, 1, 1, 2),\n",
       "       ('493452', 1, 1, 3,  1,  2,    1, 1, 1, 1, 2),\n",
       "       ('493452', 4, 1, 2,  1,  2,    1, 2, 1, 1, 2),\n",
       "       ('521441', 5, 1, 1,  2,  2,    1, 2, 1, 1, 2),\n",
       "       ('560680', 3, 1, 2,  1,  2,    1, 2, 1, 1, 2),\n",
       "       ('636437', 1, 1, 1,  1,  2,    1, 1, 1, 1, 2),\n",
       "       ('640712', 1, 1, 1,  1,  2,    1, 2, 1, 1, 2),\n",
       "       ('654244', 1, 1, 1,  1,  1,    1, 2, 1, 1, 2),\n",
       "       ('657753', 3, 1, 1,  4,  3,    1, 2, 2, 1, 2),\n",
       "       ('685977', 5, 3, 4,  1,  4,    1, 3, 1, 1, 2),\n",
       "       ('805448', 1, 1, 1,  1,  2,    1, 1, 1, 1, 2),\n",
       "       ('1002504', 3, 2, 2,  2,  2,    1, 3, 2, 1, 2),\n",
       "       ('1022257', 2, 1, 1,  1,  2,    1, 1, 1, 1, 2),\n",
       "       ('1026122', 2, 1, 1,  1,  2,    1, 1, 1, 1, 2),\n",
       "       ('1071084', 3, 3, 2,  2,  3,    1, 1, 2, 3, 2),\n",
       "       ('1114570', 5, 3, 3,  2,  3,    1, 3, 1, 1, 2),\n",
       "       ('1114570', 2, 1, 1,  1,  2,    1, 2, 2, 1, 2),\n",
       "       ('1116715', 5, 1, 1,  1,  3,    2, 2, 2, 1, 2),\n",
       "       ('1131411', 1, 1, 1,  2,  2,    1, 2, 1, 1, 2),\n",
       "       ('1156017', 3, 1, 1,  1,  2,    1, 2, 1, 1, 2),\n",
       "       ('1158247', 1, 1, 1,  1,  1,    1, 1, 1, 1, 2),\n",
       "       ('1158405', 1, 2, 3,  1,  2,    1, 2, 1, 1, 2),\n",
       "       ('1168278', 3, 1, 1,  1,  2,    1, 2, 1, 1, 2),\n",
       "       ('1176187', 3, 1, 1,  1,  2,    1, 3, 1, 1, 2),\n",
       "       ('1196263', 4, 1, 1,  1,  2,    1, 1, 1, 1, 2),\n",
       "       ('1196475', 3, 2, 1,  1,  2,    1, 2, 2, 1, 2),\n",
       "       ('1206314', 1, 2, 3,  1,  2,    1, 1, 1, 1, 2),\n",
       "       ('1213784', 3, 1, 1,  1,  2,    1, 1, 1, 1, 2),\n",
       "       ('1223003', 5, 3, 3,  1,  2,    1, 2, 1, 1, 2),\n",
       "       ('1223306', 3, 1, 1,  1,  2,    4, 1, 1, 1, 2),\n",
       "       ('1223543', 1, 2, 1,  3,  2,    1, 1, 2, 1, 2),\n",
       "       ('1229929', 1, 1, 1,  1,  2,    1, 2, 1, 1, 2),\n",
       "       ('1231853', 4, 2, 2,  1,  2,    1, 2, 1, 1, 2),\n",
       "       ('1234554', 1, 1, 1,  1,  2,    1, 2, 1, 1, 2),\n",
       "       ('1236837', 2, 3, 2,  2,  2,    2, 3, 1, 1, 2),\n",
       "       ('1237674', 3, 1, 2,  1,  2,    1, 2, 1, 1, 2),\n",
       "       ('1238021', 1, 1, 1,  1,  2,    1, 2, 1, 1, 2),\n",
       "       ('1238464', 1, 1, 1,  1,  1, -999, 2, 1, 1, 2),\n",
       "       ('1238915', 5, 1, 2,  1,  2,    1, 3, 1, 1, 2),\n",
       "       ('1239232', 3, 3, 2,  6,  3,    3, 3, 5, 1, 2),\n",
       "       ('1239967', 1, 1, 1,  1,  2,    1, 2, 1, 1, 2),\n",
       "       ('1240337', 5, 2, 2,  2,  2,    2, 3, 2, 2, 2),\n",
       "       ('1253505', 2, 3, 1,  1,  5,    1, 1, 1, 1, 2),\n",
       "       ('1255384', 3, 2, 2,  3,  2,    3, 3, 1, 1, 2),\n",
       "       ('1257648', 4, 3, 3,  1,  2,    1, 3, 3, 1, 2),\n",
       "       ('1257815', 5, 1, 3,  1,  2,    1, 2, 1, 1, 2),\n",
       "       ('1257938', 3, 1, 1,  1,  2,    1, 1, 1, 1, 2),\n",
       "       ('1258556', 5, 3, 6,  1,  2,    1, 1, 1, 1, 2),\n",
       "       ('1272039', 1, 1, 1,  1,  2,    1, 2, 1, 1, 2),\n",
       "       ('1276091', 2, 1, 1,  1,  2,    1, 2, 1, 1, 2),\n",
       "       ('1276091', 1, 3, 1,  1,  2,    1, 2, 2, 1, 2),\n",
       "       ('1276091', 5, 1, 1,  3,  4,    1, 3, 2, 1, 2),\n",
       "       ('1277629', 5, 1, 1,  1,  2,    1, 2, 2, 1, 2),\n",
       "       ('1293439', 3, 2, 2,  3,  2,    1, 1, 1, 1, 2),\n",
       "       ('1293439', 6, 9, 7,  5,  5,    8, 4, 2, 1, 2),\n",
       "       ('527337', 4, 1, 1,  1,  2,    1, 1, 1, 1, 2),\n",
       "       ('558538', 4, 1, 3,  3,  2,    1, 1, 1, 1, 2),\n",
       "       ('566509', 5, 1, 1,  1,  2,    1, 1, 1, 1, 2),\n",
       "       ('677910', 5, 2, 2,  4,  2,    4, 1, 1, 1, 2),\n",
       "       ('734111', 1, 1, 1,  3,  2,    3, 1, 1, 1, 2),\n",
       "       ('734111', 1, 1, 1,  1,  2,    2, 1, 1, 1, 2),\n",
       "       ('780555', 5, 1, 1,  6,  3,    1, 2, 1, 1, 2),\n",
       "       ('827627', 2, 1, 1,  1,  2,    1, 1, 1, 1, 2),\n",
       "       ('1049837', 1, 1, 1,  1,  2,    1, 1, 1, 1, 2),\n",
       "       ('1058849', 5, 1, 1,  1,  2,    1, 1, 1, 1, 2),\n",
       "       ('1182404', 1, 1, 1,  1,  1,    1, 1, 1, 1, 2),\n",
       "       ('1201870', 4, 1, 1,  3,  1,    1, 2, 1, 1, 2),\n",
       "       ('1202253', 5, 1, 1,  1,  2,    1, 1, 1, 1, 2),\n",
       "       ('1227081', 3, 1, 1,  3,  2,    1, 1, 1, 1, 2),\n",
       "       ('1238410', 2, 3, 1,  1,  3,    1, 1, 1, 1, 2),\n",
       "       ('1266124', 5, 1, 2,  1,  2,    1, 1, 1, 1, 2),\n",
       "       ('1267898', 5, 1, 3,  1,  2,    1, 1, 1, 1, 2),\n",
       "       ('1268313', 5, 1, 1,  3,  2,    1, 1, 1, 1, 2),\n",
       "       ('1268804', 3, 1, 1,  1,  2,    5, 1, 1, 1, 2),\n",
       "       ('1276091', 6, 1, 1,  3,  2,    1, 1, 1, 1, 2),\n",
       "       ('1280258', 4, 1, 1,  1,  2,    1, 1, 2, 1, 2),\n",
       "       ('1293966', 4, 1, 1,  1,  2,    1, 1, 1, 1, 2),\n",
       "       ('1105524', 4, 1, 1,  1,  2,    1, 1, 1, 1, 2),\n",
       "       ('1181685', 1, 1, 2,  1,  2,    1, 2, 1, 1, 2),\n",
       "       ('1211594', 3, 1, 1,  1,  1,    1, 2, 1, 1, 2),\n",
       "       ('1238777', 6, 1, 1,  3,  2,    1, 1, 1, 1, 2),\n",
       "       ('1257608', 6, 1, 1,  1,  1,    1, 1, 1, 1, 2),\n",
       "       ('1269574', 4, 1, 1,  1,  2,    1, 1, 1, 1, 2),\n",
       "       ('1277145', 5, 1, 1,  1,  2,    1, 1, 1, 1, 2),\n",
       "       ('1287282', 3, 1, 1,  1,  2,    1, 1, 1, 1, 2),\n",
       "       ('1296025', 4, 1, 2,  1,  2,    1, 1, 1, 1, 2),\n",
       "       ('1296263', 4, 1, 1,  1,  2,    1, 1, 1, 1, 2),\n",
       "       ('1296593', 5, 2, 1,  1,  2,    1, 1, 1, 1, 2),\n",
       "       ('1301945', 5, 1, 1,  1,  1,    1, 1, 1, 1, 2),\n",
       "       ('1302428', 5, 3, 2,  4,  2,    1, 1, 1, 1, 2),\n",
       "       ('787451', 5, 1, 2,  1,  2,    1, 1, 1, 1, 2),\n",
       "       ('1002025', 1, 1, 1,  3,  1,    3, 1, 1, 1, 2),\n",
       "       ('1070522', 3, 1, 1,  1,  1,    1, 2, 1, 1, 2),\n",
       "       ('1115293', 1, 1, 1,  1,  2,    1, 1, 1, 1, 2),\n",
       "       ('1133991', 4, 1, 1,  1,  1,    1, 2, 1, 1, 2),\n",
       "       ('1155967', 5, 1, 2, 10,  4,    5, 2, 1, 1, 2),\n",
       "       ('1170945', 3, 1, 1,  1,  1,    1, 2, 1, 1, 2),\n",
       "       ('1181567', 1, 1, 1,  1,  1,    1, 1, 1, 1, 2),\n",
       "       ('1182404', 4, 2, 1,  1,  2,    1, 1, 1, 1, 2),\n",
       "       ('1204558', 4, 1, 1,  1,  2,    1, 2, 1, 1, 2),\n",
       "       ('1217952', 4, 1, 1,  1,  2,    1, 2, 1, 1, 2),\n",
       "       ('1224565', 6, 1, 1,  1,  2,    1, 3, 1, 1, 2),\n",
       "       ('1238186', 4, 1, 1,  1,  2,    1, 2, 1, 1, 2),\n",
       "       ('1253917', 4, 1, 1,  2,  2,    1, 2, 1, 1, 2),\n",
       "       ('1265899', 4, 1, 1,  1,  2,    1, 3, 1, 1, 2),\n",
       "       ('1268766', 1, 1, 1,  1,  2,    1, 1, 1, 1, 2),\n",
       "       ('1277268', 3, 3, 1,  1,  2,    1, 1, 1, 1, 2),\n",
       "       ('1295508', 1, 1, 1,  1,  2,    4, 1, 1, 1, 2),\n",
       "       ('1297327', 5, 1, 1,  1,  2,    1, 1, 1, 1, 2),\n",
       "       ('1297522', 2, 1, 1,  1,  2,    1, 1, 1, 1, 2),\n",
       "       ('1298360', 1, 1, 1,  1,  2,    1, 1, 1, 1, 2),\n",
       "       ('1299924', 5, 1, 1,  1,  2,    1, 2, 1, 1, 2),\n",
       "       ('1299994', 5, 1, 1,  1,  2,    1, 1, 1, 1, 2),\n",
       "       ('1304595', 3, 1, 1,  1,  1,    1, 2, 1, 1, 2),\n",
       "       ('1320077', 1, 1, 1,  1,  1,    1, 1, 1, 1, 2),\n",
       "       ('1320077', 1, 1, 1,  1,  1,    1, 2, 1, 1, 2),\n",
       "       ('1320304', 3, 1, 2,  2,  2,    1, 1, 1, 1, 2),\n",
       "       ('333093', 1, 1, 1,  1,  3,    1, 1, 1, 1, 2),\n",
       "       ('369565', 4, 1, 1,  1,  3,    1, 1, 1, 1, 2),\n",
       "       ('749653', 3, 1, 1,  1,  2,    1, 2, 1, 1, 2),\n",
       "       ('769612', 3, 1, 1,  2,  2,    1, 1, 1, 1, 2),\n",
       "       ('769612', 4, 1, 1,  1,  2,    1, 1, 1, 1, 2),\n",
       "       ('798429', 4, 1, 1,  1,  2,    1, 3, 1, 1, 2),\n",
       "       ('807657', 6, 1, 3,  2,  2,    1, 1, 1, 1, 2),\n",
       "       ('8233704', 4, 1, 1,  1,  1,    1, 2, 1, 1, 2),\n",
       "       ('867392', 4, 2, 2,  1,  2,    1, 2, 1, 1, 2),\n",
       "       ('869828', 1, 1, 1,  1,  1,    1, 3, 1, 1, 2),\n",
       "       ('1043068', 3, 1, 1,  1,  2,    1, 2, 1, 1, 2),\n",
       "       ('1056171', 2, 1, 1,  1,  2,    1, 2, 1, 1, 2),\n",
       "       ('1061990', 1, 1, 3,  2,  2,    1, 3, 1, 1, 2),\n",
       "       ('1113061', 5, 1, 1,  1,  2,    1, 3, 1, 1, 2),\n",
       "       ('1116192', 5, 1, 2,  1,  2,    1, 3, 1, 1, 2),\n",
       "       ('1135090', 4, 1, 1,  1,  2,    1, 2, 1, 1, 2),\n",
       "       ('1145420', 6, 1, 1,  1,  2,    1, 2, 1, 1, 2),\n",
       "       ('1158157', 5, 1, 1,  1,  2,    2, 2, 1, 1, 2),\n",
       "       ('1171578', 3, 1, 1,  1,  2,    1, 1, 1, 1, 2),\n",
       "       ('1174841', 5, 3, 1,  1,  2,    1, 1, 1, 1, 2),\n",
       "       ('1184586', 4, 1, 1,  1,  2,    1, 2, 1, 1, 2),\n",
       "       ('1186936', 2, 1, 3,  2,  2,    1, 2, 1, 1, 2),\n",
       "       ('1197527', 5, 1, 1,  1,  2,    1, 2, 1, 1, 2),\n",
       "       ('1240603', 2, 1, 1,  1,  1,    1, 1, 1, 1, 2),\n",
       "       ('1240603', 3, 1, 1,  1,  1,    1, 1, 1, 1, 2),\n",
       "       ('1287971', 3, 1, 1,  1,  2,    1, 2, 1, 1, 2),\n",
       "       ('1289391', 1, 1, 1,  1,  2,    1, 3, 1, 1, 2),\n",
       "       ('1299924', 3, 2, 2,  2,  2,    1, 4, 2, 1, 2),\n",
       "       ('1306339', 4, 4, 2,  1,  2,    5, 2, 1, 2, 2),\n",
       "       ('1313658', 3, 1, 1,  1,  2,    1, 1, 1, 1, 2),\n",
       "       ('1313982', 4, 3, 1,  1,  2,    1, 4, 8, 1, 2),\n",
       "       ('1321264', 5, 2, 2,  2,  1,    1, 2, 1, 1, 2),\n",
       "       ('1321321', 5, 1, 1,  3,  2,    1, 1, 1, 1, 2),\n",
       "       ('1321348', 2, 1, 1,  1,  2,    1, 2, 1, 1, 2),\n",
       "       ('1321931', 5, 1, 1,  1,  2,    1, 2, 1, 1, 2),\n",
       "       ('1321942', 5, 1, 1,  1,  2,    1, 3, 1, 1, 2),\n",
       "       ('1321942', 5, 1, 1,  1,  2,    1, 3, 1, 1, 2),\n",
       "       ('1328331', 1, 1, 1,  1,  2,    1, 3, 1, 1, 2),\n",
       "       ('1328755', 3, 1, 1,  1,  2,    1, 2, 1, 1, 2),\n",
       "       ('1331405', 4, 1, 1,  1,  2,    1, 3, 2, 1, 2),\n",
       "       ('1333104', 3, 1, 2,  1,  2,    1, 3, 1, 1, 2),\n",
       "       ('1334071', 4, 1, 1,  1,  2,    3, 2, 1, 1, 2),\n",
       "       ('183936', 3, 1, 1,  1,  2,    1, 2, 1, 1, 2),\n",
       "       ('324382', 1, 1, 1,  1,  2,    1, 2, 1, 1, 2),\n",
       "       ('385103', 5, 1, 2,  1,  2,    1, 3, 1, 1, 2),\n",
       "       ('690557', 5, 1, 1,  1,  2,    1, 2, 1, 1, 2),\n",
       "       ('695091', 1, 1, 1,  1,  2,    1, 2, 1, 1, 2),\n",
       "       ('695219', 1, 1, 1,  1,  2,    1, 2, 1, 1, 2),\n",
       "       ('824249', 1, 1, 1,  1,  2,    1, 3, 1, 1, 2),\n",
       "       ('871549', 5, 1, 2,  1,  2,    1, 2, 1, 1, 2),\n",
       "       ('1115762', 3, 1, 1,  1,  2,    1, 1, 1, 1, 2),\n",
       "       ('1217717', 5, 1, 1,  6,  3,    1, 1, 1, 1, 2),\n",
       "       ('1239420', 1, 1, 1,  1,  2,    1, 1, 1, 1, 2),\n",
       "       ('1261751', 5, 1, 1,  1,  2,    1, 2, 2, 1, 2),\n",
       "       ('1272166', 5, 1, 1,  1,  2,    1, 1, 1, 1, 2),\n",
       "       ('1311875', 5, 1, 2,  1,  2,    1, 1, 1, 1, 2),\n",
       "       ('1320141', 5, 1, 1,  1,  2,    1, 2, 1, 1, 2),\n",
       "       ('1325309', 4, 1, 2,  1,  2,    1, 2, 1, 1, 2),\n",
       "       ('1333063', 5, 1, 3,  1,  2,    1, 3, 1, 1, 2),\n",
       "       ('1333495', 3, 1, 1,  1,  2,    1, 2, 1, 1, 2),\n",
       "       ('1334659', 5, 2, 4,  1,  1,    1, 1, 1, 1, 2),\n",
       "       ('1336798', 3, 1, 1,  1,  2,    1, 2, 1, 1, 2),\n",
       "       ('1344449', 1, 1, 1,  1,  1,    1, 2, 1, 1, 2),\n",
       "       ('1350568', 4, 1, 1,  1,  2,    1, 2, 1, 1, 2),\n",
       "       ('353098', 4, 1, 1,  2,  2,    1, 1, 1, 1, 2),\n",
       "       ('411453', 1, 1, 1,  1,  2,    1, 1, 1, 1, 2),\n",
       "       ('636375', 5, 1, 1,  1,  2,    1, 1, 1, 1, 2),\n",
       "       ('1016634', 2, 3, 1,  1,  2,    1, 2, 1, 1, 2),\n",
       "       ('1031608', 2, 1, 1,  1,  1,    1, 2, 1, 1, 2),\n",
       "       ('1041043', 4, 1, 3,  1,  2,    1, 2, 1, 1, 2),\n",
       "       ('1042252', 3, 1, 1,  1,  2,    1, 2, 1, 1, 2),\n",
       "       ('1057067', 1, 1, 1,  1,  1, -999, 1, 1, 1, 2),\n",
       "       ('1061990', 4, 1, 1,  1,  2,    1, 2, 1, 1, 2),\n",
       "       ('1073836', 5, 1, 1,  1,  2,    1, 2, 1, 1, 2),\n",
       "       ('1083817', 3, 1, 1,  1,  2,    1, 2, 1, 1, 2),\n",
       "       ('1096352', 6, 3, 3,  3,  3,    2, 6, 1, 1, 2),\n",
       "       ('1140597', 7, 1, 2,  3,  2,    1, 2, 1, 1, 2),\n",
       "       ('1149548', 1, 1, 1,  1,  2,    1, 1, 1, 1, 2),\n",
       "       ('1174009', 5, 1, 1,  2,  1,    1, 2, 1, 1, 2),\n",
       "       ('1183596', 3, 1, 3,  1,  3,    4, 1, 1, 1, 2),\n",
       "       ('1190546', 2, 1, 1,  1,  2,    5, 1, 1, 1, 2),\n",
       "       ('1213273', 2, 1, 1,  1,  2,    1, 1, 1, 1, 2),\n",
       "       ('1218982', 4, 1, 1,  1,  2,    1, 1, 1, 1, 2),\n",
       "       ('1225382', 6, 2, 3,  1,  2,    1, 1, 1, 1, 2),\n",
       "       ('1235807', 5, 1, 1,  1,  2,    1, 2, 1, 1, 2),\n",
       "       ('1238777', 1, 1, 1,  1,  2,    1, 1, 1, 1, 2),\n",
       "       ('1257366', 3, 1, 1,  1,  2,    1, 1, 1, 1, 2),\n",
       "       ('1260659', 3, 1, 4,  1,  2,    1, 1, 1, 1, 2),\n",
       "       ('1275807', 4, 2, 4,  3,  2,    2, 2, 1, 1, 2),\n",
       "       ('1277792', 4, 1, 1,  1,  2,    1, 1, 1, 1, 2),\n",
       "       ('1277792', 5, 1, 1,  3,  2,    1, 1, 1, 1, 2),\n",
       "       ('1285722', 4, 1, 1,  3,  2,    1, 1, 1, 1, 2),\n",
       "       ('1288608', 3, 1, 1,  1,  2,    1, 2, 1, 1, 2),\n",
       "       ('1290203', 3, 1, 1,  1,  2,    1, 2, 1, 1, 2),\n",
       "       ('1294413', 1, 1, 1,  1,  2,    1, 1, 1, 1, 2),\n",
       "       ('1299596', 2, 1, 1,  1,  2,    1, 1, 1, 1, 2),\n",
       "       ('1303489', 3, 1, 1,  1,  2,    1, 2, 1, 1, 2),\n",
       "       ('1311033', 1, 2, 2,  1,  2,    1, 1, 1, 1, 2),\n",
       "       ('1311108', 1, 1, 1,  3,  2,    1, 1, 1, 1, 2),\n",
       "       ('1318671', 3, 1, 1,  1,  2,    1, 2, 1, 1, 2),\n",
       "       ('1319609', 3, 1, 1,  2,  3,    4, 1, 1, 1, 2),\n",
       "       ('1323477', 1, 2, 1,  3,  2,    1, 2, 1, 1, 2),\n",
       "       ('1324572', 5, 1, 1,  1,  2,    1, 2, 2, 1, 2),\n",
       "       ('1324681', 4, 1, 1,  1,  2,    1, 2, 1, 1, 2),\n",
       "       ('1325159', 3, 1, 1,  1,  2,    1, 3, 1, 1, 2),\n",
       "       ('1326892', 3, 1, 1,  1,  2,    1, 2, 1, 1, 2),\n",
       "       ('1330361', 5, 1, 1,  1,  2,    1, 2, 1, 1, 2),\n",
       "       ('1333877', 5, 4, 5,  1,  8,    1, 3, 6, 1, 2),\n",
       "       ('1334667', 1, 1, 1,  1,  2,    1, 1, 1, 1, 2),\n",
       "       ('1339781', 1, 1, 1,  1,  2,    1, 2, 1, 1, 2),\n",
       "       ('1339781', 4, 1, 1,  1,  2,    1, 3, 1, 1, 2),\n",
       "       ('13454352', 1, 1, 3,  1,  2,    1, 2, 1, 1, 2),\n",
       "       ('1345452', 1, 1, 3,  1,  2,    1, 2, 1, 1, 2),\n",
       "       ('1345593', 3, 1, 1,  3,  2,    1, 2, 1, 1, 2),\n",
       "       ('1347749', 1, 1, 1,  1,  2,    1, 1, 1, 1, 2),\n",
       "       ('1347943', 5, 2, 2,  2,  2,    1, 1, 1, 2, 2),\n",
       "       ('1348851', 3, 1, 1,  1,  2,    1, 3, 1, 1, 2),\n",
       "       ('1353092', 3, 2, 1,  2,  2,    1, 3, 1, 1, 2),\n",
       "       ('1354840', 2, 1, 1,  1,  2,    1, 3, 1, 1, 2),\n",
       "       ('1354840', 5, 3, 2,  1,  3,    1, 1, 1, 1, 2),\n",
       "       ('1355260', 1, 1, 1,  1,  2,    1, 2, 1, 1, 2),\n",
       "       ('1365075', 4, 1, 4,  1,  2,    1, 1, 1, 1, 2),\n",
       "       ('1365328', 1, 1, 2,  1,  2,    1, 2, 1, 1, 2),\n",
       "       ('1368267', 5, 1, 1,  1,  2,    1, 1, 1, 1, 2),\n",
       "       ('1368273', 1, 1, 1,  1,  2,    1, 1, 1, 1, 2),\n",
       "       ('1368882', 2, 1, 1,  1,  2,    1, 1, 1, 1, 2),\n",
       "       ('1371920', 5, 1, 1,  1,  2,    1, 3, 2, 1, 2),\n",
       "       ('466906', 1, 1, 1,  1,  2,    1, 1, 1, 1, 2),\n",
       "       ('466906', 1, 1, 1,  1,  2,    1, 1, 1, 1, 2),\n",
       "       ('534555', 1, 1, 1,  1,  2,    1, 1, 1, 1, 2),\n",
       "       ('536708', 1, 1, 1,  1,  2,    1, 1, 1, 1, 2),\n",
       "       ('566346', 3, 1, 1,  1,  2,    1, 2, 3, 1, 2),\n",
       "       ('603148', 4, 1, 1,  1,  2,    1, 1, 1, 1, 2),\n",
       "       ('654546', 1, 1, 1,  1,  2,    1, 1, 1, 8, 2),\n",
       "       ('654546', 1, 1, 1,  3,  2,    1, 1, 1, 1, 2),\n",
       "       ('714039', 3, 1, 1,  1,  2,    1, 1, 1, 1, 2),\n",
       "       ('763235', 3, 1, 1,  1,  2,    1, 2, 1, 2, 2),\n",
       "       ('776715', 3, 1, 1,  1,  3,    2, 1, 1, 1, 2),\n",
       "       ('841769', 2, 1, 1,  1,  2,    1, 1, 1, 1, 2)],\n",
       "      dtype=[('SCN', '<U8'), ('thickness', '<i8'), ('sizeu', '<i8'), ('shapeu', '<i8'), ('adhesion', '<i8'), ('csize', '<i8'), ('bare', '<i8'), ('blandchrom', '<i8'), ('normncl', '<i8'), ('mitoses', '<i8'), ('cclass', '<i8')])"
      ]
     },
     "execution_count": 131,
     "metadata": {},
     "output_type": "execute_result"
    }
   ],
   "source": [
    "data[data['cclass'] == 2]"
   ]
  },
  {
   "cell_type": "markdown",
   "metadata": {
    "slideshow": {
     "slide_type": "slide"
    }
   },
   "source": [
    "## Importing data using Pandas"
   ]
  },
  {
   "cell_type": "code",
   "execution_count": 132,
   "metadata": {
    "colab": {},
    "colab_type": "code",
    "id": "XHxUk-h-pDNU",
    "slideshow": {
     "slide_type": "fragment"
    }
   },
   "outputs": [],
   "source": [
    "pdata = pd.read_csv(data_url, names=data.dtype.names)"
   ]
  },
  {
   "cell_type": "code",
   "execution_count": 133,
   "metadata": {
    "colab": {},
    "colab_type": "code",
    "id": "S3u4ptEkrie3",
    "slideshow": {
     "slide_type": "fragment"
    }
   },
   "outputs": [
    {
     "data": {
      "text/plain": [
       "Index(['SCN', 'thickness', 'sizeu', 'shapeu', 'adhesion', 'csize', 'bare',\n",
       "       'blandchrom', 'normncl', 'mitoses', 'cclass'],\n",
       "      dtype='object')"
      ]
     },
     "execution_count": 133,
     "metadata": {},
     "output_type": "execute_result"
    }
   ],
   "source": [
    "pdata.columns"
   ]
  },
  {
   "cell_type": "code",
   "execution_count": 134,
   "metadata": {
    "colab": {},
    "colab_type": "code",
    "id": "5s14fUsHqUkZ",
    "slideshow": {
     "slide_type": "fragment"
    }
   },
   "outputs": [
    {
     "data": {
      "text/plain": [
       "SCN           1057013\n",
       "thickness           8\n",
       "sizeu               4\n",
       "shapeu              5\n",
       "adhesion            1\n",
       "csize               2\n",
       "bare                ?\n",
       "blandchrom          7\n",
       "normncl             3\n",
       "mitoses             1\n",
       "cclass              4\n",
       "Name: 23, dtype: object"
      ]
     },
     "execution_count": 134,
     "metadata": {},
     "output_type": "execute_result"
    }
   ],
   "source": [
    "pdata.iloc[23]"
   ]
  },
  {
   "cell_type": "code",
   "execution_count": null,
   "metadata": {},
   "outputs": [],
   "source": [
    "pdata[['SCN', 'thickness', 'cclass']]"
   ]
  },
  {
   "cell_type": "markdown",
   "metadata": {
    "colab_type": "text",
    "id": "1uYEGVcmQCi3",
    "slideshow": {
     "slide_type": "slide"
    }
   },
   "source": [
    "## Plotting data"
   ]
  },
  {
   "cell_type": "code",
   "execution_count": null,
   "metadata": {
    "slideshow": {
     "slide_type": "skip"
    }
   },
   "outputs": [],
   "source": [
    "plt.ion()  # Make it interactive"
   ]
  },
  {
   "cell_type": "code",
   "execution_count": null,
   "metadata": {
    "slideshow": {
     "slide_type": "skip"
    }
   },
   "outputs": [],
   "source": [
    "plt.ioff()"
   ]
  },
  {
   "cell_type": "code",
   "execution_count": 135,
   "metadata": {
    "colab": {},
    "colab_type": "code",
    "id": "LPPpV3uzQCi5",
    "slideshow": {
     "slide_type": "fragment"
    }
   },
   "outputs": [
    {
     "data": {
      "text/plain": [
       "[<matplotlib.lines.Line2D at 0x7fa607f88ba8>]"
      ]
     },
     "execution_count": 135,
     "metadata": {},
     "output_type": "execute_result"
    },
    {
     "data": {
      "image/png": "[encoded data removed]",
      "text/plain": [
       "<Figure size 432x288 with 1 Axes>"
      ]
     },
     "metadata": {
      "needs_background": "light"
     },
     "output_type": "display_data"
    }
   ],
   "source": [
    "plt.plot(data['thickness'])"
   ]
  },
  {
   "cell_type": "code",
   "execution_count": null,
   "metadata": {
    "slideshow": {
     "slide_type": "skip"
    }
   },
   "outputs": [],
   "source": [
    "plt.show()"
   ]
  },
  {
   "cell_type": "code",
   "execution_count": 136,
   "metadata": {
    "colab": {},
    "colab_type": "code",
    "id": "l_V2N0HNQCi7",
    "slideshow": {
     "slide_type": "subslide"
    }
   },
   "outputs": [
    {
     "data": {
      "text/plain": [
       "[<matplotlib.lines.Line2D at 0x7fa607e810f0>]"
      ]
     },
     "execution_count": 136,
     "metadata": {},
     "output_type": "execute_result"
    },
    {
     "data": {
      "image/png": "[encoded data removed]",
      "text/plain": [
       "<Figure size 432x288 with 1 Axes>"
      ]
     },
     "metadata": {
      "needs_background": "light"
     },
     "output_type": "display_data"
    }
   ],
   "source": [
    "plt.plot(data['thickness'], 'o')"
   ]
  },
  {
   "cell_type": "code",
   "execution_count": 137,
   "metadata": {
    "colab": {},
    "colab_type": "code",
    "id": "aAh6TnVAQCi-",
    "slideshow": {
     "slide_type": "subslide"
    }
   },
   "outputs": [
    {
     "data": {
      "text/plain": [
       "[<matplotlib.lines.Line2D at 0x7fa607de2cf8>]"
      ]
     },
     "execution_count": 137,
     "metadata": {},
     "output_type": "execute_result"
    },
    {
     "data": {
      "image/png": "[encoded data removed]",
      "text/plain": [
       "<Figure size 432x288 with 1 Axes>"
      ]
     },
     "metadata": {
      "needs_background": "light"
     },
     "output_type": "display_data"
    }
   ],
   "source": [
    "plt.plot(data['thickness'], data['csize'], 'o')"
   ]
  },
  {
   "cell_type": "code",
   "execution_count": 138,
   "metadata": {
    "colab": {},
    "colab_type": "code",
    "id": "2hPZ0_YKQCjC",
    "slideshow": {
     "slide_type": "subslide"
    }
   },
   "outputs": [
    {
     "data": {
      "text/plain": [
       "[<matplotlib.lines.Line2D at 0x7fa607dc2400>]"
      ]
     },
     "execution_count": 138,
     "metadata": {},
     "output_type": "execute_result"
    },
    {
     "data": {
      "image/png": "[encoded data removed]",
      "text/plain": [
       "<Figure size 432x288 with 1 Axes>"
      ]
     },
     "metadata": {
      "needs_background": "light"
     },
     "output_type": "display_data"
    }
   ],
   "source": [
    "plt.plot(data['sizeu'], data['csize'], 'ro')"
   ]
  },
  {
   "cell_type": "code",
   "execution_count": 139,
   "metadata": {
    "colab": {},
    "colab_type": "code",
    "id": "P3HcwOC8QCjH",
    "slideshow": {
     "slide_type": "subslide"
    }
   },
   "outputs": [
    {
     "data": {
      "text/plain": [
       "[<matplotlib.lines.Line2D at 0x7fa607d19a58>]"
      ]
     },
     "execution_count": 139,
     "metadata": {},
     "output_type": "execute_result"
    },
    {
     "data": {
      "image/png": "[encoded data removed]",
      "text/plain": [
       "<Figure size 432x288 with 1 Axes>"
      ]
     },
     "metadata": {
      "needs_background": "light"
     },
     "output_type": "display_data"
    }
   ],
   "source": [
    "plt.plot(data['mitoses'], data['csize'], 'go-')"
   ]
  },
  {
   "cell_type": "code",
   "execution_count": 140,
   "metadata": {
    "colab": {},
    "colab_type": "code",
    "id": "9il5dxjzQCjN",
    "slideshow": {
     "slide_type": "subslide"
    }
   },
   "outputs": [
    {
     "data": {
      "text/plain": [
       "(array([ 47., 386.,  72.,  48.,  39.,  41.,  12.,  21.,   2.,  31.]),\n",
       " array([ 1. ,  1.9,  2.8,  3.7,  4.6,  5.5,  6.4,  7.3,  8.2,  9.1, 10. ]),\n",
       " <a list of 10 Patch objects>)"
      ]
     },
     "execution_count": 140,
     "metadata": {},
     "output_type": "execute_result"
    },
    {
     "data": {
      "image/png": "[encoded data removed]",
      "text/plain": [
       "<Figure size 432x288 with 1 Axes>"
      ]
     },
     "metadata": {
      "needs_background": "light"
     },
     "output_type": "display_data"
    }
   ],
   "source": [
    "plt.hist(data['csize'])"
   ]
  },
  {
   "cell_type": "markdown",
   "metadata": {
    "slideshow": {
     "slide_type": "subslide"
    }
   },
   "source": [
    "#### Box plots - apply selection criterion"
   ]
  },
  {
   "cell_type": "code",
   "execution_count": 141,
   "metadata": {
    "slideshow": {
     "slide_type": "fragment"
    }
   },
   "outputs": [
    {
     "data": {
      "text/plain": [
       "dtype([('SCN', '<U8'), ('thickness', '<i8'), ('sizeu', '<i8'), ('shapeu', '<i8'), ('adhesion', '<i8'), ('csize', '<i8'), ('bare', '<i8'), ('blandchrom', '<i8'), ('normncl', '<i8'), ('mitoses', '<i8'), ('cclass', '<i8')])"
      ]
     },
     "execution_count": 141,
     "metadata": {},
     "output_type": "execute_result"
    }
   ],
   "source": [
    "data.dtype"
   ]
  },
  {
   "cell_type": "code",
   "execution_count": 143,
   "metadata": {
    "colab": {},
    "colab_type": "code",
    "id": "gQYbaNG5lgbj",
    "slideshow": {
     "slide_type": "fragment"
    }
   },
   "outputs": [
    {
     "data": {
      "image/png": "[encoded data removed]",
      "text/plain": [
       "<Figure size 432x288 with 1 Axes>"
      ]
     },
     "metadata": {
      "needs_background": "light"
     },
     "output_type": "display_data"
    }
   ],
   "source": [
    "x = plt.boxplot([data['thickness'][data['cclass'] == 2], data['thickness'][data['cclass'] == 4]])"
   ]
  },
  {
   "cell_type": "markdown",
   "metadata": {
    "colab_type": "text",
    "id": "-ZL1AaCqrln7",
    "slideshow": {
     "slide_type": "slide"
    }
   },
   "source": [
    "### Adding legend"
   ]
  },
  {
   "cell_type": "code",
   "execution_count": 144,
   "metadata": {
    "colab": {},
    "colab_type": "code",
    "id": "PjGjre4cF73H",
    "slideshow": {
     "slide_type": "fragment"
    }
   },
   "outputs": [
    {
     "data": {
      "text/plain": [
       "<matplotlib.legend.Legend at 0x7fa607b73be0>"
      ]
     },
     "execution_count": 144,
     "metadata": {},
     "output_type": "execute_result"
    },
    {
     "data": {
      "image/png": "[encoded data removed]",
      "text/plain": [
       "<Figure size 432x288 with 1 Axes>"
      ]
     },
     "metadata": {
      "needs_background": "light"
     },
     "output_type": "display_data"
    }
   ],
   "source": [
    "plt.plot(data['cclass'], data['sizeu'], 'ro', label='Size')\n",
    "plt.plot(data['cclass'], data['thickness'], 'gv', label='thickness')\n",
    "plt.legend()"
   ]
  },
  {
   "cell_type": "markdown",
   "metadata": {
    "slideshow": {
     "slide_type": "subslide"
    }
   },
   "source": [
    "### Add a little jitter and transparency"
   ]
  },
  {
   "cell_type": "code",
   "execution_count": 145,
   "metadata": {
    "colab": {},
    "colab_type": "code",
    "id": "PjGjre4cF73H",
    "slideshow": {
     "slide_type": "fragment"
    }
   },
   "outputs": [
    {
     "data": {
      "text/plain": [
       "<matplotlib.legend.Legend at 0x7fa607adda58>"
      ]
     },
     "execution_count": 145,
     "metadata": {},
     "output_type": "execute_result"
    },
    {
     "data": {
      "image/png": "[encoded data removed]",
      "text/plain": [
       "<Figure size 432x288 with 1 Axes>"
      ]
     },
     "metadata": {
      "needs_background": "light"
     },
     "output_type": "display_data"
    }
   ],
   "source": [
    "plt.plot(data['cclass']+np.random.rand(data.shape[0]), data['sizeu'], 'r.', alpha=0.5, label='Size')\n",
    "plt.plot(data['cclass']+np.random.rand(data.shape[0]), data['thickness'], 'g.', alpha=0.5, label='thickness')\n",
    "plt.legend()"
   ]
  },
  {
   "cell_type": "markdown",
   "metadata": {
    "colab_type": "text",
    "id": "YSs2LPXIlE7Q",
    "slideshow": {
     "slide_type": "slide"
    }
   },
   "source": [
    "### Subplots\n"
   ]
  },
  {
   "cell_type": "code",
   "execution_count": 147,
   "metadata": {
    "colab": {},
    "colab_type": "code",
    "id": "vwDCkxqzGLBh",
    "slideshow": {
     "slide_type": "fragment"
    }
   },
   "outputs": [
    {
     "data": {
      "image/png": "[encoded data removed]",
      "text/plain": [
       "<Figure size 432x288 with 4 Axes>"
      ]
     },
     "metadata": {
      "needs_background": "light"
     },
     "output_type": "display_data"
    }
   ],
   "source": [
    "ax0 = plt.subplot(2, 2, 1)\n",
    "ax1 = plt.subplot(2, 2, 2)\n",
    "ax2 = plt.subplot(2, 2, 3)\n",
    "ax3 = plt.subplot(2, 2, 4)\n",
    "\n",
    "ax0.plot(data['cclass']+np.random.rand(data.shape[0]), data['sizeu'], 'r.', alpha=0.5, label='Size')\n",
    "ax1.boxplot([data['sizeu'][data['cclass'] == 2], data['sizeu'][data['cclass'] == 4]])\n",
    "ax2.plot(data['cclass']+np.random.rand(data.shape[0]), data['thickness'], 'r.', alpha=0.5, label='Size')\n",
    "tmp = ax3.boxplot([data['thickness'][data['cclass'] == 2], data['thickness'][data['cclass'] == 4]])"
   ]
  },
  {
   "cell_type": "markdown",
   "metadata": {
    "colab_type": "text",
    "id": "eImgMXAPGAnd",
    "slideshow": {
     "slide_type": "skip"
    }
   },
   "source": [
    "#### Sharing axis scales between subplots"
   ]
  },
  {
   "cell_type": "code",
   "execution_count": null,
   "metadata": {
    "colab": {},
    "colab_type": "code",
    "id": "waOjl4quGaZ0",
    "slideshow": {
     "slide_type": "skip"
    }
   },
   "outputs": [],
   "source": [
    "ax0 = plt.subplot(2, 2, 1)\n",
    "ax1 = plt.subplot(2, 2, 2, sharey=ax0)"
   ]
  },
  {
   "cell_type": "code",
   "execution_count": null,
   "metadata": {
    "colab": {},
    "colab_type": "code",
    "id": "dnj7LrDCGqHg",
    "slideshow": {
     "slide_type": "skip"
    }
   },
   "outputs": [],
   "source": [
    "fig, ax = plt.subplots(nrows=2, ncols=2, sharey='row')"
   ]
  },
  {
   "cell_type": "markdown",
   "metadata": {
    "colab_type": "text",
    "id": "SS78DuAMlGAb",
    "slideshow": {
     "slide_type": "skip"
    }
   },
   "source": [
    "### Layout control"
   ]
  },
  {
   "cell_type": "markdown",
   "metadata": {
    "colab_type": "text",
    "id": "gTmO0M32lUiZ",
    "slideshow": {
     "slide_type": "slide"
    }
   },
   "source": [
    "### Further information on plotting\n",
    " - See https://matplotlib.org/gallery.html"
   ]
  },
  {
   "cell_type": "markdown",
   "metadata": {
    "colab_type": "text",
    "id": "qGiAbiMwmd8B",
    "slideshow": {
     "slide_type": "slide"
    }
   },
   "source": [
    "### Other useful libraries\n",
    "  1. Multidimensional arrays with complex data and metadata: `xarray`\n",
    "  1. Statistics: `statsmodels`\n",
    "  1. Broad range of basic functions in science and engineering: `scipy`\n",
    "  1. Image-processing: `PIL`, `opencv`, `imagej`"
   ]
  },
  {
   "cell_type": "markdown",
   "metadata": {
    "colab_type": "text",
    "id": "qGiAbiMwmd8B",
    "slideshow": {
     "slide_type": "slide"
    }
   },
   "source": [
    "  5. Machine learning: `scikits-learn (sklearn)`\n",
    "  1. Network analysis: `networkx`, `igraph`\n",
    "  1. Graphical User Interface (GUI): `PyQT`, `ipywidgets`\n",
    "  1. Efficient plotting: `pyqtgraph`"
   ]
  },
  {
   "cell_type": "markdown",
   "metadata": {
    "slideshow": {
     "slide_type": "slide"
    }
   },
   "source": [
    "# Thank you"
   ]
  }
 ],
 "metadata": {
  "celltoolbar": "Slideshow",
  "colab": {
   "collapsed_sections": [],
   "include_colab_link": true,
   "name": "Wisconsin_breast_cancer_data.ipynb",
   "private_outputs": true,
   "provenance": [],
   "version": "0.3.2"
  },
  "kernelspec": {
   "display_name": "Python 3",
   "language": "python",
   "name": "python3"
  },
  "language_info": {
   "codemirror_mode": {
    "name": "ipython",
    "version": 3
   },
   "file_extension": ".py",
   "mimetype": "text/x-python",
   "name": "python",
   "nbconvert_exporter": "python",
   "pygments_lexer": "ipython3",
   "version": "3.7.3"
  }
 },
 "nbformat": 4,
 "nbformat_minor": 1
}
